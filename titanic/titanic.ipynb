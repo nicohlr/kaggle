{
 "cells": [
  {
   "cell_type": "markdown",
   "metadata": {
    "_uuid": "5adae90bcaed7a0bf4725a7c82fa216e8099f7bd"
   },
   "source": [
    "# Titanic : Machine Learning from Disaster"
   ]
  },
  {
   "cell_type": "markdown",
   "metadata": {
    "_uuid": "25b5c0086ed0b380daec0b2b378f21d7f09b0ae7"
   },
   "source": [
    "In this notebook, we are going to create an algorithm which will predict  if a passenger of the titanic survived or not. This algorithm will learn from train dataset and then it will predict if each passenger of the test dataset survived. \n",
    "\n",
    "The plan to do that is the following one :\n",
    "\n",
    "1. Exploration of data\n",
    "2. Features engineering\n",
    "3. Cross validation testing of the model\n",
    "4. Prediction on test data & submission on kaggle"
   ]
  },
  {
   "cell_type": "markdown",
   "metadata": {
    "_uuid": "36ce2f5c196e4773aff267a85a1a908b92c6168f"
   },
   "source": [
    "## Imports and useful functions"
   ]
  },
  {
   "cell_type": "code",
   "execution_count": 6,
   "metadata": {
    "_cell_guid": "b1076dfc-b9ad-4769-8c92-a6c4dae69d19",
    "_uuid": "8f2839f25d086af736a60e9eeb907d3b93b6e0e5"
   },
   "outputs": [],
   "source": [
    "import pandas as pd\n",
    "import matplotlib\n",
    "import pydot\n",
    "import os\n",
    "\n",
    "%matplotlib inline\n",
    "import matplotlib\n",
    "import matplotlib.pyplot as plt\n",
    "plt.rcParams['axes.labelsize'] = 14\n",
    "plt.rcParams['xtick.labelsize'] = 12\n",
    "plt.rcParams['ytick.labelsize'] = 12\n",
    "\n",
    "import numpy as np\n",
    "import sklearn\n",
    "import seaborn as sns\n",
    "\n",
    "# Ignore warnings\n",
    "import warnings\n",
    "warnings.filterwarnings('ignore')\n",
    "\n",
    "from sklearn import metrics\n",
    "from sklearn.linear_model import LogisticRegression\n",
    "from sklearn.ensemble import RandomForestClassifier\n",
    "from sklearn.tree import export_graphviz, DecisionTreeClassifier\n",
    "from sklearn.preprocessing import StandardScaler"
   ]
  },
  {
   "cell_type": "code",
   "execution_count": 7,
   "metadata": {
    "_cell_guid": "79c7e3d0-c299-4dcb-8224-4455121ee9b0",
    "_uuid": "d629ff2d2480ee46fbb7e2d37f6b5fab8052498a"
   },
   "outputs": [],
   "source": [
    "#path of datasets\n",
    "path_train = os.path.join(os.path.dirname(os.path.abspath('__file__')), 'datasets/train.csv')\n",
    "path_test = os.path.join(os.path.dirname(os.path.abspath('__file__')), 'datasets/test.csv')\n",
    "\n",
    "def display_confusion_matrix(sample_test, prediction, score=None):\n",
    "    cm = metrics.confusion_matrix(sample_test, prediction)\n",
    "    plt.figure(figsize=(9,9))\n",
    "    sns.heatmap(cm, annot=True, fmt=\".3f\", linewidths=.5, square=True, cmap='Blues_r')\n",
    "    plt.ylabel('Actual label')\n",
    "    plt.xlabel('Predicted label')\n",
    "    if score:\n",
    "        all_sample_title = 'Accuracy Score: {0}'.format(score)\n",
    "        plt.title(all_sample_title, size = 15)\n",
    "    print(metrics.classification_report(sample_test, prediction))\n",
    "    \n",
    "def visualize_tree(tree, feature_names):\n",
    "    \"\"\"Create tree png using graphviz\"\"\"\n",
    "    with open(\"dt.dot\", 'w') as f:\n",
    "        export_graphviz(tree, out_file=f,\n",
    "                        feature_names=feature_names)\n",
    "\n",
    "    command = [\"dot\", \"-Tpng\", \"dt.dot\", \"-o\", \"dt.png\"]\n",
    "    try:\n",
    "        subprocess.check_call(command)\n",
    "    except:\n",
    "        exit(\"Could not run dot, ie graphviz, to \"\n",
    "             \"produce visualization\")\n",
    "        \n",
    "# Create table for missing data analysis\n",
    "def draw_missing_data_table(df):\n",
    "    total = df.isnull().sum().sort_values(ascending=False)\n",
    "    percent = (df.isnull().sum()/df.isnull().count()).sort_values(ascending=False)\n",
    "    missing_data = pd.concat([total, percent], axis=1, keys=['Total', 'Percent'])\n",
    "    return missing_data\n",
    "\n",
    "# Function with standardize a dataframe by setting mean to 0 and var to 1\n",
    "def standardize(df, target=None, categorical=None):\n",
    "    \n",
    "    standardize_df = df\n",
    "    \n",
    "    if target:\n",
    "        target_serie = standardize_df[target] # Separating out the target before standardizing\n",
    "        standardize_df = standardize_df.drop([target],  axis=1)\n",
    "    \n",
    "    if categorical:\n",
    "        cat_serie = standardize_df[categorical] # Separating out categorical feature(s) before standardizing\n",
    "        standardize_df = standardize_df.drop([categorical],  axis=1)\n",
    "\n",
    "    # Standardizing the features\n",
    "    scaled_values = StandardScaler().fit_transform(standardize_df.values)\n",
    "    standardize_df = pd.DataFrame(scaled_values, index=standardize_df.index, columns=standardize_df.columns)\n",
    "    \n",
    "    if target:\n",
    "        standardize_df = standardize_df.join(target_serie)\n",
    "        \n",
    "    if categorical:\n",
    "        standardize_df = standardize_df.join(cat_serie)\n",
    "    \n",
    "    return standardize_df"
   ]
  },
  {
   "cell_type": "markdown",
   "metadata": {
    "_uuid": "789084c52a3741a4bdab8c1feff3bbf81be5fc8d"
   },
   "source": [
    "## 1. Data exploration"
   ]
  },
  {
   "cell_type": "code",
   "execution_count": 8,
   "metadata": {
    "_uuid": "87e46869bf36e52e65b540541789129ee6aed3d8"
   },
   "outputs": [
    {
     "data": {
      "text/html": [
       "<div>\n",
       "<style scoped>\n",
       "    .dataframe tbody tr th:only-of-type {\n",
       "        vertical-align: middle;\n",
       "    }\n",
       "\n",
       "    .dataframe tbody tr th {\n",
       "        vertical-align: top;\n",
       "    }\n",
       "\n",
       "    .dataframe thead th {\n",
       "        text-align: right;\n",
       "    }\n",
       "</style>\n",
       "<table border=\"1\" class=\"dataframe\">\n",
       "  <thead>\n",
       "    <tr style=\"text-align: right;\">\n",
       "      <th></th>\n",
       "      <th>PassengerId</th>\n",
       "      <th>Survived</th>\n",
       "      <th>Pclass</th>\n",
       "      <th>Name</th>\n",
       "      <th>Sex</th>\n",
       "      <th>Age</th>\n",
       "      <th>SibSp</th>\n",
       "      <th>Parch</th>\n",
       "      <th>Ticket</th>\n",
       "      <th>Fare</th>\n",
       "      <th>Cabin</th>\n",
       "      <th>Embarked</th>\n",
       "    </tr>\n",
       "  </thead>\n",
       "  <tbody>\n",
       "    <tr>\n",
       "      <th>0</th>\n",
       "      <td>1</td>\n",
       "      <td>0</td>\n",
       "      <td>3</td>\n",
       "      <td>Braund, Mr. Owen Harris</td>\n",
       "      <td>male</td>\n",
       "      <td>22.0</td>\n",
       "      <td>1</td>\n",
       "      <td>0</td>\n",
       "      <td>A/5 21171</td>\n",
       "      <td>7.2500</td>\n",
       "      <td>NaN</td>\n",
       "      <td>S</td>\n",
       "    </tr>\n",
       "    <tr>\n",
       "      <th>1</th>\n",
       "      <td>2</td>\n",
       "      <td>1</td>\n",
       "      <td>1</td>\n",
       "      <td>Cumings, Mrs. John Bradley (Florence Briggs Th...</td>\n",
       "      <td>female</td>\n",
       "      <td>38.0</td>\n",
       "      <td>1</td>\n",
       "      <td>0</td>\n",
       "      <td>PC 17599</td>\n",
       "      <td>71.2833</td>\n",
       "      <td>C85</td>\n",
       "      <td>C</td>\n",
       "    </tr>\n",
       "    <tr>\n",
       "      <th>2</th>\n",
       "      <td>3</td>\n",
       "      <td>1</td>\n",
       "      <td>3</td>\n",
       "      <td>Heikkinen, Miss. Laina</td>\n",
       "      <td>female</td>\n",
       "      <td>26.0</td>\n",
       "      <td>0</td>\n",
       "      <td>0</td>\n",
       "      <td>STON/O2. 3101282</td>\n",
       "      <td>7.9250</td>\n",
       "      <td>NaN</td>\n",
       "      <td>S</td>\n",
       "    </tr>\n",
       "    <tr>\n",
       "      <th>3</th>\n",
       "      <td>4</td>\n",
       "      <td>1</td>\n",
       "      <td>1</td>\n",
       "      <td>Futrelle, Mrs. Jacques Heath (Lily May Peel)</td>\n",
       "      <td>female</td>\n",
       "      <td>35.0</td>\n",
       "      <td>1</td>\n",
       "      <td>0</td>\n",
       "      <td>113803</td>\n",
       "      <td>53.1000</td>\n",
       "      <td>C123</td>\n",
       "      <td>S</td>\n",
       "    </tr>\n",
       "    <tr>\n",
       "      <th>4</th>\n",
       "      <td>5</td>\n",
       "      <td>0</td>\n",
       "      <td>3</td>\n",
       "      <td>Allen, Mr. William Henry</td>\n",
       "      <td>male</td>\n",
       "      <td>35.0</td>\n",
       "      <td>0</td>\n",
       "      <td>0</td>\n",
       "      <td>373450</td>\n",
       "      <td>8.0500</td>\n",
       "      <td>NaN</td>\n",
       "      <td>S</td>\n",
       "    </tr>\n",
       "  </tbody>\n",
       "</table>\n",
       "</div>"
      ],
      "text/plain": [
       "   PassengerId  Survived  Pclass  \\\n",
       "0            1         0       3   \n",
       "1            2         1       1   \n",
       "2            3         1       3   \n",
       "3            4         1       1   \n",
       "4            5         0       3   \n",
       "\n",
       "                                                Name     Sex   Age  SibSp  \\\n",
       "0                            Braund, Mr. Owen Harris    male  22.0      1   \n",
       "1  Cumings, Mrs. John Bradley (Florence Briggs Th...  female  38.0      1   \n",
       "2                             Heikkinen, Miss. Laina  female  26.0      0   \n",
       "3       Futrelle, Mrs. Jacques Heath (Lily May Peel)  female  35.0      1   \n",
       "4                           Allen, Mr. William Henry    male  35.0      0   \n",
       "\n",
       "   Parch            Ticket     Fare Cabin Embarked  \n",
       "0      0         A/5 21171   7.2500   NaN        S  \n",
       "1      0          PC 17599  71.2833   C85        C  \n",
       "2      0  STON/O2. 3101282   7.9250   NaN        S  \n",
       "3      0            113803  53.1000  C123        S  \n",
       "4      0            373450   8.0500   NaN        S  "
      ]
     },
     "execution_count": 8,
     "metadata": {},
     "output_type": "execute_result"
    }
   ],
   "source": [
    "#create dataframe for training dataset and print ten first rows as preview\n",
    "train_df_raw = pd.read_csv(path_train)\n",
    "train_df_raw.head()"
   ]
  },
  {
   "cell_type": "code",
   "execution_count": 9,
   "metadata": {
    "_uuid": "996505836b43d054f175c48e2229993930d6de3d"
   },
   "outputs": [
    {
     "data": {
      "text/html": [
       "<div>\n",
       "<style scoped>\n",
       "    .dataframe tbody tr th:only-of-type {\n",
       "        vertical-align: middle;\n",
       "    }\n",
       "\n",
       "    .dataframe tbody tr th {\n",
       "        vertical-align: top;\n",
       "    }\n",
       "\n",
       "    .dataframe thead th {\n",
       "        text-align: right;\n",
       "    }\n",
       "</style>\n",
       "<table border=\"1\" class=\"dataframe\">\n",
       "  <thead>\n",
       "    <tr style=\"text-align: right;\">\n",
       "      <th></th>\n",
       "      <th>PassengerId</th>\n",
       "      <th>Survived</th>\n",
       "      <th>Pclass</th>\n",
       "      <th>Age</th>\n",
       "      <th>SibSp</th>\n",
       "      <th>Parch</th>\n",
       "      <th>Fare</th>\n",
       "    </tr>\n",
       "  </thead>\n",
       "  <tbody>\n",
       "    <tr>\n",
       "      <th>count</th>\n",
       "      <td>891.000000</td>\n",
       "      <td>891.000000</td>\n",
       "      <td>891.000000</td>\n",
       "      <td>714.000000</td>\n",
       "      <td>891.000000</td>\n",
       "      <td>891.000000</td>\n",
       "      <td>891.000000</td>\n",
       "    </tr>\n",
       "    <tr>\n",
       "      <th>mean</th>\n",
       "      <td>446.000000</td>\n",
       "      <td>0.383838</td>\n",
       "      <td>2.308642</td>\n",
       "      <td>29.699118</td>\n",
       "      <td>0.523008</td>\n",
       "      <td>0.381594</td>\n",
       "      <td>32.204208</td>\n",
       "    </tr>\n",
       "    <tr>\n",
       "      <th>std</th>\n",
       "      <td>257.353842</td>\n",
       "      <td>0.486592</td>\n",
       "      <td>0.836071</td>\n",
       "      <td>14.526497</td>\n",
       "      <td>1.102743</td>\n",
       "      <td>0.806057</td>\n",
       "      <td>49.693429</td>\n",
       "    </tr>\n",
       "    <tr>\n",
       "      <th>min</th>\n",
       "      <td>1.000000</td>\n",
       "      <td>0.000000</td>\n",
       "      <td>1.000000</td>\n",
       "      <td>0.420000</td>\n",
       "      <td>0.000000</td>\n",
       "      <td>0.000000</td>\n",
       "      <td>0.000000</td>\n",
       "    </tr>\n",
       "    <tr>\n",
       "      <th>25%</th>\n",
       "      <td>223.500000</td>\n",
       "      <td>0.000000</td>\n",
       "      <td>2.000000</td>\n",
       "      <td>20.125000</td>\n",
       "      <td>0.000000</td>\n",
       "      <td>0.000000</td>\n",
       "      <td>7.910400</td>\n",
       "    </tr>\n",
       "    <tr>\n",
       "      <th>50%</th>\n",
       "      <td>446.000000</td>\n",
       "      <td>0.000000</td>\n",
       "      <td>3.000000</td>\n",
       "      <td>28.000000</td>\n",
       "      <td>0.000000</td>\n",
       "      <td>0.000000</td>\n",
       "      <td>14.454200</td>\n",
       "    </tr>\n",
       "    <tr>\n",
       "      <th>75%</th>\n",
       "      <td>668.500000</td>\n",
       "      <td>1.000000</td>\n",
       "      <td>3.000000</td>\n",
       "      <td>38.000000</td>\n",
       "      <td>1.000000</td>\n",
       "      <td>0.000000</td>\n",
       "      <td>31.000000</td>\n",
       "    </tr>\n",
       "    <tr>\n",
       "      <th>max</th>\n",
       "      <td>891.000000</td>\n",
       "      <td>1.000000</td>\n",
       "      <td>3.000000</td>\n",
       "      <td>80.000000</td>\n",
       "      <td>8.000000</td>\n",
       "      <td>6.000000</td>\n",
       "      <td>512.329200</td>\n",
       "    </tr>\n",
       "  </tbody>\n",
       "</table>\n",
       "</div>"
      ],
      "text/plain": [
       "       PassengerId    Survived      Pclass         Age       SibSp  \\\n",
       "count   891.000000  891.000000  891.000000  714.000000  891.000000   \n",
       "mean    446.000000    0.383838    2.308642   29.699118    0.523008   \n",
       "std     257.353842    0.486592    0.836071   14.526497    1.102743   \n",
       "min       1.000000    0.000000    1.000000    0.420000    0.000000   \n",
       "25%     223.500000    0.000000    2.000000   20.125000    0.000000   \n",
       "50%     446.000000    0.000000    3.000000   28.000000    0.000000   \n",
       "75%     668.500000    1.000000    3.000000   38.000000    1.000000   \n",
       "max     891.000000    1.000000    3.000000   80.000000    8.000000   \n",
       "\n",
       "            Parch        Fare  \n",
       "count  891.000000  891.000000  \n",
       "mean     0.381594   32.204208  \n",
       "std      0.806057   49.693429  \n",
       "min      0.000000    0.000000  \n",
       "25%      0.000000    7.910400  \n",
       "50%      0.000000   14.454200  \n",
       "75%      0.000000   31.000000  \n",
       "max      6.000000  512.329200  "
      ]
     },
     "execution_count": 9,
     "metadata": {},
     "output_type": "execute_result"
    }
   ],
   "source": [
    "# Compute some basical statistics on the dataset\n",
    "train_df_raw.describe()"
   ]
  },
  {
   "cell_type": "code",
   "execution_count": 10,
   "metadata": {
    "_uuid": "fef3c1d1492d727777d1504d8617e4e87f111aa3"
   },
   "outputs": [
    {
     "name": "stdout",
     "output_type": "stream",
     "text": [
      "<class 'pandas.core.frame.DataFrame'>\n",
      "RangeIndex: 891 entries, 0 to 890\n",
      "Data columns (total 12 columns):\n",
      "PassengerId    891 non-null int64\n",
      "Survived       891 non-null int64\n",
      "Pclass         891 non-null int64\n",
      "Name           891 non-null object\n",
      "Sex            891 non-null object\n",
      "Age            714 non-null float64\n",
      "SibSp          891 non-null int64\n",
      "Parch          891 non-null int64\n",
      "Ticket         891 non-null object\n",
      "Fare           891 non-null float64\n",
      "Cabin          204 non-null object\n",
      "Embarked       889 non-null object\n",
      "dtypes: float64(2), int64(5), object(5)\n",
      "memory usage: 83.6+ KB\n"
     ]
    }
   ],
   "source": [
    "train_df_raw.info()"
   ]
  },
  {
   "cell_type": "code",
   "execution_count": 11,
   "metadata": {
    "_uuid": "acd9bb6a9386a83128d7a8787e5c42ef2f5b2c90"
   },
   "outputs": [
    {
     "data": {
      "text/html": [
       "<div>\n",
       "<style scoped>\n",
       "    .dataframe tbody tr th:only-of-type {\n",
       "        vertical-align: middle;\n",
       "    }\n",
       "\n",
       "    .dataframe tbody tr th {\n",
       "        vertical-align: top;\n",
       "    }\n",
       "\n",
       "    .dataframe thead th {\n",
       "        text-align: right;\n",
       "    }\n",
       "</style>\n",
       "<table border=\"1\" class=\"dataframe\">\n",
       "  <thead>\n",
       "    <tr style=\"text-align: right;\">\n",
       "      <th></th>\n",
       "      <th>Total</th>\n",
       "      <th>Percent</th>\n",
       "    </tr>\n",
       "  </thead>\n",
       "  <tbody>\n",
       "    <tr>\n",
       "      <th>Cabin</th>\n",
       "      <td>687</td>\n",
       "      <td>0.771044</td>\n",
       "    </tr>\n",
       "    <tr>\n",
       "      <th>Age</th>\n",
       "      <td>177</td>\n",
       "      <td>0.198653</td>\n",
       "    </tr>\n",
       "    <tr>\n",
       "      <th>Embarked</th>\n",
       "      <td>2</td>\n",
       "      <td>0.002245</td>\n",
       "    </tr>\n",
       "    <tr>\n",
       "      <th>Fare</th>\n",
       "      <td>0</td>\n",
       "      <td>0.000000</td>\n",
       "    </tr>\n",
       "    <tr>\n",
       "      <th>Ticket</th>\n",
       "      <td>0</td>\n",
       "      <td>0.000000</td>\n",
       "    </tr>\n",
       "    <tr>\n",
       "      <th>Parch</th>\n",
       "      <td>0</td>\n",
       "      <td>0.000000</td>\n",
       "    </tr>\n",
       "    <tr>\n",
       "      <th>SibSp</th>\n",
       "      <td>0</td>\n",
       "      <td>0.000000</td>\n",
       "    </tr>\n",
       "    <tr>\n",
       "      <th>Sex</th>\n",
       "      <td>0</td>\n",
       "      <td>0.000000</td>\n",
       "    </tr>\n",
       "    <tr>\n",
       "      <th>Name</th>\n",
       "      <td>0</td>\n",
       "      <td>0.000000</td>\n",
       "    </tr>\n",
       "    <tr>\n",
       "      <th>Pclass</th>\n",
       "      <td>0</td>\n",
       "      <td>0.000000</td>\n",
       "    </tr>\n",
       "    <tr>\n",
       "      <th>Survived</th>\n",
       "      <td>0</td>\n",
       "      <td>0.000000</td>\n",
       "    </tr>\n",
       "    <tr>\n",
       "      <th>PassengerId</th>\n",
       "      <td>0</td>\n",
       "      <td>0.000000</td>\n",
       "    </tr>\n",
       "  </tbody>\n",
       "</table>\n",
       "</div>"
      ],
      "text/plain": [
       "             Total   Percent\n",
       "Cabin          687  0.771044\n",
       "Age            177  0.198653\n",
       "Embarked         2  0.002245\n",
       "Fare             0  0.000000\n",
       "Ticket           0  0.000000\n",
       "Parch            0  0.000000\n",
       "SibSp            0  0.000000\n",
       "Sex              0  0.000000\n",
       "Name             0  0.000000\n",
       "Pclass           0  0.000000\n",
       "Survived         0  0.000000\n",
       "PassengerId      0  0.000000"
      ]
     },
     "execution_count": 11,
     "metadata": {},
     "output_type": "execute_result"
    }
   ],
   "source": [
    "draw_missing_data_table(train_df_raw)"
   ]
  },
  {
   "cell_type": "markdown",
   "metadata": {
    "_uuid": "b549fc22c8c19a09c1d347c101a337fabf79562a"
   },
   "source": [
    "There is 77% of missing data in the cabin column, it's way too much for this column to be exploitable, so we'll remove it from the dataframe. For the age, we will either interpolate missing values or we will fill it with the median. There is only two missing values for the embarked column, let's replace them by the most recurrent value of Embarqued variable :"
   ]
  },
  {
   "cell_type": "code",
   "execution_count": 12,
   "metadata": {
    "_uuid": "3ca9ea1a78543bed5ccd2f931747bdc5a97f9c2f"
   },
   "outputs": [
    {
     "data": {
      "text/plain": [
       "S    644\n",
       "C    168\n",
       "Q     77\n",
       "Name: Embarked, dtype: int64"
      ]
     },
     "execution_count": 12,
     "metadata": {},
     "output_type": "execute_result"
    }
   ],
   "source": [
    "train_df_raw['Embarked'].value_counts()"
   ]
  },
  {
   "cell_type": "code",
   "execution_count": 13,
   "metadata": {
    "_uuid": "191dd9ee84b0dcdd283b71bfc53e84f8d49f60da"
   },
   "outputs": [
    {
     "data": {
      "image/png": "[encoded data removed]",
      "text/plain": [
       "<Figure size 1440x1080 with 6 Axes>"
      ]
     },
     "metadata": {},
     "output_type": "display_data"
    }
   ],
   "source": [
    "# Let's plot some histograms to have a previzualisation of some of the data ...\n",
    "train_df_raw.drop(['PassengerId'], 1).hist(bins=50, figsize=(20,15))\n",
    "plt.show()"
   ]
  },
  {
   "cell_type": "markdown",
   "metadata": {
    "_uuid": "840c201359244d09dbcd378dafd8ebf0a42427c5"
   },
   "source": [
    "With this first exploration, we can see that :\n",
    "\n",
    "* Only aproximately 35% of passengers survived ...\n",
    "* More than the half of passengers are in the lowest class (pclass = 3)\n",
    "* Most of the fare tickets are below 50\n",
    "* Majority of passengers are alone (sibsp and parch)"
   ]
  },
  {
   "cell_type": "markdown",
   "metadata": {
    "_uuid": "c86c5e54aeeb83b785747f2cdd7d276a694b691c"
   },
   "source": [
    "## 2. Features engineering"
   ]
  },
  {
   "cell_type": "code",
   "execution_count": 14,
   "metadata": {
    "_uuid": "e1cfd800c2f51bbb7a04f1c390e8f5647ef7becf"
   },
   "outputs": [],
   "source": [
    "def preprocess_data(df):\n",
    "    \n",
    "    processed_df = df\n",
    "    \n",
    "    # Drop useless columns\n",
    "    processed_df = processed_df.drop(['PassengerId'], 1)\n",
    "    \n",
    "    # Deal with missing values\n",
    "    processed_df['Embarked'].fillna('S', inplace=True)\n",
    "    processed_df['Age'].fillna(processed_df['Age'].mean(), inplace=True)\n",
    "    processed_df['Fare'] = processed_df['Fare'].interpolate()\n",
    "    processed_df['Cabin'].fillna('U0', inplace=True)\n",
    "    \n",
    "    # feature engineering on columns\n",
    "    processed_df['Title'] = pd.Series((name.split('.')[0].split(',')[1].strip() for name in train_df_raw['Name']), index=train_df_raw.index)\n",
    "    processed_df['Title'] = processed_df['Title'].replace('the Countess', 'Mrs')\n",
    "    processed_df['Title'] = processed_df['Title'].replace('Lady', 'Mrs')\n",
    "    processed_df['Title'] = processed_df['Title'].replace('Mme', 'Mrs')\n",
    "    processed_df['Title'] = processed_df['Title'].replace('Mlle', 'Miss')\n",
    "    processed_df['Title'] = processed_df['Title'].replace('Don', 'Mr')\n",
    "    processed_df['Title'] = processed_df['Title'].replace('Col', 'Master')\n",
    "    processed_df['Title'] = processed_df['Title'].replace('Major', 'Master')\n",
    "    processed_df['Title'] = processed_df['Title'].replace('Sir', 'Mr')\n",
    "    processed_df['Title'] = processed_df['Title'].replace('Capt', 'Mr')\n",
    "    processed_df['Title'] = processed_df['Title'].replace('Ms', 'Miss')\n",
    "    processed_df['Title'] = processed_df['Title'].replace('Jonkheer', 'Mr')\n",
    "    processed_df = processed_df.drop(['Name'], 1)\n",
    "    processed_df = pd.get_dummies(processed_df, columns=['Title'])\n",
    "    processed_df = pd.get_dummies(processed_df, columns=['Sex'])\n",
    "    processed_df = pd.get_dummies(processed_df, columns=['Embarked'])\n",
    "    processed_df['Familly'] = processed_df['SibSp'] + processed_df['Parch']\n",
    "    \n",
    "    # Modify the ticket column to keep only the ticket number\n",
    "    ticket_numbers = list()\n",
    "    for ticket in processed_df['Ticket']:\n",
    "        try:\n",
    "            ticket_numbers.append(int(ticket))\n",
    "        except ValueError:\n",
    "            splitted = ticket.split(' ')\n",
    "            if len(splitted) == 1:\n",
    "                ticket_numbers.append(0)\n",
    "            else:\n",
    "                ticket_numbers.append(int(splitted[len(splitted)-1]))\n",
    "    processed_df['Ticket'] = pd.Series(ticket_numbers, index=df.index)\n",
    "    \n",
    "    #Creation of a deck column corresponding to the letter contained in the cabin value\n",
    "    processed_df['Deck'] = pd.Series(([cab[:1] for cab in processed_df['Cabin']]), index=processed_df.index)\n",
    "    processed_df['Deck'] = processed_df['Deck'].replace('T', 'U')\n",
    "    processed_df = pd.get_dummies(processed_df, columns=['Deck'])\n",
    "\n",
    "    #cabin_numbers = list()\n",
    "    #for cab3 in df['Cabin']:\n",
    "    #    if len(cab3) != 1:\n",
    "    #        cabin_numbers.append(int(cab3[1:].strip()) if len(cab3[1:]) <= 3 else int(cab3[len(cab3)-2:].strip()))\n",
    "    #    else:\n",
    "    #        cabin_numbers.append(0)\n",
    "    # df['Cabin'] = pd.Series(cabin_numbers, index=df.index)\n",
    "    \n",
    "    processed_df = processed_df.drop(['Cabin'], 1)    \n",
    "    \n",
    "    return processed_df"
   ]
  },
  {
   "cell_type": "markdown",
   "metadata": {
    "_uuid": "75a781ff2a645d7a68489debed35e4e8e71a5b7e"
   },
   "source": [
    "## 3. Cross validation of model on train dataset"
   ]
  },
  {
   "cell_type": "code",
   "execution_count": 27,
   "metadata": {
    "_uuid": "5938ee5f0e21505fe0766caceab370c3be0cfd3f"
   },
   "outputs": [
    {
     "data": {
      "text/html": [
       "<div>\n",
       "<style scoped>\n",
       "    .dataframe tbody tr th:only-of-type {\n",
       "        vertical-align: middle;\n",
       "    }\n",
       "\n",
       "    .dataframe tbody tr th {\n",
       "        vertical-align: top;\n",
       "    }\n",
       "\n",
       "    .dataframe thead th {\n",
       "        text-align: right;\n",
       "    }\n",
       "</style>\n",
       "<table border=\"1\" class=\"dataframe\">\n",
       "  <thead>\n",
       "    <tr style=\"text-align: right;\">\n",
       "      <th></th>\n",
       "      <th>Pclass</th>\n",
       "      <th>Age</th>\n",
       "      <th>SibSp</th>\n",
       "      <th>Parch</th>\n",
       "      <th>Ticket</th>\n",
       "      <th>Fare</th>\n",
       "      <th>Title_Dr</th>\n",
       "      <th>Title_Master</th>\n",
       "      <th>Title_Miss</th>\n",
       "      <th>Title_Mr</th>\n",
       "      <th>...</th>\n",
       "      <th>Embarked_S</th>\n",
       "      <th>Familly</th>\n",
       "      <th>Deck_A</th>\n",
       "      <th>Deck_B</th>\n",
       "      <th>Deck_C</th>\n",
       "      <th>Deck_D</th>\n",
       "      <th>Deck_E</th>\n",
       "      <th>Deck_F</th>\n",
       "      <th>Deck_G</th>\n",
       "      <th>Deck_U</th>\n",
       "    </tr>\n",
       "  </thead>\n",
       "  <tbody>\n",
       "    <tr>\n",
       "      <th>445</th>\n",
       "      <td>-1.637881</td>\n",
       "      <td>-1.940356e+00</td>\n",
       "      <td>-0.474161</td>\n",
       "      <td>1.998853</td>\n",
       "      <td>-0.410072</td>\n",
       "      <td>0.980998</td>\n",
       "      <td>-0.080387</td>\n",
       "      <td>4.228332</td>\n",
       "      <td>-0.508513</td>\n",
       "      <td>-1.205303</td>\n",
       "      <td>...</td>\n",
       "      <td>0.600218</td>\n",
       "      <td>0.599443</td>\n",
       "      <td>7.829432</td>\n",
       "      <td>-0.232692</td>\n",
       "      <td>-0.265418</td>\n",
       "      <td>-0.172488</td>\n",
       "      <td>-0.195789</td>\n",
       "      <td>-0.134067</td>\n",
       "      <td>-0.069561</td>\n",
       "      <td>-1.874698</td>\n",
       "    </tr>\n",
       "    <tr>\n",
       "      <th>650</th>\n",
       "      <td>0.803267</td>\n",
       "      <td>2.729423e-16</td>\n",
       "      <td>-0.474161</td>\n",
       "      <td>-0.479327</td>\n",
       "      <td>0.050131</td>\n",
       "      <td>-0.469634</td>\n",
       "      <td>-0.080387</td>\n",
       "      <td>-0.236500</td>\n",
       "      <td>-0.508513</td>\n",
       "      <td>0.829667</td>\n",
       "      <td>...</td>\n",
       "      <td>0.600218</td>\n",
       "      <td>-0.556758</td>\n",
       "      <td>-0.127723</td>\n",
       "      <td>-0.232692</td>\n",
       "      <td>-0.265418</td>\n",
       "      <td>-0.172488</td>\n",
       "      <td>-0.195789</td>\n",
       "      <td>-0.134067</td>\n",
       "      <td>-0.069561</td>\n",
       "      <td>0.533419</td>\n",
       "    </tr>\n",
       "    <tr>\n",
       "      <th>172</th>\n",
       "      <td>0.803267</td>\n",
       "      <td>-2.170835e+00</td>\n",
       "      <td>0.348687</td>\n",
       "      <td>0.759763</td>\n",
       "      <td>0.047974</td>\n",
       "      <td>-0.406136</td>\n",
       "      <td>-0.080387</td>\n",
       "      <td>-0.236500</td>\n",
       "      <td>1.966517</td>\n",
       "      <td>-1.205303</td>\n",
       "      <td>...</td>\n",
       "      <td>0.600218</td>\n",
       "      <td>0.599443</td>\n",
       "      <td>-0.127723</td>\n",
       "      <td>-0.232692</td>\n",
       "      <td>-0.265418</td>\n",
       "      <td>-0.172488</td>\n",
       "      <td>-0.195789</td>\n",
       "      <td>-0.134067</td>\n",
       "      <td>-0.069561</td>\n",
       "      <td>0.533419</td>\n",
       "    </tr>\n",
       "    <tr>\n",
       "      <th>450</th>\n",
       "      <td>-0.417307</td>\n",
       "      <td>5.180904e-01</td>\n",
       "      <td>0.348687</td>\n",
       "      <td>1.998853</td>\n",
       "      <td>-0.408594</td>\n",
       "      <td>-0.080232</td>\n",
       "      <td>-0.080387</td>\n",
       "      <td>-0.236500</td>\n",
       "      <td>-0.508513</td>\n",
       "      <td>0.829667</td>\n",
       "      <td>...</td>\n",
       "      <td>0.600218</td>\n",
       "      <td>1.177544</td>\n",
       "      <td>-0.127723</td>\n",
       "      <td>-0.232692</td>\n",
       "      <td>-0.265418</td>\n",
       "      <td>-0.172488</td>\n",
       "      <td>-0.195789</td>\n",
       "      <td>-0.134067</td>\n",
       "      <td>-0.069561</td>\n",
       "      <td>0.533419</td>\n",
       "    </tr>\n",
       "    <tr>\n",
       "      <th>314</th>\n",
       "      <td>-0.417307</td>\n",
       "      <td>1.055876e+00</td>\n",
       "      <td>0.348687</td>\n",
       "      <td>0.759763</td>\n",
       "      <td>-0.439396</td>\n",
       "      <td>-0.109651</td>\n",
       "      <td>-0.080387</td>\n",
       "      <td>-0.236500</td>\n",
       "      <td>-0.508513</td>\n",
       "      <td>0.829667</td>\n",
       "      <td>...</td>\n",
       "      <td>0.600218</td>\n",
       "      <td>0.599443</td>\n",
       "      <td>-0.127723</td>\n",
       "      <td>-0.232692</td>\n",
       "      <td>-0.265418</td>\n",
       "      <td>-0.172488</td>\n",
       "      <td>-0.195789</td>\n",
       "      <td>-0.134067</td>\n",
       "      <td>-0.069561</td>\n",
       "      <td>0.533419</td>\n",
       "    </tr>\n",
       "  </tbody>\n",
       "</table>\n",
       "<p>5 rows × 26 columns</p>\n",
       "</div>"
      ],
      "text/plain": [
       "       Pclass           Age     SibSp     Parch    Ticket      Fare  Title_Dr  \\\n",
       "445 -1.637881 -1.940356e+00 -0.474161  1.998853 -0.410072  0.980998 -0.080387   \n",
       "650  0.803267  2.729423e-16 -0.474161 -0.479327  0.050131 -0.469634 -0.080387   \n",
       "172  0.803267 -2.170835e+00  0.348687  0.759763  0.047974 -0.406136 -0.080387   \n",
       "450 -0.417307  5.180904e-01  0.348687  1.998853 -0.408594 -0.080232 -0.080387   \n",
       "314 -0.417307  1.055876e+00  0.348687  0.759763 -0.439396 -0.109651 -0.080387   \n",
       "\n",
       "     Title_Master  Title_Miss  Title_Mr    ...     Embarked_S   Familly  \\\n",
       "445      4.228332   -0.508513 -1.205303    ...       0.600218  0.599443   \n",
       "650     -0.236500   -0.508513  0.829667    ...       0.600218 -0.556758   \n",
       "172     -0.236500    1.966517 -1.205303    ...       0.600218  0.599443   \n",
       "450     -0.236500   -0.508513  0.829667    ...       0.600218  1.177544   \n",
       "314     -0.236500   -0.508513  0.829667    ...       0.600218  0.599443   \n",
       "\n",
       "       Deck_A    Deck_B    Deck_C    Deck_D    Deck_E    Deck_F    Deck_G  \\\n",
       "445  7.829432 -0.232692 -0.265418 -0.172488 -0.195789 -0.134067 -0.069561   \n",
       "650 -0.127723 -0.232692 -0.265418 -0.172488 -0.195789 -0.134067 -0.069561   \n",
       "172 -0.127723 -0.232692 -0.265418 -0.172488 -0.195789 -0.134067 -0.069561   \n",
       "450 -0.127723 -0.232692 -0.265418 -0.172488 -0.195789 -0.134067 -0.069561   \n",
       "314 -0.127723 -0.232692 -0.265418 -0.172488 -0.195789 -0.134067 -0.069561   \n",
       "\n",
       "       Deck_U  \n",
       "445 -1.874698  \n",
       "650  0.533419  \n",
       "172  0.533419  \n",
       "450  0.533419  \n",
       "314  0.533419  \n",
       "\n",
       "[5 rows x 26 columns]"
      ]
     },
     "execution_count": 27,
     "metadata": {},
     "output_type": "execute_result"
    }
   ],
   "source": [
    "# Let's divide the train dataset in two datasets to evaluate perfomance of machine learning models used\n",
    "train_df = train_df_raw.copy()\n",
    "X_train = train_df.drop(['Survived'], 1)\n",
    "Y_train = train_df['Survived']\n",
    "\n",
    "# Split dataset for prediction\n",
    "X_train_sample_train, X_train_sample_test, Y_train_sample_train, Y_train_sample_test = sklearn.model_selection.train_test_split(X_train,\n",
    "                                                                                                                                Y_train, \n",
    "                                                                                                                                test_size=0.3, \n",
    "                                                                                                                                random_state=42)\n",
    "\n",
    "X_train_sample_train = preprocess_data(X_train_sample_train)\n",
    "X_train_sample_test = preprocess_data(X_train_sample_test)\n",
    "X_train_sample_train = standardize(X_train_sample_train)\n",
    "X_train_sample_test = standardize(X_train_sample_test)\n",
    "\n",
    "X_train_sample_train.head()"
   ]
  },
  {
   "cell_type": "markdown",
   "metadata": {
    "_uuid": "967eb31ccbac7df5e78acb6a972a0f8dda9568e2"
   },
   "source": [
    "### Try several models"
   ]
  },
  {
   "cell_type": "code",
   "execution_count": 28,
   "metadata": {
    "_uuid": "344101a216db654142f8a300ae6c4589ae4e839f"
   },
   "outputs": [
    {
     "name": "stdout",
     "output_type": "stream",
     "text": [
      "              precision    recall  f1-score   support\n",
      "\n",
      "           0       0.83      0.87      0.85       157\n",
      "           1       0.80      0.74      0.77       111\n",
      "\n",
      "   micro avg       0.82      0.82      0.82       268\n",
      "   macro avg       0.81      0.81      0.81       268\n",
      "weighted avg       0.82      0.82      0.82       268\n",
      "\n"
     ]
    },
    {
     "data": {
      "image/png": "[encoded data removed]",
      "text/plain": [
       "<Figure size 648x648 with 2 Axes>"
      ]
     },
     "metadata": {},
     "output_type": "display_data"
    }
   ],
   "source": [
    "# Create and train model on train data sample\n",
    "logisticRegr = LogisticRegression(random_state=42)\n",
    "logisticRegr.fit(X_train_sample_train, Y_train_sample_train)\n",
    "\n",
    "# Predict for test data sample\n",
    "logistic_prediction_train = logisticRegr.predict(X_train_sample_test)\n",
    "\n",
    "# Compute error between predicted data and true response and display it in confusion matrix\n",
    "score = metrics.accuracy_score(Y_train_sample_test, logistic_prediction_train)\n",
    "display_confusion_matrix(Y_train_sample_test, logistic_prediction_train, score=score)"
   ]
  },
  {
   "cell_type": "markdown",
   "metadata": {
    "_uuid": "7f1998fefff2a88597c6a1abefb0fe14b2f63d3f"
   },
   "source": [
    "This first simplest model seems to be already efficient ! But let's try a more complicated model !"
   ]
  },
  {
   "cell_type": "code",
   "execution_count": 29,
   "metadata": {
    "_uuid": "d2845e6bbc40cd5ba5bdad43c5b00609567f5ff4"
   },
   "outputs": [
    {
     "name": "stdout",
     "output_type": "stream",
     "text": [
      "              precision    recall  f1-score   support\n",
      "\n",
      "           0       0.82      0.89      0.85       157\n",
      "           1       0.82      0.72      0.77       111\n",
      "\n",
      "   micro avg       0.82      0.82      0.82       268\n",
      "   macro avg       0.82      0.80      0.81       268\n",
      "weighted avg       0.82      0.82      0.82       268\n",
      "\n"
     ]
    },
    {
     "data": {
      "image/png": "[encoded data removed]",
      "text/plain": [
       "<Figure size 648x648 with 2 Axes>"
      ]
     },
     "metadata": {},
     "output_type": "display_data"
    }
   ],
   "source": [
    "# Create and train model on train data sample\n",
    "dt = DecisionTreeClassifier(min_samples_split=15, min_samples_leaf=20, random_state=42)\n",
    "dt.fit(X_train_sample_train, Y_train_sample_train)\n",
    "\n",
    "# Predict for test data sample\n",
    "dt_prediction_train = dt.predict(X_train_sample_test)\n",
    "\n",
    "# Compute error between predicted data and true response and display it in confusion matrix\n",
    "score = metrics.accuracy_score(Y_train_sample_test, dt_prediction_train)\n",
    "display_confusion_matrix(Y_train_sample_test, dt_prediction_train, score=score)"
   ]
  },
  {
   "cell_type": "code",
   "execution_count": 30,
   "metadata": {
    "_uuid": "99d559c2f68bbf700452c822e8e352303e7e3991"
   },
   "outputs": [],
   "source": [
    "visualize_tree(dt, X_train_sample_test.columns)\n",
    "! dot -Tpng dt.dot > dt.png"
   ]
  },
  {
   "cell_type": "markdown",
   "metadata": {
    "_uuid": "677c9bb2fc42ad37029fbb02b85099a72283173c"
   },
   "source": [
    "![title](dt.png)"
   ]
  },
  {
   "cell_type": "markdown",
   "metadata": {
    "_uuid": "f788181ec9be94384121b08f2925f87e10eca6dc"
   },
   "source": [
    "We can now combine several of decision tree in a random forest to increase again the precision !["
   ]
  },
  {
   "cell_type": "code",
   "execution_count": 31,
   "metadata": {
    "_uuid": "f5a40cfda0a8d632ef1daf3476c6d474ee366ec1"
   },
   "outputs": [
    {
     "name": "stdout",
     "output_type": "stream",
     "text": [
      "              precision    recall  f1-score   support\n",
      "\n",
      "           0       0.83      0.90      0.86       157\n",
      "           1       0.84      0.74      0.78       111\n",
      "\n",
      "   micro avg       0.83      0.83      0.83       268\n",
      "   macro avg       0.83      0.82      0.82       268\n",
      "weighted avg       0.83      0.83      0.83       268\n",
      "\n"
     ]
    },
    {
     "data": {
      "image/png": "[encoded data removed]",
      "text/plain": [
       "<Figure size 648x648 with 2 Axes>"
      ]
     },
     "metadata": {},
     "output_type": "display_data"
    }
   ],
   "source": [
    "# Create and train model on train data sample\n",
    "rf = RandomForestClassifier(n_estimators=1000, max_depth=8, min_samples_leaf=2, random_state=42)\n",
    "rf.fit(X_train_sample_train, Y_train_sample_train)\n",
    "\n",
    "# Predict for test data sample\n",
    "rf_prediction_train = rf.predict(X_train_sample_test)\n",
    "\n",
    "# Compute error between predicted data and true response and display it in confusion matrix\n",
    "score = metrics.accuracy_score(Y_train_sample_test, rf_prediction_train)\n",
    "display_confusion_matrix(Y_train_sample_test, rf_prediction_train, score=score)"
   ]
  },
  {
   "cell_type": "markdown",
   "metadata": {
    "_uuid": "0b0465eee998452d0179d48f2dce49e4e624154f"
   },
   "source": [
    "Precision seems to be quite good ! Let's try to make a submission now !"
   ]
  },
  {
   "cell_type": "markdown",
   "metadata": {
    "_uuid": "06c3acf429d8d09968c07e8c1c06f88875bb62db"
   },
   "source": [
    "## 4. Apply on test dataset and submit on kaggle "
   ]
  },
  {
   "cell_type": "code",
   "execution_count": 20,
   "metadata": {
    "_uuid": "962229f11da6b327557f53e048f0a55068f6dc4a"
   },
   "outputs": [],
   "source": [
    "test_df_raw = pd.read_csv(path_test)\n",
    "test_df = test_df_raw.copy()\n",
    "X_test = preprocess_data(test_df)\n",
    "X_test = standardize(X_test)\n",
    "X_train = preprocess_data(X_train)\n",
    "X_train = standardize(X_train)"
   ]
  },
  {
   "cell_type": "code",
   "execution_count": 21,
   "metadata": {
    "_uuid": "499d60687a2a8ce30edbdf17e2f3ed89d7d9e7bc"
   },
   "outputs": [],
   "source": [
    "# Create and train model on train data sample\n",
    "model_test = RandomForestClassifier(n_estimators=1000, max_depth=8, min_samples_leaf=2, random_state=42)\n",
    "model_test.fit(X_train, Y_train)\n",
    "\n",
    "# Predict for test data sample\n",
    "model_test_prediction_test = model_test.predict(X_test)\n",
    "\n",
    "result_df = test_df_raw.copy()\n",
    "result_df['Survived'] = model_test_prediction_test\n",
    "result_df.to_csv('submission.csv', columns=['PassengerId', 'Survived'], index=False)"
   ]
  }
 ],
 "metadata": {
  "kernelspec": {
   "display_name": "Python 3",
   "language": "python",
   "name": "python3"
  },
  "language_info": {
   "codemirror_mode": {
    "name": "ipython",
    "version": 3
   },
   "file_extension": ".py",
   "mimetype": "text/x-python",
   "name": "python",
   "nbconvert_exporter": "python",
   "pygments_lexer": "ipython3",
   "version": "3.6.5"
  }
 },
 "nbformat": 4,
 "nbformat_minor": 2
}
