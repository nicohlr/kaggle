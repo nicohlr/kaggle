{
 "cells": [
  {
   "cell_type": "markdown",
   "metadata": {
    "_uuid": "5adae90bcaed7a0bf4725a7c82fa216e8099f7bd"
   },
   "source": [
    "# Titanic : Machine Learning from Disaster"
   ]
  },
  {
   "cell_type": "markdown",
   "metadata": {
    "_uuid": "25b5c0086ed0b380daec0b2b378f21d7f09b0ae7"
   },
   "source": [
    "In this notebook, we are going to create an algorithm which will predict  if a passenger of the titanic survived or not. This algorithm will learn from train dataset and then it will predict if each passenger of the test dataset survived. \n",
    "\n",
    "The plan to do that is the following one :\n",
    "\n",
    "1. Exploration of data\n",
    "2. Features engineering\n",
    "3. Cross validation testing of the model\n",
    "4. Prediction on test data & submission on kaggle"
   ]
  },
  {
   "cell_type": "markdown",
   "metadata": {
    "_uuid": "36ce2f5c196e4773aff267a85a1a908b92c6168f"
   },
   "source": [
    "## Imports and useful functions"
   ]
  },
  {
   "cell_type": "code",
   "execution_count": 1,
   "metadata": {
    "_cell_guid": "b1076dfc-b9ad-4769-8c92-a6c4dae69d19",
    "_uuid": "8f2839f25d086af736a60e9eeb907d3b93b6e0e5"
   },
   "outputs": [
    {
     "name": "stderr",
     "output_type": "stream",
     "text": [
      "Using TensorFlow backend.\n"
     ]
    }
   ],
   "source": [
    "import pandas as pd\n",
    "import matplotlib\n",
    "import pydot\n",
    "import re\n",
    "import os\n",
    "\n",
    "%matplotlib inline\n",
    "import matplotlib\n",
    "import matplotlib.pyplot as plt\n",
    "plt.rcParams['axes.labelsize'] = 14\n",
    "plt.rcParams['xtick.labelsize'] = 12\n",
    "plt.rcParams['ytick.labelsize'] = 12\n",
    "\n",
    "import numpy as np\n",
    "import sklearn\n",
    "import seaborn as sns\n",
    "\n",
    "# Ignore warnings\n",
    "import warnings\n",
    "warnings.filterwarnings('ignore')\n",
    "\n",
    "import keras\n",
    "from keras.models import Sequential\n",
    "from keras.layers import Dense, Dropout\n",
    "from keras.wrappers.scikit_learn import KerasClassifier\n",
    "\n",
    "from sklearn import metrics\n",
    "from sklearn.linear_model import LogisticRegression\n",
    "from sklearn.ensemble import RandomForestClassifier\n",
    "from sklearn.tree import export_graphviz, DecisionTreeClassifier\n",
    "from sklearn.preprocessing import StandardScaler\n",
    "from sklearn.model_selection import cross_val_score, train_test_split"
   ]
  },
  {
   "cell_type": "code",
   "execution_count": 2,
   "metadata": {
    "_cell_guid": "79c7e3d0-c299-4dcb-8224-4455121ee9b0",
    "_uuid": "d629ff2d2480ee46fbb7e2d37f6b5fab8052498a"
   },
   "outputs": [],
   "source": [
    "#path of datasets\n",
    "path_train = os.path.join(os.path.dirname(os.path.abspath('__file__')), 'datasets/train.csv')\n",
    "path_test = os.path.join(os.path.dirname(os.path.abspath('__file__')), 'datasets/test.csv')\n",
    "\n",
    "def display_confusion_matrix(sample_test, prediction, score=None):\n",
    "    cm = metrics.confusion_matrix(sample_test, prediction)\n",
    "    plt.figure(figsize=(9,9))\n",
    "    sns.heatmap(cm, annot=True, fmt=\".3f\", linewidths=.5, square=True, cmap='Blues_r')\n",
    "    plt.ylabel('Actual label')\n",
    "    plt.xlabel('Predicted label')\n",
    "    if score:\n",
    "        all_sample_title = 'Accuracy Score: {0}'.format(score)\n",
    "        plt.title(all_sample_title, size = 15)\n",
    "    print(metrics.classification_report(sample_test, prediction))\n",
    "    \n",
    "def visualize_tree(tree, feature_names):\n",
    "    \"\"\"Create tree png using graphviz\"\"\"\n",
    "    with open(\"dt.dot\", 'w') as f:\n",
    "        export_graphviz(tree, out_file=f,\n",
    "                        feature_names=feature_names)\n",
    "\n",
    "    command = [\"dot\", \"-Tpng\", \"dt.dot\", \"-o\", \"dt.png\"]\n",
    "    try:\n",
    "        subprocess.check_call(command)\n",
    "    except:\n",
    "        exit(\"Could not run dot, ie graphviz, to \"\n",
    "             \"produce visualization\")\n",
    "        \n",
    "# Create table for missing data analysis\n",
    "def draw_missing_data_table(df):\n",
    "    total = df.isnull().sum().sort_values(ascending=False)\n",
    "    percent = (df.isnull().sum()/df.isnull().count()).sort_values(ascending=False)\n",
    "    missing_data = pd.concat([total, percent], axis=1, keys=['Total', 'Percent'])\n",
    "    return missing_data\n",
    "\n",
    "# Function with standardize a dataframe by setting mean to 0 and var to 1\n",
    "def standardize(df, target=None, categorical=None):\n",
    "    \n",
    "    standardize_df = df\n",
    "    \n",
    "    if target:\n",
    "        target_serie = standardize_df[target] # Separating out the target before standardizing\n",
    "        standardize_df = standardize_df.drop([target],  axis=1)\n",
    "    \n",
    "    if categorical:\n",
    "        cat_serie = standardize_df[categorical] # Separating out categorical feature(s) before standardizing\n",
    "        standardize_df = standardize_df.drop([categorical],  axis=1)\n",
    "\n",
    "    # Standardizing the features\n",
    "    scaled_values = StandardScaler().fit_transform(standardize_df.values)\n",
    "    standardize_df = pd.DataFrame(scaled_values, index=standardize_df.index, columns=standardize_df.columns)\n",
    "    \n",
    "    if target:\n",
    "        standardize_df = standardize_df.join(target_serie)\n",
    "        \n",
    "    if categorical:\n",
    "        standardize_df = standardize_df.join(cat_serie)\n",
    "    \n",
    "    return standardize_df"
   ]
  },
  {
   "cell_type": "markdown",
   "metadata": {
    "_uuid": "789084c52a3741a4bdab8c1feff3bbf81be5fc8d"
   },
   "source": [
    "## 1. Data exploration"
   ]
  },
  {
   "cell_type": "code",
   "execution_count": 3,
   "metadata": {
    "_uuid": "87e46869bf36e52e65b540541789129ee6aed3d8"
   },
   "outputs": [
    {
     "data": {
      "text/html": [
       "<div>\n",
       "<style scoped>\n",
       "    .dataframe tbody tr th:only-of-type {\n",
       "        vertical-align: middle;\n",
       "    }\n",
       "\n",
       "    .dataframe tbody tr th {\n",
       "        vertical-align: top;\n",
       "    }\n",
       "\n",
       "    .dataframe thead th {\n",
       "        text-align: right;\n",
       "    }\n",
       "</style>\n",
       "<table border=\"1\" class=\"dataframe\">\n",
       "  <thead>\n",
       "    <tr style=\"text-align: right;\">\n",
       "      <th></th>\n",
       "      <th>PassengerId</th>\n",
       "      <th>Survived</th>\n",
       "      <th>Pclass</th>\n",
       "      <th>Name</th>\n",
       "      <th>Sex</th>\n",
       "      <th>Age</th>\n",
       "      <th>SibSp</th>\n",
       "      <th>Parch</th>\n",
       "      <th>Ticket</th>\n",
       "      <th>Fare</th>\n",
       "      <th>Cabin</th>\n",
       "      <th>Embarked</th>\n",
       "    </tr>\n",
       "  </thead>\n",
       "  <tbody>\n",
       "    <tr>\n",
       "      <th>0</th>\n",
       "      <td>1</td>\n",
       "      <td>0</td>\n",
       "      <td>3</td>\n",
       "      <td>Braund, Mr. Owen Harris</td>\n",
       "      <td>male</td>\n",
       "      <td>22.0</td>\n",
       "      <td>1</td>\n",
       "      <td>0</td>\n",
       "      <td>A/5 21171</td>\n",
       "      <td>7.2500</td>\n",
       "      <td>NaN</td>\n",
       "      <td>S</td>\n",
       "    </tr>\n",
       "    <tr>\n",
       "      <th>1</th>\n",
       "      <td>2</td>\n",
       "      <td>1</td>\n",
       "      <td>1</td>\n",
       "      <td>Cumings, Mrs. John Bradley (Florence Briggs Th...</td>\n",
       "      <td>female</td>\n",
       "      <td>38.0</td>\n",
       "      <td>1</td>\n",
       "      <td>0</td>\n",
       "      <td>PC 17599</td>\n",
       "      <td>71.2833</td>\n",
       "      <td>C85</td>\n",
       "      <td>C</td>\n",
       "    </tr>\n",
       "    <tr>\n",
       "      <th>2</th>\n",
       "      <td>3</td>\n",
       "      <td>1</td>\n",
       "      <td>3</td>\n",
       "      <td>Heikkinen, Miss. Laina</td>\n",
       "      <td>female</td>\n",
       "      <td>26.0</td>\n",
       "      <td>0</td>\n",
       "      <td>0</td>\n",
       "      <td>STON/O2. 3101282</td>\n",
       "      <td>7.9250</td>\n",
       "      <td>NaN</td>\n",
       "      <td>S</td>\n",
       "    </tr>\n",
       "    <tr>\n",
       "      <th>3</th>\n",
       "      <td>4</td>\n",
       "      <td>1</td>\n",
       "      <td>1</td>\n",
       "      <td>Futrelle, Mrs. Jacques Heath (Lily May Peel)</td>\n",
       "      <td>female</td>\n",
       "      <td>35.0</td>\n",
       "      <td>1</td>\n",
       "      <td>0</td>\n",
       "      <td>113803</td>\n",
       "      <td>53.1000</td>\n",
       "      <td>C123</td>\n",
       "      <td>S</td>\n",
       "    </tr>\n",
       "    <tr>\n",
       "      <th>4</th>\n",
       "      <td>5</td>\n",
       "      <td>0</td>\n",
       "      <td>3</td>\n",
       "      <td>Allen, Mr. William Henry</td>\n",
       "      <td>male</td>\n",
       "      <td>35.0</td>\n",
       "      <td>0</td>\n",
       "      <td>0</td>\n",
       "      <td>373450</td>\n",
       "      <td>8.0500</td>\n",
       "      <td>NaN</td>\n",
       "      <td>S</td>\n",
       "    </tr>\n",
       "  </tbody>\n",
       "</table>\n",
       "</div>"
      ],
      "text/plain": [
       "   PassengerId  Survived  Pclass  \\\n",
       "0            1         0       3   \n",
       "1            2         1       1   \n",
       "2            3         1       3   \n",
       "3            4         1       1   \n",
       "4            5         0       3   \n",
       "\n",
       "                                                Name     Sex   Age  SibSp  \\\n",
       "0                            Braund, Mr. Owen Harris    male  22.0      1   \n",
       "1  Cumings, Mrs. John Bradley (Florence Briggs Th...  female  38.0      1   \n",
       "2                             Heikkinen, Miss. Laina  female  26.0      0   \n",
       "3       Futrelle, Mrs. Jacques Heath (Lily May Peel)  female  35.0      1   \n",
       "4                           Allen, Mr. William Henry    male  35.0      0   \n",
       "\n",
       "   Parch            Ticket     Fare Cabin Embarked  \n",
       "0      0         A/5 21171   7.2500   NaN        S  \n",
       "1      0          PC 17599  71.2833   C85        C  \n",
       "2      0  STON/O2. 3101282   7.9250   NaN        S  \n",
       "3      0            113803  53.1000  C123        S  \n",
       "4      0            373450   8.0500   NaN        S  "
      ]
     },
     "execution_count": 3,
     "metadata": {},
     "output_type": "execute_result"
    }
   ],
   "source": [
    "#create dataframe for training dataset and print ten first rows as preview\n",
    "train_df_raw = pd.read_csv(path_train)\n",
    "train_df_raw.head()"
   ]
  },
  {
   "cell_type": "code",
   "execution_count": 4,
   "metadata": {
    "_uuid": "996505836b43d054f175c48e2229993930d6de3d"
   },
   "outputs": [
    {
     "data": {
      "text/html": [
       "<div>\n",
       "<style scoped>\n",
       "    .dataframe tbody tr th:only-of-type {\n",
       "        vertical-align: middle;\n",
       "    }\n",
       "\n",
       "    .dataframe tbody tr th {\n",
       "        vertical-align: top;\n",
       "    }\n",
       "\n",
       "    .dataframe thead th {\n",
       "        text-align: right;\n",
       "    }\n",
       "</style>\n",
       "<table border=\"1\" class=\"dataframe\">\n",
       "  <thead>\n",
       "    <tr style=\"text-align: right;\">\n",
       "      <th></th>\n",
       "      <th>PassengerId</th>\n",
       "      <th>Survived</th>\n",
       "      <th>Pclass</th>\n",
       "      <th>Age</th>\n",
       "      <th>SibSp</th>\n",
       "      <th>Parch</th>\n",
       "      <th>Fare</th>\n",
       "    </tr>\n",
       "  </thead>\n",
       "  <tbody>\n",
       "    <tr>\n",
       "      <th>count</th>\n",
       "      <td>891.000000</td>\n",
       "      <td>891.000000</td>\n",
       "      <td>891.000000</td>\n",
       "      <td>714.000000</td>\n",
       "      <td>891.000000</td>\n",
       "      <td>891.000000</td>\n",
       "      <td>891.000000</td>\n",
       "    </tr>\n",
       "    <tr>\n",
       "      <th>mean</th>\n",
       "      <td>446.000000</td>\n",
       "      <td>0.383838</td>\n",
       "      <td>2.308642</td>\n",
       "      <td>29.699118</td>\n",
       "      <td>0.523008</td>\n",
       "      <td>0.381594</td>\n",
       "      <td>32.204208</td>\n",
       "    </tr>\n",
       "    <tr>\n",
       "      <th>std</th>\n",
       "      <td>257.353842</td>\n",
       "      <td>0.486592</td>\n",
       "      <td>0.836071</td>\n",
       "      <td>14.526497</td>\n",
       "      <td>1.102743</td>\n",
       "      <td>0.806057</td>\n",
       "      <td>49.693429</td>\n",
       "    </tr>\n",
       "    <tr>\n",
       "      <th>min</th>\n",
       "      <td>1.000000</td>\n",
       "      <td>0.000000</td>\n",
       "      <td>1.000000</td>\n",
       "      <td>0.420000</td>\n",
       "      <td>0.000000</td>\n",
       "      <td>0.000000</td>\n",
       "      <td>0.000000</td>\n",
       "    </tr>\n",
       "    <tr>\n",
       "      <th>25%</th>\n",
       "      <td>223.500000</td>\n",
       "      <td>0.000000</td>\n",
       "      <td>2.000000</td>\n",
       "      <td>20.125000</td>\n",
       "      <td>0.000000</td>\n",
       "      <td>0.000000</td>\n",
       "      <td>7.910400</td>\n",
       "    </tr>\n",
       "    <tr>\n",
       "      <th>50%</th>\n",
       "      <td>446.000000</td>\n",
       "      <td>0.000000</td>\n",
       "      <td>3.000000</td>\n",
       "      <td>28.000000</td>\n",
       "      <td>0.000000</td>\n",
       "      <td>0.000000</td>\n",
       "      <td>14.454200</td>\n",
       "    </tr>\n",
       "    <tr>\n",
       "      <th>75%</th>\n",
       "      <td>668.500000</td>\n",
       "      <td>1.000000</td>\n",
       "      <td>3.000000</td>\n",
       "      <td>38.000000</td>\n",
       "      <td>1.000000</td>\n",
       "      <td>0.000000</td>\n",
       "      <td>31.000000</td>\n",
       "    </tr>\n",
       "    <tr>\n",
       "      <th>max</th>\n",
       "      <td>891.000000</td>\n",
       "      <td>1.000000</td>\n",
       "      <td>3.000000</td>\n",
       "      <td>80.000000</td>\n",
       "      <td>8.000000</td>\n",
       "      <td>6.000000</td>\n",
       "      <td>512.329200</td>\n",
       "    </tr>\n",
       "  </tbody>\n",
       "</table>\n",
       "</div>"
      ],
      "text/plain": [
       "       PassengerId    Survived      Pclass         Age       SibSp  \\\n",
       "count   891.000000  891.000000  891.000000  714.000000  891.000000   \n",
       "mean    446.000000    0.383838    2.308642   29.699118    0.523008   \n",
       "std     257.353842    0.486592    0.836071   14.526497    1.102743   \n",
       "min       1.000000    0.000000    1.000000    0.420000    0.000000   \n",
       "25%     223.500000    0.000000    2.000000   20.125000    0.000000   \n",
       "50%     446.000000    0.000000    3.000000   28.000000    0.000000   \n",
       "75%     668.500000    1.000000    3.000000   38.000000    1.000000   \n",
       "max     891.000000    1.000000    3.000000   80.000000    8.000000   \n",
       "\n",
       "            Parch        Fare  \n",
       "count  891.000000  891.000000  \n",
       "mean     0.381594   32.204208  \n",
       "std      0.806057   49.693429  \n",
       "min      0.000000    0.000000  \n",
       "25%      0.000000    7.910400  \n",
       "50%      0.000000   14.454200  \n",
       "75%      0.000000   31.000000  \n",
       "max      6.000000  512.329200  "
      ]
     },
     "execution_count": 4,
     "metadata": {},
     "output_type": "execute_result"
    }
   ],
   "source": [
    "# Compute some basical statistics on the dataset\n",
    "train_df_raw.describe()"
   ]
  },
  {
   "cell_type": "code",
   "execution_count": 5,
   "metadata": {
    "_uuid": "fef3c1d1492d727777d1504d8617e4e87f111aa3"
   },
   "outputs": [
    {
     "name": "stdout",
     "output_type": "stream",
     "text": [
      "<class 'pandas.core.frame.DataFrame'>\n",
      "RangeIndex: 891 entries, 0 to 890\n",
      "Data columns (total 12 columns):\n",
      "PassengerId    891 non-null int64\n",
      "Survived       891 non-null int64\n",
      "Pclass         891 non-null int64\n",
      "Name           891 non-null object\n",
      "Sex            891 non-null object\n",
      "Age            714 non-null float64\n",
      "SibSp          891 non-null int64\n",
      "Parch          891 non-null int64\n",
      "Ticket         891 non-null object\n",
      "Fare           891 non-null float64\n",
      "Cabin          204 non-null object\n",
      "Embarked       889 non-null object\n",
      "dtypes: float64(2), int64(5), object(5)\n",
      "memory usage: 83.6+ KB\n"
     ]
    }
   ],
   "source": [
    "train_df_raw.info()"
   ]
  },
  {
   "cell_type": "code",
   "execution_count": 6,
   "metadata": {
    "_uuid": "acd9bb6a9386a83128d7a8787e5c42ef2f5b2c90"
   },
   "outputs": [
    {
     "data": {
      "text/html": [
       "<div>\n",
       "<style scoped>\n",
       "    .dataframe tbody tr th:only-of-type {\n",
       "        vertical-align: middle;\n",
       "    }\n",
       "\n",
       "    .dataframe tbody tr th {\n",
       "        vertical-align: top;\n",
       "    }\n",
       "\n",
       "    .dataframe thead th {\n",
       "        text-align: right;\n",
       "    }\n",
       "</style>\n",
       "<table border=\"1\" class=\"dataframe\">\n",
       "  <thead>\n",
       "    <tr style=\"text-align: right;\">\n",
       "      <th></th>\n",
       "      <th>Total</th>\n",
       "      <th>Percent</th>\n",
       "    </tr>\n",
       "  </thead>\n",
       "  <tbody>\n",
       "    <tr>\n",
       "      <th>Cabin</th>\n",
       "      <td>687</td>\n",
       "      <td>0.771044</td>\n",
       "    </tr>\n",
       "    <tr>\n",
       "      <th>Age</th>\n",
       "      <td>177</td>\n",
       "      <td>0.198653</td>\n",
       "    </tr>\n",
       "    <tr>\n",
       "      <th>Embarked</th>\n",
       "      <td>2</td>\n",
       "      <td>0.002245</td>\n",
       "    </tr>\n",
       "    <tr>\n",
       "      <th>Fare</th>\n",
       "      <td>0</td>\n",
       "      <td>0.000000</td>\n",
       "    </tr>\n",
       "    <tr>\n",
       "      <th>Ticket</th>\n",
       "      <td>0</td>\n",
       "      <td>0.000000</td>\n",
       "    </tr>\n",
       "    <tr>\n",
       "      <th>Parch</th>\n",
       "      <td>0</td>\n",
       "      <td>0.000000</td>\n",
       "    </tr>\n",
       "    <tr>\n",
       "      <th>SibSp</th>\n",
       "      <td>0</td>\n",
       "      <td>0.000000</td>\n",
       "    </tr>\n",
       "    <tr>\n",
       "      <th>Sex</th>\n",
       "      <td>0</td>\n",
       "      <td>0.000000</td>\n",
       "    </tr>\n",
       "    <tr>\n",
       "      <th>Name</th>\n",
       "      <td>0</td>\n",
       "      <td>0.000000</td>\n",
       "    </tr>\n",
       "    <tr>\n",
       "      <th>Pclass</th>\n",
       "      <td>0</td>\n",
       "      <td>0.000000</td>\n",
       "    </tr>\n",
       "    <tr>\n",
       "      <th>Survived</th>\n",
       "      <td>0</td>\n",
       "      <td>0.000000</td>\n",
       "    </tr>\n",
       "    <tr>\n",
       "      <th>PassengerId</th>\n",
       "      <td>0</td>\n",
       "      <td>0.000000</td>\n",
       "    </tr>\n",
       "  </tbody>\n",
       "</table>\n",
       "</div>"
      ],
      "text/plain": [
       "             Total   Percent\n",
       "Cabin          687  0.771044\n",
       "Age            177  0.198653\n",
       "Embarked         2  0.002245\n",
       "Fare             0  0.000000\n",
       "Ticket           0  0.000000\n",
       "Parch            0  0.000000\n",
       "SibSp            0  0.000000\n",
       "Sex              0  0.000000\n",
       "Name             0  0.000000\n",
       "Pclass           0  0.000000\n",
       "Survived         0  0.000000\n",
       "PassengerId      0  0.000000"
      ]
     },
     "execution_count": 6,
     "metadata": {},
     "output_type": "execute_result"
    }
   ],
   "source": [
    "draw_missing_data_table(train_df_raw)"
   ]
  },
  {
   "cell_type": "markdown",
   "metadata": {
    "_uuid": "b549fc22c8c19a09c1d347c101a337fabf79562a"
   },
   "source": [
    "There is 77% of missing data in the cabin column, it's way too much for this column to be exploitable, so we'll remove it from the dataframe. For the age, we will either interpolate missing values or we will fill it with the median. There is only two missing values for the embarked column, let's replace them by the most recurrent value of Embarqued variable :"
   ]
  },
  {
   "cell_type": "code",
   "execution_count": 7,
   "metadata": {
    "_uuid": "3ca9ea1a78543bed5ccd2f931747bdc5a97f9c2f"
   },
   "outputs": [
    {
     "data": {
      "text/plain": [
       "S    644\n",
       "C    168\n",
       "Q     77\n",
       "Name: Embarked, dtype: int64"
      ]
     },
     "execution_count": 7,
     "metadata": {},
     "output_type": "execute_result"
    }
   ],
   "source": [
    "train_df_raw['Embarked'].value_counts()"
   ]
  },
  {
   "cell_type": "code",
   "execution_count": 8,
   "metadata": {
    "_uuid": "191dd9ee84b0dcdd283b71bfc53e84f8d49f60da"
   },
   "outputs": [
    {
     "data": {
      "image/png": "[encoded data removed]",
      "text/plain": [
       "<Figure size 1440x1080 with 6 Axes>"
      ]
     },
     "metadata": {
      "needs_background": "light"
     },
     "output_type": "display_data"
    }
   ],
   "source": [
    "# Let's plot some histograms to have a previzualisation of some of the data ...\n",
    "train_df_raw.drop(['PassengerId'], 1).hist(bins=50, figsize=(20,15))\n",
    "plt.show()"
   ]
  },
  {
   "cell_type": "markdown",
   "metadata": {
    "_uuid": "840c201359244d09dbcd378dafd8ebf0a42427c5"
   },
   "source": [
    "With this first exploration, we can see that :\n",
    "\n",
    "* Only aproximately 35% of passengers survived ...\n",
    "* More than the half of passengers are in the lowest class (pclass = 3)\n",
    "* Most of the fare tickets are below 50\n",
    "* Majority of passengers are alone (sibsp and parch)"
   ]
  },
  {
   "cell_type": "markdown",
   "metadata": {
    "_uuid": "c86c5e54aeeb83b785747f2cdd7d276a694b691c"
   },
   "source": [
    "## 2. Features engineering"
   ]
  },
  {
   "cell_type": "code",
   "execution_count": 9,
   "metadata": {
    "_uuid": "e1cfd800c2f51bbb7a04f1c390e8f5647ef7becf"
   },
   "outputs": [],
   "source": [
    "def preprocess_data(df):\n",
    "    \n",
    "    processed_df = df\n",
    "    \n",
    "    # Drop useless columns\n",
    "    processed_df = processed_df.drop(['PassengerId'], 1)\n",
    "    \n",
    "    # Deal with missing values\n",
    "    processed_df['Embarked'].fillna('S', inplace=True)\n",
    "    processed_df['Age'].fillna(processed_df['Age'].mean(), inplace=True)\n",
    "    processed_df['Age'] = processed_df['Age'].astype(int)\n",
    "    processed_df['Fare'] = processed_df['Fare'].interpolate()\n",
    "    processed_df['Cabin'].fillna('U0', inplace=True)\n",
    "    \n",
    "    # feature engineering on columns\n",
    "    processed_df['Title'] = pd.Series((name.split('.')[0].split(',')[1].strip() for name in train_df_raw['Name']), index=train_df_raw.index)\n",
    "    processed_df['Title'] = processed_df['Title'].replace('the Countess', 'Mrs')\n",
    "    processed_df['Title'] = processed_df['Title'].replace('Lady', 'Mrs')\n",
    "    processed_df['Title'] = processed_df['Title'].replace('Mme', 'Mrs')\n",
    "    processed_df['Title'] = processed_df['Title'].replace('Mlle', 'Miss')\n",
    "    processed_df['Title'] = processed_df['Title'].replace('Don', 'Mr')\n",
    "    processed_df['Title'] = processed_df['Title'].replace('Col', 'Master')\n",
    "    processed_df['Title'] = processed_df['Title'].replace('Major', 'Master')\n",
    "    processed_df['Title'] = processed_df['Title'].replace('Sir', 'Mr')\n",
    "    processed_df['Title'] = processed_df['Title'].replace('Capt', 'Mr')\n",
    "    processed_df['Title'] = processed_df['Title'].replace('Ms', 'Miss')\n",
    "    processed_df['Title'] = processed_df['Title'].replace('Jonkheer', 'Mr')\n",
    "    processed_df['Title'] = processed_df['Title'].map({title: pos for pos, title in enumerate(set(title for title in processed_df['Title']))})\n",
    "    \n",
    "    processed_df['Sex'] = processed_df['Sex'].map({'male': 0, 'female': 1})\n",
    "    processed_df['Embarked'] = processed_df['Embarked'].map({'S': 0, 'C': 1, 'Q': 2})\n",
    "    \n",
    "    processed_df['Familly'] = processed_df['SibSp'] + processed_df['Parch']\n",
    "    processed_df['IsAlone'] = np.where(processed_df['Familly']!=0, 0, 1)\n",
    "    \n",
    "    # Modify the ticket column to keep only the ticket number\n",
    "    ticket_numbers = list()\n",
    "    for ticket in processed_df['Ticket']:\n",
    "        try:\n",
    "            ticket_numbers.append(int(ticket))\n",
    "        except ValueError:\n",
    "            splitted = ticket.split(' ')\n",
    "            if len(splitted) == 1:\n",
    "                ticket_numbers.append(0)\n",
    "            else:\n",
    "                ticket_numbers.append(int(splitted[len(splitted)-1]))\n",
    "    processed_df['Ticket'] = pd.Series(ticket_numbers, index=df.index)\n",
    "    \n",
    "    #Creation of a deck column corresponding to the letter contained in the cabin value\n",
    "    processed_df['Deck'] = pd.Series(([cab[:1] for cab in processed_df['Cabin']]), index=processed_df.index)\n",
    "    processed_df['Deck'] = processed_df['Deck'].replace('T', 'U')\n",
    "    processed_df['Deck'] = processed_df['Deck'].map({title: pos for pos, title in enumerate(set(deck for deck in processed_df['Deck']))})\n",
    "    \n",
    "    processed_df = processed_df.drop(['Name', 'Cabin'], 1)    \n",
    "    \n",
    "    return processed_df"
   ]
  },
  {
   "cell_type": "markdown",
   "metadata": {
    "_uuid": "75a781ff2a645d7a68489debed35e4e8e71a5b7e"
   },
   "source": [
    "## 3. Try several models on train dataset"
   ]
  },
  {
   "cell_type": "code",
   "execution_count": 10,
   "metadata": {
    "_uuid": "5938ee5f0e21505fe0766caceab370c3be0cfd3f"
   },
   "outputs": [
    {
     "data": {
      "text/html": [
       "<div>\n",
       "<style scoped>\n",
       "    .dataframe tbody tr th:only-of-type {\n",
       "        vertical-align: middle;\n",
       "    }\n",
       "\n",
       "    .dataframe tbody tr th {\n",
       "        vertical-align: top;\n",
       "    }\n",
       "\n",
       "    .dataframe thead th {\n",
       "        text-align: right;\n",
       "    }\n",
       "</style>\n",
       "<table border=\"1\" class=\"dataframe\">\n",
       "  <thead>\n",
       "    <tr style=\"text-align: right;\">\n",
       "      <th></th>\n",
       "      <th>Pclass</th>\n",
       "      <th>Sex</th>\n",
       "      <th>Age</th>\n",
       "      <th>SibSp</th>\n",
       "      <th>Parch</th>\n",
       "      <th>Ticket</th>\n",
       "      <th>Fare</th>\n",
       "      <th>Embarked</th>\n",
       "      <th>Title</th>\n",
       "      <th>Familly</th>\n",
       "      <th>IsAlone</th>\n",
       "      <th>Deck</th>\n",
       "    </tr>\n",
       "  </thead>\n",
       "  <tbody>\n",
       "    <tr>\n",
       "      <th>331</th>\n",
       "      <td>-1.614136</td>\n",
       "      <td>-0.724310</td>\n",
       "      <td>1.201713</td>\n",
       "      <td>-0.470722</td>\n",
       "      <td>-0.479342</td>\n",
       "      <td>-0.285726</td>\n",
       "      <td>-0.078684</td>\n",
       "      <td>-0.548035</td>\n",
       "      <td>-0.099609</td>\n",
       "      <td>-0.554666</td>\n",
       "      <td>0.812203</td>\n",
       "      <td>-2.395859</td>\n",
       "    </tr>\n",
       "    <tr>\n",
       "      <th>733</th>\n",
       "      <td>-0.400551</td>\n",
       "      <td>-0.724310</td>\n",
       "      <td>-0.491364</td>\n",
       "      <td>-0.470722</td>\n",
       "      <td>-0.479342</td>\n",
       "      <td>-0.413424</td>\n",
       "      <td>-0.377145</td>\n",
       "      <td>-0.548035</td>\n",
       "      <td>-0.099609</td>\n",
       "      <td>-0.554666</td>\n",
       "      <td>0.812203</td>\n",
       "      <td>0.276842</td>\n",
       "    </tr>\n",
       "    <tr>\n",
       "      <th>382</th>\n",
       "      <td>0.813034</td>\n",
       "      <td>-0.724310</td>\n",
       "      <td>0.201258</td>\n",
       "      <td>-0.470722</td>\n",
       "      <td>-0.479342</td>\n",
       "      <td>4.223884</td>\n",
       "      <td>-0.474867</td>\n",
       "      <td>-0.548035</td>\n",
       "      <td>-0.099609</td>\n",
       "      <td>-0.554666</td>\n",
       "      <td>0.812203</td>\n",
       "      <td>0.276842</td>\n",
       "    </tr>\n",
       "    <tr>\n",
       "      <th>704</th>\n",
       "      <td>0.813034</td>\n",
       "      <td>-0.724310</td>\n",
       "      <td>-0.260490</td>\n",
       "      <td>0.379923</td>\n",
       "      <td>-0.479342</td>\n",
       "      <td>0.071907</td>\n",
       "      <td>-0.476230</td>\n",
       "      <td>-0.548035</td>\n",
       "      <td>-0.099609</td>\n",
       "      <td>0.040096</td>\n",
       "      <td>-1.231219</td>\n",
       "      <td>0.276842</td>\n",
       "    </tr>\n",
       "    <tr>\n",
       "      <th>813</th>\n",
       "      <td>0.813034</td>\n",
       "      <td>1.380624</td>\n",
       "      <td>-1.799652</td>\n",
       "      <td>2.931860</td>\n",
       "      <td>2.048742</td>\n",
       "      <td>0.067466</td>\n",
       "      <td>-0.025249</td>\n",
       "      <td>-0.548035</td>\n",
       "      <td>-0.870497</td>\n",
       "      <td>3.013909</td>\n",
       "      <td>-1.231219</td>\n",
       "      <td>0.276842</td>\n",
       "    </tr>\n",
       "  </tbody>\n",
       "</table>\n",
       "</div>"
      ],
      "text/plain": [
       "       Pclass       Sex       Age     SibSp     Parch    Ticket      Fare  \\\n",
       "331 -1.614136 -0.724310  1.201713 -0.470722 -0.479342 -0.285726 -0.078684   \n",
       "733 -0.400551 -0.724310 -0.491364 -0.470722 -0.479342 -0.413424 -0.377145   \n",
       "382  0.813034 -0.724310  0.201258 -0.470722 -0.479342  4.223884 -0.474867   \n",
       "704  0.813034 -0.724310 -0.260490  0.379923 -0.479342  0.071907 -0.476230   \n",
       "813  0.813034  1.380624 -1.799652  2.931860  2.048742  0.067466 -0.025249   \n",
       "\n",
       "     Embarked     Title   Familly   IsAlone      Deck  \n",
       "331 -0.548035 -0.099609 -0.554666  0.812203 -2.395859  \n",
       "733 -0.548035 -0.099609 -0.554666  0.812203  0.276842  \n",
       "382 -0.548035 -0.099609 -0.554666  0.812203  0.276842  \n",
       "704 -0.548035 -0.099609  0.040096 -1.231219  0.276842  \n",
       "813 -0.548035 -0.870497  3.013909 -1.231219  0.276842  "
      ]
     },
     "execution_count": 10,
     "metadata": {},
     "output_type": "execute_result"
    }
   ],
   "source": [
    "# Let's divide the train dataset in two datasets to evaluate perfomance of machine learning models used\n",
    "train_df = train_df_raw.copy()\n",
    "X = train_df.drop(['Survived'], 1)\n",
    "Y = train_df['Survived']\n",
    "\n",
    "# Split dataset for prediction\n",
    "X_train, X_test, Y_train, Y_test = train_test_split(X, Y, test_size=0.2, random_state=42)\n",
    "\n",
    "X_train = preprocess_data(X_train)\n",
    "X_test = preprocess_data(X_test)\n",
    "X_train = standardize(X_train)\n",
    "X_test = standardize(X_test)\n",
    "\n",
    "X_train.head()"
   ]
  },
  {
   "cell_type": "markdown",
   "metadata": {
    "_uuid": "7b2b9905f1c16b2f6b3ac529b99e12c6b1c9bc5c"
   },
   "source": [
    "### 1.1 Logistic regression"
   ]
  },
  {
   "cell_type": "code",
   "execution_count": 11,
   "metadata": {
    "_uuid": "2bf8ea63bf50087b31df2ee3fc3d20456852e29d"
   },
   "outputs": [
    {
     "name": "stdout",
     "output_type": "stream",
     "text": [
      "              precision    recall  f1-score   support\n",
      "\n",
      "           0       0.81      0.88      0.84       105\n",
      "           1       0.80      0.70      0.75        74\n",
      "\n",
      "   micro avg       0.80      0.80      0.80       179\n",
      "   macro avg       0.80      0.79      0.79       179\n",
      "weighted avg       0.80      0.80      0.80       179\n",
      "\n"
     ]
    },
    {
     "data": {
      "image/png": "[encoded data removed]",
      "text/plain": [
       "<Figure size 648x648 with 2 Axes>"
      ]
     },
     "metadata": {
      "needs_background": "light"
     },
     "output_type": "display_data"
    }
   ],
   "source": [
    "# Create and train model on train data sample\n",
    "logisticRegr = LogisticRegression(random_state=42)\n",
    "logisticRegr.fit(X_train, Y_train)\n",
    "\n",
    "# Predict for test data sample\n",
    "logistic_prediction = logisticRegr.predict(X_test)\n",
    "\n",
    "# Compute error between predicted data and true response and display it in confusion matrix\n",
    "score = metrics.accuracy_score(Y_test, logistic_prediction)\n",
    "display_confusion_matrix(Y_test, logistic_prediction, score=score)"
   ]
  },
  {
   "cell_type": "markdown",
   "metadata": {
    "_uuid": "dd2b871e06a3fbb2bf367c4a59227883c51f94db"
   },
   "source": [
    "### 1.2 Decision tree"
   ]
  },
  {
   "cell_type": "code",
   "execution_count": 12,
   "metadata": {
    "_uuid": "e210227806175d3fec8fb54c7398693af57e19cb"
   },
   "outputs": [
    {
     "name": "stdout",
     "output_type": "stream",
     "text": [
      "              precision    recall  f1-score   support\n",
      "\n",
      "           0       0.79      0.88      0.83       105\n",
      "           1       0.79      0.68      0.73        74\n",
      "\n",
      "   micro avg       0.79      0.79      0.79       179\n",
      "   macro avg       0.79      0.78      0.78       179\n",
      "weighted avg       0.79      0.79      0.79       179\n",
      "\n"
     ]
    },
    {
     "data": {
      "image/png": "[encoded data removed]",
      "text/plain": [
       "<Figure size 648x648 with 2 Axes>"
      ]
     },
     "metadata": {
      "needs_background": "light"
     },
     "output_type": "display_data"
    }
   ],
   "source": [
    "# Create and train model on train data sample\n",
    "dt = DecisionTreeClassifier(min_samples_split=15, min_samples_leaf=20, random_state=42)\n",
    "dt.fit(X_train, Y_train)\n",
    "\n",
    "# Predict for test data sample\n",
    "dt_prediction = dt.predict(X_test)\n",
    "\n",
    "# Compute error between predicted data and true response and display it in confusion matrix\n",
    "score = metrics.accuracy_score(Y_test, dt_prediction)\n",
    "display_confusion_matrix(Y_test, dt_prediction, score=score)\n"
   ]
  },
  {
   "cell_type": "code",
   "execution_count": 13,
   "metadata": {
    "_uuid": "c2a344ec6566d6839fbd0351c9285bfcffc2f9d9"
   },
   "outputs": [],
   "source": [
    "visualize_tree(dt, X_test.columns)\n",
    "! dot -Tpng dt.dot > dt.png"
   ]
  },
  {
   "cell_type": "markdown",
   "metadata": {
    "_uuid": "67ec7b6b647ef967313f9271c3c2fd0fa553d97a"
   },
   "source": [
    "![title](dt.png)"
   ]
  },
  {
   "cell_type": "markdown",
   "metadata": {
    "_uuid": "60e4d7b8c520451c78acfc54b95fca1c73b97939"
   },
   "source": [
    "### 1.3 Random forest"
   ]
  },
  {
   "cell_type": "code",
   "execution_count": 14,
   "metadata": {
    "_uuid": "cf210ec43c5ada014f3d666d84c8227b10fa7291"
   },
   "outputs": [
    {
     "name": "stdout",
     "output_type": "stream",
     "text": [
      "              precision    recall  f1-score   support\n",
      "\n",
      "           0       0.81      0.88      0.84       105\n",
      "           1       0.80      0.70      0.75        74\n",
      "\n",
      "   micro avg       0.80      0.80      0.80       179\n",
      "   macro avg       0.80      0.79      0.79       179\n",
      "weighted avg       0.80      0.80      0.80       179\n",
      "\n"
     ]
    },
    {
     "data": {
      "image/png": "[encoded data removed]",
      "text/plain": [
       "<Figure size 648x648 with 2 Axes>"
      ]
     },
     "metadata": {
      "needs_background": "light"
     },
     "output_type": "display_data"
    }
   ],
   "source": [
    "# Create and train model on train data sample\n",
    "rf = RandomForestClassifier(n_estimators=1000, max_depth=8, min_samples_leaf=2, random_state=42)\n",
    "rf.fit(X_train, Y_train)\n",
    "\n",
    "# Predict for test data sample\n",
    "rf_prediction = rf.predict(X_test)\n",
    "\n",
    "# Compute error between predicted data and true response and display it in confusion matrix\n",
    "score = metrics.accuracy_score(Y_test, rf_prediction)\n",
    "display_confusion_matrix(Y_test, rf_prediction, score=score)"
   ]
  },
  {
   "cell_type": "markdown",
   "metadata": {
    "_uuid": "6f15e098541b4ce5c2e21331fb18d0afa39d8535"
   },
   "source": [
    "### 1.4 Artificial neural network"
   ]
  },
  {
   "cell_type": "code",
   "execution_count": 15,
   "metadata": {
    "_uuid": "49788e798f8d64f6196cdbb5e962e603f114783c"
   },
   "outputs": [],
   "source": [
    "def build_ann():\n",
    "    # Initializing our ANN\n",
    "    ann = Sequential()\n",
    "    # Adding the input layer and the first hidden layer of our ANN with dropout\n",
    "    ann.add(Dense(units=32, kernel_initializer='uniform', activation='relu', input_shape = (12,)))\n",
    "    ann.add(Dropout(p=0.6)) \n",
    "    ann.add(Dense(units=128, kernel_initializer='uniform', activation='relu'))\n",
    "    ann.add(Dropout(p=0.6))\n",
    "    ann.add(Dense(units=64, kernel_initializer='uniform', activation='relu'))\n",
    "    ann.add(Dropout(p=0.6))\n",
    "    # Adding the output layer\n",
    "    ann.add(Dense(units=1, kernel_initializer='uniform', activation='sigmoid'))\n",
    "    # Compilling the ANN\n",
    "    ann.compile(optimizer='adam', loss='binary_crossentropy', metrics=['accuracy'])\n",
    "    \n",
    "    return ann"
   ]
  },
  {
   "cell_type": "code",
   "execution_count": 16,
   "metadata": {
    "_uuid": "1e8cee7939bb3558604b0dda1675933ae4291bb4"
   },
   "outputs": [
    {
     "name": "stdout",
     "output_type": "stream",
     "text": [
      "Epoch 1/100\n",
      "712/712 [==============================] - 1s 945us/step - loss: 0.6858 - acc: 0.6180\n",
      "Epoch 2/100\n",
      "712/712 [==============================] - 0s 328us/step - loss: 0.5828 - acc: 0.6742\n",
      "Epoch 3/100\n",
      "712/712 [==============================] - 0s 313us/step - loss: 0.5126 - acc: 0.7851\n",
      "Epoch 4/100\n",
      "712/712 [==============================] - 0s 327us/step - loss: 0.4989 - acc: 0.7879\n",
      "Epoch 5/100\n",
      "712/712 [==============================] - 0s 371us/step - loss: 0.4614 - acc: 0.7963\n",
      "Epoch 6/100\n",
      "712/712 [==============================] - 0s 305us/step - loss: 0.4774 - acc: 0.8048\n",
      "Epoch 7/100\n",
      "712/712 [==============================] - 0s 283us/step - loss: 0.4532 - acc: 0.8076\n",
      "Epoch 8/100\n",
      "712/712 [==============================] - 0s 348us/step - loss: 0.4593 - acc: 0.8034\n",
      "Epoch 9/100\n",
      "712/712 [==============================] - 0s 343us/step - loss: 0.4725 - acc: 0.8034\n",
      "Epoch 10/100\n",
      "712/712 [==============================] - 0s 362us/step - loss: 0.4514 - acc: 0.7921\n",
      "Epoch 11/100\n",
      "712/712 [==============================] - 0s 317us/step - loss: 0.4555 - acc: 0.8104\n",
      "Epoch 12/100\n",
      "712/712 [==============================] - 0s 385us/step - loss: 0.4578 - acc: 0.8244\n",
      "Epoch 13/100\n",
      "712/712 [==============================] - 0s 291us/step - loss: 0.4605 - acc: 0.8216\n",
      "Epoch 14/100\n",
      "712/712 [==============================] - 0s 298us/step - loss: 0.4465 - acc: 0.8188\n",
      "Epoch 15/100\n",
      "712/712 [==============================] - 0s 302us/step - loss: 0.4151 - acc: 0.8258\n",
      "Epoch 16/100\n",
      "712/712 [==============================] - 0s 446us/step - loss: 0.4485 - acc: 0.8216\n",
      "Epoch 17/100\n",
      "712/712 [==============================] - 0s 337us/step - loss: 0.4339 - acc: 0.8287\n",
      "Epoch 18/100\n",
      "712/712 [==============================] - 0s 386us/step - loss: 0.4534 - acc: 0.8174\n",
      "Epoch 19/100\n",
      "712/712 [==============================] - 0s 415us/step - loss: 0.4318 - acc: 0.8258\n",
      "Epoch 20/100\n",
      "712/712 [==============================] - 0s 465us/step - loss: 0.4297 - acc: 0.8258\n",
      "Epoch 21/100\n",
      "712/712 [==============================] - 0s 419us/step - loss: 0.4370 - acc: 0.8244\n",
      "Epoch 22/100\n",
      "712/712 [==============================] - 0s 290us/step - loss: 0.4208 - acc: 0.8230\n",
      "Epoch 23/100\n",
      "712/712 [==============================] - 0s 222us/step - loss: 0.4476 - acc: 0.8202\n",
      "Epoch 24/100\n",
      "712/712 [==============================] - 0s 247us/step - loss: 0.4161 - acc: 0.8216\n",
      "Epoch 25/100\n",
      "712/712 [==============================] - 0s 289us/step - loss: 0.4042 - acc: 0.8399\n",
      "Epoch 26/100\n",
      "712/712 [==============================] - 0s 253us/step - loss: 0.4145 - acc: 0.8413\n",
      "Epoch 27/100\n",
      "712/712 [==============================] - 0s 274us/step - loss: 0.4214 - acc: 0.8329\n",
      "Epoch 28/100\n",
      "712/712 [==============================] - 0s 336us/step - loss: 0.4433 - acc: 0.8174\n",
      "Epoch 29/100\n",
      "712/712 [==============================] - 0s 334us/step - loss: 0.4278 - acc: 0.8272\n",
      "Epoch 30/100\n",
      "712/712 [==============================] - 0s 437us/step - loss: 0.4242 - acc: 0.8244\n",
      "Epoch 31/100\n",
      "712/712 [==============================] - 0s 254us/step - loss: 0.4120 - acc: 0.8315\n",
      "Epoch 32/100\n",
      "712/712 [==============================] - 0s 250us/step - loss: 0.4154 - acc: 0.8399\n",
      "Epoch 33/100\n",
      "712/712 [==============================] - 0s 426us/step - loss: 0.4258 - acc: 0.8287\n",
      "Epoch 34/100\n",
      "712/712 [==============================] - 0s 436us/step - loss: 0.4267 - acc: 0.8371\n",
      "Epoch 35/100\n",
      "712/712 [==============================] - 0s 508us/step - loss: 0.4096 - acc: 0.8385\n",
      "Epoch 36/100\n",
      "712/712 [==============================] - 0s 401us/step - loss: 0.4020 - acc: 0.8343\n",
      "Epoch 37/100\n",
      "712/712 [==============================] - 0s 429us/step - loss: 0.4051 - acc: 0.8385\n",
      "Epoch 38/100\n",
      "712/712 [==============================] - 0s 369us/step - loss: 0.4044 - acc: 0.8399\n",
      "Epoch 39/100\n",
      "712/712 [==============================] - 0s 330us/step - loss: 0.4103 - acc: 0.8357\n",
      "Epoch 40/100\n",
      "712/712 [==============================] - 0s 290us/step - loss: 0.4029 - acc: 0.8371\n",
      "Epoch 41/100\n",
      "712/712 [==============================] - 0s 319us/step - loss: 0.4195 - acc: 0.8413\n",
      "Epoch 42/100\n",
      "712/712 [==============================] - 0s 424us/step - loss: 0.4134 - acc: 0.8427\n",
      "Epoch 43/100\n",
      "712/712 [==============================] - 0s 241us/step - loss: 0.4147 - acc: 0.8427\n",
      "Epoch 44/100\n",
      "712/712 [==============================] - 0s 258us/step - loss: 0.3965 - acc: 0.8511\n",
      "Epoch 45/100\n",
      "712/712 [==============================] - 0s 229us/step - loss: 0.4160 - acc: 0.8343\n",
      "Epoch 46/100\n",
      "712/712 [==============================] - 0s 254us/step - loss: 0.4030 - acc: 0.8441\n",
      "Epoch 47/100\n",
      "712/712 [==============================] - 0s 229us/step - loss: 0.4057 - acc: 0.8343\n",
      "Epoch 48/100\n",
      "712/712 [==============================] - 0s 235us/step - loss: 0.3855 - acc: 0.8399\n",
      "Epoch 49/100\n",
      "712/712 [==============================] - 0s 294us/step - loss: 0.3987 - acc: 0.8525\n",
      "Epoch 50/100\n",
      "712/712 [==============================] - 0s 279us/step - loss: 0.4074 - acc: 0.8315\n",
      "Epoch 51/100\n",
      "712/712 [==============================] - 0s 257us/step - loss: 0.4178 - acc: 0.8357\n",
      "Epoch 52/100\n",
      "712/712 [==============================] - 0s 268us/step - loss: 0.4032 - acc: 0.8343\n",
      "Epoch 53/100\n",
      "712/712 [==============================] - 0s 256us/step - loss: 0.4038 - acc: 0.8469\n",
      "Epoch 54/100\n",
      "712/712 [==============================] - 0s 268us/step - loss: 0.3845 - acc: 0.8497\n",
      "Epoch 55/100\n",
      "712/712 [==============================] - 0s 249us/step - loss: 0.4160 - acc: 0.8455\n",
      "Epoch 56/100\n",
      "712/712 [==============================] - 0s 259us/step - loss: 0.4082 - acc: 0.8483\n",
      "Epoch 57/100\n",
      "712/712 [==============================] - 0s 238us/step - loss: 0.4181 - acc: 0.8357\n",
      "Epoch 58/100\n",
      "712/712 [==============================] - 0s 526us/step - loss: 0.3943 - acc: 0.8385\n",
      "Epoch 59/100\n",
      "712/712 [==============================] - 0s 326us/step - loss: 0.4024 - acc: 0.8399\n",
      "Epoch 60/100\n",
      "712/712 [==============================] - 0s 249us/step - loss: 0.3781 - acc: 0.8469\n",
      "Epoch 61/100\n",
      "712/712 [==============================] - 0s 278us/step - loss: 0.4102 - acc: 0.8357\n",
      "Epoch 62/100\n",
      "712/712 [==============================] - 0s 268us/step - loss: 0.3890 - acc: 0.8553\n",
      "Epoch 63/100\n",
      "712/712 [==============================] - 0s 285us/step - loss: 0.3890 - acc: 0.8441\n",
      "Epoch 64/100\n",
      "712/712 [==============================] - 0s 346us/step - loss: 0.4072 - acc: 0.8371\n",
      "Epoch 65/100\n",
      "712/712 [==============================] - 0s 320us/step - loss: 0.3729 - acc: 0.8539\n",
      "Epoch 66/100\n",
      "712/712 [==============================] - 0s 421us/step - loss: 0.3883 - acc: 0.8539\n",
      "Epoch 67/100\n",
      "712/712 [==============================] - 0s 465us/step - loss: 0.4024 - acc: 0.8357\n",
      "Epoch 68/100\n",
      "712/712 [==============================] - 0s 434us/step - loss: 0.4177 - acc: 0.8329\n",
      "Epoch 69/100\n",
      "712/712 [==============================] - 0s 410us/step - loss: 0.3934 - acc: 0.8371\n",
      "Epoch 70/100\n",
      "712/712 [==============================] - 0s 387us/step - loss: 0.3807 - acc: 0.8567\n",
      "Epoch 71/100\n",
      "712/712 [==============================] - 0s 523us/step - loss: 0.3961 - acc: 0.8427\n",
      "Epoch 72/100\n",
      "712/712 [==============================] - 0s 387us/step - loss: 0.3898 - acc: 0.8497\n",
      "Epoch 73/100\n",
      "712/712 [==============================] - 0s 350us/step - loss: 0.3862 - acc: 0.8497\n",
      "Epoch 74/100\n",
      "712/712 [==============================] - 0s 655us/step - loss: 0.4153 - acc: 0.8371\n",
      "Epoch 75/100\n",
      "712/712 [==============================] - 0s 332us/step - loss: 0.3817 - acc: 0.8441\n",
      "Epoch 76/100\n",
      "712/712 [==============================] - 0s 219us/step - loss: 0.3902 - acc: 0.8483\n",
      "Epoch 77/100\n",
      "712/712 [==============================] - 0s 430us/step - loss: 0.4030 - acc: 0.8427\n",
      "Epoch 78/100\n",
      "712/712 [==============================] - 0s 229us/step - loss: 0.3814 - acc: 0.8455\n",
      "Epoch 79/100\n",
      "712/712 [==============================] - 0s 406us/step - loss: 0.3990 - acc: 0.8385\n",
      "Epoch 80/100\n",
      "712/712 [==============================] - 0s 406us/step - loss: 0.3808 - acc: 0.8553\n",
      "Epoch 81/100\n",
      "712/712 [==============================] - 0s 406us/step - loss: 0.3833 - acc: 0.8413\n",
      "Epoch 82/100\n",
      "712/712 [==============================] - 0s 408us/step - loss: 0.4015 - acc: 0.8525\n",
      "Epoch 83/100\n",
      "712/712 [==============================] - 0s 397us/step - loss: 0.3909 - acc: 0.8272\n",
      "Epoch 84/100\n",
      "712/712 [==============================] - 0s 357us/step - loss: 0.3779 - acc: 0.8539\n",
      "Epoch 85/100\n",
      "712/712 [==============================] - 0s 386us/step - loss: 0.3739 - acc: 0.8525\n",
      "Epoch 86/100\n",
      "712/712 [==============================] - 0s 346us/step - loss: 0.4024 - acc: 0.8525\n",
      "Epoch 87/100\n",
      "712/712 [==============================] - 0s 379us/step - loss: 0.3941 - acc: 0.8272\n",
      "Epoch 88/100\n",
      "712/712 [==============================] - 0s 343us/step - loss: 0.4124 - acc: 0.8357\n",
      "Epoch 89/100\n",
      "712/712 [==============================] - 0s 394us/step - loss: 0.3801 - acc: 0.8469\n",
      "Epoch 90/100\n",
      "712/712 [==============================] - 0s 526us/step - loss: 0.3875 - acc: 0.8357\n",
      "Epoch 91/100\n",
      "712/712 [==============================] - 0s 362us/step - loss: 0.4059 - acc: 0.8469\n",
      "Epoch 92/100\n",
      "712/712 [==============================] - 0s 401us/step - loss: 0.4051 - acc: 0.8329\n",
      "Epoch 93/100\n",
      "712/712 [==============================] - 0s 383us/step - loss: 0.3719 - acc: 0.8469\n",
      "Epoch 94/100\n",
      "712/712 [==============================] - 0s 356us/step - loss: 0.3872 - acc: 0.8371\n",
      "Epoch 95/100\n",
      "712/712 [==============================] - 0s 399us/step - loss: 0.3817 - acc: 0.8455\n",
      "Epoch 96/100\n",
      "712/712 [==============================] - 0s 362us/step - loss: 0.3933 - acc: 0.8385\n",
      "Epoch 97/100\n",
      "712/712 [==============================] - 0s 336us/step - loss: 0.3920 - acc: 0.8525\n",
      "Epoch 98/100\n",
      "712/712 [==============================] - 0s 336us/step - loss: 0.4127 - acc: 0.8216\n",
      "Epoch 99/100\n",
      "712/712 [==============================] - 0s 356us/step - loss: 0.4093 - acc: 0.8272\n",
      "Epoch 100/100\n",
      "712/712 [==============================] - 0s 372us/step - loss: 0.3978 - acc: 0.8329\n"
     ]
    },
    {
     "data": {
      "text/plain": [
       "<keras.callbacks.History at 0x1a253d3c88>"
      ]
     },
     "execution_count": 16,
     "metadata": {},
     "output_type": "execute_result"
    }
   ],
   "source": [
    "ann = build_ann()\n",
    "# Training the ANN\n",
    "ann.fit(X_train, Y_train, batch_size=10, epochs=100)"
   ]
  },
  {
   "cell_type": "code",
   "execution_count": 17,
   "metadata": {
    "_uuid": "eb05fa8c0fa699a048e13145f66ffc534b4edb46"
   },
   "outputs": [
    {
     "name": "stdout",
     "output_type": "stream",
     "text": [
      "              precision    recall  f1-score   support\n",
      "\n",
      "           0       0.81      0.91      0.86       105\n",
      "           1       0.85      0.69      0.76        74\n",
      "\n",
      "   micro avg       0.82      0.82      0.82       179\n",
      "   macro avg       0.83      0.80      0.81       179\n",
      "weighted avg       0.82      0.82      0.82       179\n",
      "\n"
     ]
    },
    {
     "data": {
      "image/png": "[encoded data removed]",
      "text/plain": [
       "<Figure size 648x648 with 2 Axes>"
      ]
     },
     "metadata": {
      "needs_background": "light"
     },
     "output_type": "display_data"
    }
   ],
   "source": [
    "# Predicting the Test set results\n",
    "ann_prediction = ann.predict(X_test)\n",
    "ann_prediction = (ann_prediction > 0.5) # convert probabilities to binary output\n",
    "\n",
    "# Compute error between predicted data and true response and display it in confusion matrix\n",
    "score = metrics.accuracy_score(Y_test, ann_prediction)\n",
    "display_confusion_matrix(Y_test, ann_prediction, score=score)"
   ]
  },
  {
   "cell_type": "markdown",
   "metadata": {
    "_uuid": "70d6befb811b652a224f94d6cdb463973d596eb8"
   },
   "source": [
    "## 4. Find the best model using k-folds cross validation"
   ]
  },
  {
   "cell_type": "markdown",
   "metadata": {
    "_uuid": "2dbfe5231b4f8bca102145bde7596bbd7afc2e96"
   },
   "source": [
    "The precision we calculated above does not mean anything. In gact, if we execute each cell again, we could have sightly different accuracy, because we trained again our models ! We need to verify which model has the best accuracy over several training steps ! We can do it using cross validation methods."
   ]
  },
  {
   "cell_type": "code",
   "execution_count": 19,
   "metadata": {
    "_uuid": "e361932236fa3df0ed3b06c13d6a87e8cec30c73"
   },
   "outputs": [],
   "source": [
    "accuracies_logreg = cross_val_score(estimator=logisticRegr, X=X_train, y=Y_train, cv=10, n_jobs=-1)\n",
    "accuracies_tree = cross_val_score(estimator=dt, X=X_train, y=Y_train, cv=10, n_jobs=-1)\n",
    "accuracies_rf = cross_val_score(estimator=rf, X=X_train, y=Y_train, cv=10, n_jobs=-1)\n",
    "accuracies_ann = cross_val_score(estimator=KerasClassifier(build_fn=build_ann, batch_size=10, epochs=100, verbose=0),\n",
    "                                 X=X_train, y=Y_train, cv=10, n_jobs=1)"
   ]
  },
  {
   "cell_type": "code",
   "execution_count": 20,
   "metadata": {
    "_uuid": "597d34476be8d63d0b5f0702887c8f3f4e73422e",
    "scrolled": true
   },
   "outputs": [
    {
     "name": "stdout",
     "output_type": "stream",
     "text": [
      "Mean accuracy: {'lg': 0.8033713391459869, 'dt': 0.8034289067739773, 'rf': 0.820372792309412, 'ann': 0.8230242552984862} \n",
      "Variance: {'lg': 0.06769478753244657, 'dt': 0.05889357079108136, 'rf': 0.05079220654252031, 'ann': 0.05277341559247353}\n"
     ]
    }
   ],
   "source": [
    "accuracies = {'lg': accuracies_logreg, 'dt': accuracies_tree, 'rf': accuracies_rf, 'ann': accuracies_ann}\n",
    "mean = {model: acc.mean() for model, acc in accuracies.items()}\n",
    "variance = {model: acc.std() for model, acc in accuracies.items()}\n",
    "print('Mean accuracy:', mean, '\\nVariance:', variance)"
   ]
  },
  {
   "cell_type": "markdown",
   "metadata": {
    "_uuid": "da07e18f5bfa5e6513a00f5ec5585696850e018d"
   },
   "source": [
    "Our ann seems to be the best model : it has the best accuracy and the lowest variance ! Let's make a prediction on test dataset now :)"
   ]
  },
  {
   "cell_type": "markdown",
   "metadata": {
    "_uuid": "06c3acf429d8d09968c07e8c1c06f88875bb62db"
   },
   "source": [
    "## 5. Apply the best model on test dataset and submit on kaggle "
   ]
  },
  {
   "cell_type": "code",
   "execution_count": 21,
   "metadata": {
    "_uuid": "962229f11da6b327557f53e048f0a55068f6dc4a"
   },
   "outputs": [],
   "source": [
    "test_df_raw = pd.read_csv(path_test)\n",
    "test = test_df_raw.copy()\n",
    "test = preprocess_data(test)\n",
    "test = standardize(test)\n",
    "train = train_df_raw.copy()\n",
    "answer = train['Survived']\n",
    "train.drop(['Survived'], 1, inplace=True)\n",
    "train = preprocess_data(train)\n",
    "train = standardize(train)"
   ]
  },
  {
   "cell_type": "code",
   "execution_count": 22,
   "metadata": {
    "_uuid": "499d60687a2a8ce30edbdf17e2f3ed89d7d9e7bc"
   },
   "outputs": [
    {
     "name": "stdout",
     "output_type": "stream",
     "text": [
      "Epoch 1/100\n",
      "891/891 [==============================] - 2s 2ms/step - loss: 0.6731 - acc: 0.6049\n",
      "Epoch 2/100\n",
      "891/891 [==============================] - 0s 347us/step - loss: 0.5357 - acc: 0.7531\n",
      "Epoch 3/100\n",
      "891/891 [==============================] - 0s 368us/step - loss: 0.4804 - acc: 0.7957\n",
      "Epoch 4/100\n",
      "891/891 [==============================] - 0s 400us/step - loss: 0.4748 - acc: 0.8092\n",
      "Epoch 5/100\n",
      "891/891 [==============================] - 0s 319us/step - loss: 0.4751 - acc: 0.7890\n",
      "Epoch 6/100\n",
      "891/891 [==============================] - 0s 368us/step - loss: 0.4412 - acc: 0.8081\n",
      "Epoch 7/100\n",
      "891/891 [==============================] - 0s 353us/step - loss: 0.4492 - acc: 0.8204\n",
      "Epoch 8/100\n",
      "891/891 [==============================] - 0s 335us/step - loss: 0.4345 - acc: 0.8171\n",
      "Epoch 9/100\n",
      "891/891 [==============================] - 0s 348us/step - loss: 0.4452 - acc: 0.8114\n",
      "Epoch 10/100\n",
      "891/891 [==============================] - 0s 347us/step - loss: 0.4305 - acc: 0.8272\n",
      "Epoch 11/100\n",
      "891/891 [==============================] - 0s 519us/step - loss: 0.4345 - acc: 0.8227\n",
      "Epoch 12/100\n",
      "891/891 [==============================] - 0s 466us/step - loss: 0.4394 - acc: 0.8215\n",
      "Epoch 13/100\n",
      "891/891 [==============================] - 0s 523us/step - loss: 0.4411 - acc: 0.8238\n",
      "Epoch 14/100\n",
      "891/891 [==============================] - 0s 414us/step - loss: 0.4471 - acc: 0.8238\n",
      "Epoch 15/100\n",
      "891/891 [==============================] - 0s 428us/step - loss: 0.4236 - acc: 0.8260\n",
      "Epoch 16/100\n",
      "891/891 [==============================] - 0s 391us/step - loss: 0.4299 - acc: 0.8215\n",
      "Epoch 17/100\n",
      "891/891 [==============================] - 0s 459us/step - loss: 0.4369 - acc: 0.8249\n",
      "Epoch 18/100\n",
      "891/891 [==============================] - 0s 374us/step - loss: 0.4307 - acc: 0.8283\n",
      "Epoch 19/100\n",
      "891/891 [==============================] - 0s 405us/step - loss: 0.4257 - acc: 0.8328\n",
      "Epoch 20/100\n",
      "891/891 [==============================] - 0s 465us/step - loss: 0.4353 - acc: 0.8182\n",
      "Epoch 21/100\n",
      "891/891 [==============================] - 0s 469us/step - loss: 0.4361 - acc: 0.8283\n",
      "Epoch 22/100\n",
      "891/891 [==============================] - 0s 437us/step - loss: 0.4311 - acc: 0.8215\n",
      "Epoch 23/100\n",
      "891/891 [==============================] - 0s 447us/step - loss: 0.4239 - acc: 0.8294\n",
      "Epoch 24/100\n",
      "891/891 [==============================] - 0s 415us/step - loss: 0.4200 - acc: 0.8350\n",
      "Epoch 25/100\n",
      "891/891 [==============================] - 0s 399us/step - loss: 0.4137 - acc: 0.8238\n",
      "Epoch 26/100\n",
      "891/891 [==============================] - 0s 399us/step - loss: 0.4163 - acc: 0.8305\n",
      "Epoch 27/100\n",
      "891/891 [==============================] - 0s 469us/step - loss: 0.4235 - acc: 0.8283\n",
      "Epoch 28/100\n",
      "891/891 [==============================] - 0s 459us/step - loss: 0.4176 - acc: 0.8350\n",
      "Epoch 29/100\n",
      "891/891 [==============================] - 0s 423us/step - loss: 0.4229 - acc: 0.8204\n",
      "Epoch 30/100\n",
      "891/891 [==============================] - 0s 419us/step - loss: 0.4258 - acc: 0.8294\n",
      "Epoch 31/100\n",
      "891/891 [==============================] - 0s 387us/step - loss: 0.4160 - acc: 0.8440\n",
      "Epoch 32/100\n",
      "891/891 [==============================] - 0s 426us/step - loss: 0.4136 - acc: 0.8339\n",
      "Epoch 33/100\n",
      "891/891 [==============================] - 1s 569us/step - loss: 0.4035 - acc: 0.8260\n",
      "Epoch 34/100\n",
      "891/891 [==============================] - 1s 609us/step - loss: 0.4256 - acc: 0.8305\n",
      "Epoch 35/100\n",
      "891/891 [==============================] - 0s 501us/step - loss: 0.4161 - acc: 0.8429\n",
      "Epoch 36/100\n",
      "891/891 [==============================] - 1s 622us/step - loss: 0.4091 - acc: 0.8316\n",
      "Epoch 37/100\n",
      "891/891 [==============================] - 1s 790us/step - loss: 0.4311 - acc: 0.8272\n",
      "Epoch 38/100\n",
      "891/891 [==============================] - 0s 461us/step - loss: 0.4219 - acc: 0.8395\n",
      "Epoch 39/100\n",
      "891/891 [==============================] - 0s 299us/step - loss: 0.4215 - acc: 0.8406\n",
      "Epoch 40/100\n",
      "891/891 [==============================] - 0s 292us/step - loss: 0.4186 - acc: 0.8361\n",
      "Epoch 41/100\n",
      "891/891 [==============================] - 0s 389us/step - loss: 0.4114 - acc: 0.8395\n",
      "Epoch 42/100\n",
      "891/891 [==============================] - 0s 271us/step - loss: 0.4105 - acc: 0.8406\n",
      "Epoch 43/100\n",
      "891/891 [==============================] - 0s 428us/step - loss: 0.3940 - acc: 0.8429\n",
      "Epoch 44/100\n",
      "891/891 [==============================] - 0s 266us/step - loss: 0.4095 - acc: 0.8305\n",
      "Epoch 45/100\n",
      "891/891 [==============================] - 0s 296us/step - loss: 0.4050 - acc: 0.8418\n",
      "Epoch 46/100\n",
      "891/891 [==============================] - 0s 274us/step - loss: 0.4102 - acc: 0.8440\n",
      "Epoch 47/100\n",
      "891/891 [==============================] - 0s 284us/step - loss: 0.3975 - acc: 0.8384\n",
      "Epoch 48/100\n",
      "891/891 [==============================] - 0s 301us/step - loss: 0.3925 - acc: 0.8440\n",
      "Epoch 49/100\n",
      "891/891 [==============================] - 0s 281us/step - loss: 0.4158 - acc: 0.8350\n",
      "Epoch 50/100\n",
      "891/891 [==============================] - 0s 311us/step - loss: 0.4051 - acc: 0.8373\n",
      "Epoch 51/100\n",
      "891/891 [==============================] - 0s 407us/step - loss: 0.3985 - acc: 0.8462\n",
      "Epoch 52/100\n",
      "891/891 [==============================] - 0s 258us/step - loss: 0.4179 - acc: 0.8316\n",
      "Epoch 53/100\n",
      "891/891 [==============================] - 0s 280us/step - loss: 0.4174 - acc: 0.8272\n",
      "Epoch 54/100\n",
      "891/891 [==============================] - 0s 322us/step - loss: 0.4000 - acc: 0.8440\n",
      "Epoch 55/100\n",
      "891/891 [==============================] - 0s 271us/step - loss: 0.3866 - acc: 0.8496\n",
      "Epoch 56/100\n",
      "891/891 [==============================] - 0s 403us/step - loss: 0.4009 - acc: 0.8429\n",
      "Epoch 57/100\n",
      "891/891 [==============================] - 0s 355us/step - loss: 0.4071 - acc: 0.8350\n",
      "Epoch 58/100\n",
      "891/891 [==============================] - 0s 304us/step - loss: 0.4004 - acc: 0.8418\n",
      "Epoch 59/100\n",
      "891/891 [==============================] - 0s 292us/step - loss: 0.3999 - acc: 0.8451\n",
      "Epoch 60/100\n",
      "891/891 [==============================] - 0s 270us/step - loss: 0.3830 - acc: 0.8485\n",
      "Epoch 61/100\n",
      "891/891 [==============================] - 0s 270us/step - loss: 0.4006 - acc: 0.8418\n",
      "Epoch 62/100\n",
      "891/891 [==============================] - 0s 282us/step - loss: 0.4037 - acc: 0.8316\n",
      "Epoch 63/100\n",
      "891/891 [==============================] - 0s 269us/step - loss: 0.3977 - acc: 0.8429\n",
      "Epoch 64/100\n",
      "891/891 [==============================] - 0s 270us/step - loss: 0.3969 - acc: 0.8418\n",
      "Epoch 65/100\n",
      "891/891 [==============================] - 0s 345us/step - loss: 0.4029 - acc: 0.8373\n",
      "Epoch 66/100\n",
      "891/891 [==============================] - 0s 322us/step - loss: 0.3807 - acc: 0.8429\n",
      "Epoch 67/100\n",
      "891/891 [==============================] - 0s 266us/step - loss: 0.4121 - acc: 0.8384\n",
      "Epoch 68/100\n",
      "891/891 [==============================] - 0s 280us/step - loss: 0.4093 - acc: 0.8294\n",
      "Epoch 69/100\n",
      "891/891 [==============================] - 0s 379us/step - loss: 0.3916 - acc: 0.8474\n",
      "Epoch 70/100\n",
      "891/891 [==============================] - 0s 326us/step - loss: 0.3957 - acc: 0.8519\n",
      "Epoch 71/100\n",
      "891/891 [==============================] - 0s 274us/step - loss: 0.4015 - acc: 0.8406\n",
      "Epoch 72/100\n",
      "891/891 [==============================] - 0s 361us/step - loss: 0.4257 - acc: 0.8328\n",
      "Epoch 73/100\n",
      "891/891 [==============================] - 0s 284us/step - loss: 0.3958 - acc: 0.8496\n",
      "Epoch 74/100\n",
      "891/891 [==============================] - 0s 368us/step - loss: 0.3923 - acc: 0.8485\n",
      "Epoch 75/100\n",
      "891/891 [==============================] - 0s 299us/step - loss: 0.3976 - acc: 0.8373\n",
      "Epoch 76/100\n",
      "891/891 [==============================] - 0s 286us/step - loss: 0.4029 - acc: 0.8361\n",
      "Epoch 77/100\n",
      "891/891 [==============================] - 0s 309us/step - loss: 0.3806 - acc: 0.8451\n",
      "Epoch 78/100\n",
      "891/891 [==============================] - 0s 319us/step - loss: 0.3950 - acc: 0.8384\n",
      "Epoch 79/100\n",
      "891/891 [==============================] - 0s 330us/step - loss: 0.4082 - acc: 0.8328\n",
      "Epoch 80/100\n",
      "891/891 [==============================] - 0s 301us/step - loss: 0.3985 - acc: 0.8474\n",
      "Epoch 81/100\n",
      "891/891 [==============================] - 0s 265us/step - loss: 0.3918 - acc: 0.8552\n",
      "Epoch 82/100\n",
      "891/891 [==============================] - 0s 259us/step - loss: 0.3972 - acc: 0.8395\n",
      "Epoch 83/100\n",
      "891/891 [==============================] - 0s 272us/step - loss: 0.3886 - acc: 0.8361\n",
      "Epoch 84/100\n",
      "891/891 [==============================] - 0s 362us/step - loss: 0.3904 - acc: 0.8328\n",
      "Epoch 85/100\n",
      "891/891 [==============================] - 0s 272us/step - loss: 0.3778 - acc: 0.8429\n",
      "Epoch 86/100\n",
      "891/891 [==============================] - 0s 306us/step - loss: 0.3832 - acc: 0.8429\n",
      "Epoch 87/100\n",
      "891/891 [==============================] - 0s 335us/step - loss: 0.3874 - acc: 0.8485\n",
      "Epoch 88/100\n",
      "891/891 [==============================] - 0s 282us/step - loss: 0.3861 - acc: 0.8474\n",
      "Epoch 89/100\n",
      "891/891 [==============================] - 0s 300us/step - loss: 0.4137 - acc: 0.8339\n",
      "Epoch 90/100\n",
      "891/891 [==============================] - 0s 292us/step - loss: 0.4049 - acc: 0.8384\n",
      "Epoch 91/100\n",
      "891/891 [==============================] - 0s 286us/step - loss: 0.4073 - acc: 0.8406\n",
      "Epoch 92/100\n",
      "891/891 [==============================] - 0s 305us/step - loss: 0.3865 - acc: 0.8519\n",
      "Epoch 93/100\n",
      "891/891 [==============================] - 0s 340us/step - loss: 0.3962 - acc: 0.8451\n",
      "Epoch 94/100\n",
      "891/891 [==============================] - 0s 269us/step - loss: 0.4092 - acc: 0.8451\n",
      "Epoch 95/100\n",
      "891/891 [==============================] - 0s 293us/step - loss: 0.3909 - acc: 0.8406\n",
      "Epoch 96/100\n",
      "891/891 [==============================] - 0s 309us/step - loss: 0.3827 - acc: 0.8519\n",
      "Epoch 97/100\n",
      "891/891 [==============================] - 0s 323us/step - loss: 0.3935 - acc: 0.8429\n",
      "Epoch 98/100\n",
      "891/891 [==============================] - 0s 330us/step - loss: 0.4088 - acc: 0.8316\n",
      "Epoch 99/100\n",
      "891/891 [==============================] - 0s 324us/step - loss: 0.3919 - acc: 0.8462\n",
      "Epoch 100/100\n",
      "891/891 [==============================] - 0s 313us/step - loss: 0.4031 - acc: 0.8451\n"
     ]
    }
   ],
   "source": [
    "# Create and train model on train data sample\n",
    "model_test = build_ann()\n",
    "model_test.fit(train, answer, batch_size=10, epochs=100)\n",
    "\n",
    "# Predict for test data sample\n",
    "prediction = model_test.predict(test)\n",
    "prediction = (prediction > 0.5)*1\n",
    "\n",
    "result_df = test_df_raw.copy()\n",
    "result_df['Survived'] = prediction\n",
    "result_df.to_csv('submission.csv', columns=['PassengerId', 'Survived'], index=False)"
   ]
  },
  {
   "cell_type": "code",
   "execution_count": null,
   "metadata": {},
   "outputs": [],
   "source": [
    "dd"
   ]
  }
 ],
 "metadata": {
  "kernelspec": {
   "display_name": "mlenv",
   "language": "python",
   "name": "mlenv"
  },
  "language_info": {
   "codemirror_mode": {
    "name": "ipython",
    "version": 3
   },
   "file_extension": ".py",
   "mimetype": "text/x-python",
   "name": "python",
   "nbconvert_exporter": "python",
   "pygments_lexer": "ipython3",
   "version": "3.6.6"
  }
 },
 "nbformat": 4,
 "nbformat_minor": 2
}
