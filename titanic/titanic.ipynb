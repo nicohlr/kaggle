{
 "cells": [
  {
   "cell_type": "markdown",
   "metadata": {
    "_uuid": "5adae90bcaed7a0bf4725a7c82fa216e8099f7bd"
   },
   "source": [
    "# Titanic : Machine Learning from Disaster"
   ]
  },
  {
   "cell_type": "markdown",
   "metadata": {
    "_uuid": "25b5c0086ed0b380daec0b2b378f21d7f09b0ae7"
   },
   "source": [
    "In this notebook, we are going to create an algorithm which will predict  if a passenger of the titanic survived or not. This algorithm will learn from train dataset and then it will predict if each passenger of the test dataset survived. \n",
    "\n",
    "The plan to do that is the following one :\n",
    "\n",
    "1. Exploration of data\n",
    "2. Features engineering\n",
    "3. Cross validation testing of the model\n",
    "4. Prediction on test data & submission on kaggle"
   ]
  },
  {
   "cell_type": "markdown",
   "metadata": {
    "_uuid": "36ce2f5c196e4773aff267a85a1a908b92c6168f"
   },
   "source": [
    "## Imports and useful functions"
   ]
  },
  {
   "cell_type": "code",
   "execution_count": 1,
   "metadata": {
    "_cell_guid": "b1076dfc-b9ad-4769-8c92-a6c4dae69d19",
    "_uuid": "8f2839f25d086af736a60e9eeb907d3b93b6e0e5"
   },
   "outputs": [],
   "source": [
    "import pandas as pd\n",
    "import matplotlib\n",
    "import pydot\n",
    "import re\n",
    "\n",
    "%matplotlib inline\n",
    "import matplotlib\n",
    "import matplotlib.pyplot as plt\n",
    "plt.rcParams['axes.labelsize'] = 14\n",
    "plt.rcParams['xtick.labelsize'] = 12\n",
    "plt.rcParams['ytick.labelsize'] = 12\n",
    "\n",
    "import numpy as np\n",
    "import sklearn\n",
    "import seaborn as sns\n",
    "\n",
    "# Ignore warnings\n",
    "import warnings\n",
    "warnings.filterwarnings('ignore')\n",
    "\n",
    "from sklearn import metrics\n",
    "from sklearn.model_selection import GridSearchCV\n",
    "from sklearn.linear_model import LinearRegression, LogisticRegression\n",
    "from sklearn.neighbors import KNeighborsClassifier\n",
    "from sklearn.ensemble import RandomForestClassifier, GradientBoostingClassifier, VotingClassifier, ExtraTreesClassifier, AdaBoostClassifier\n",
    "from sklearn.svm import SVC  \n",
    "from sklearn.tree import export_graphviz, DecisionTreeClassifier\n",
    "from sklearn.naive_bayes import GaussianNB, MultinomialNB\n",
    "from sklearn.preprocessing import StandardScaler\n",
    "\n",
    "\n",
    "import os\n",
    "os.environ['KMP_DUPLICATE_LIB_OK']='True'\n",
    "from xgboost import XGBClassifier\n",
    "\n",
    "from IPython.display import display"
   ]
  },
  {
   "cell_type": "code",
   "execution_count": 5,
   "metadata": {
    "_cell_guid": "79c7e3d0-c299-4dcb-8224-4455121ee9b0",
    "_uuid": "d629ff2d2480ee46fbb7e2d37f6b5fab8052498a"
   },
   "outputs": [],
   "source": [
    "#path of datasets\n",
    "path_train = os.path.join(os.path.dirname(os.path.abspath('__file__')), 'datasets/train.csv')\n",
    "path_test = os.path.join(os.path.dirname(os.path.abspath('__file__')), 'datasets/test.csv')\n",
    "\n",
    "def display_confusion_matrix(sample_test, prediction, score=None):\n",
    "    cm = metrics.confusion_matrix(sample_test, prediction)\n",
    "    plt.figure(figsize=(9,9))\n",
    "    sns.heatmap(cm, annot=True, fmt=\".3f\", linewidths=.5, square=True, cmap='Blues_r')\n",
    "    plt.ylabel('Actual label')\n",
    "    plt.xlabel('Predicted label')\n",
    "    if score:\n",
    "        all_sample_title = 'Accuracy Score: {0}'.format(score)\n",
    "        plt.title(all_sample_title, size = 15)\n",
    "    print(metrics.classification_report(sample_test, prediction))\n",
    "    \n",
    "def visualize_tree(tree, feature_names):\n",
    "    \"\"\"Create tree png using graphviz\"\"\"\n",
    "    with open(\"dt.dot\", 'w') as f:\n",
    "        export_graphviz(tree, out_file=f,\n",
    "                        feature_names=feature_names)\n",
    "\n",
    "    command = [\"dot\", \"-Tpng\", \"dt.dot\", \"-o\", \"dt.png\"]\n",
    "    try:\n",
    "        subprocess.check_call(command)\n",
    "    except:\n",
    "        exit(\"Could not run dot, ie graphviz, to \"\n",
    "             \"produce visualization\")\n",
    "        \n",
    "def model_tuning(model, param_grid):\n",
    "    \n",
    "    gc_cv = GridSearchCV(estimator=model, param_grid=param_grid, n_jobs=-1)\n",
    "    gc_cv.fit(X_train_sample_train, Y_train_sample_train)\n",
    "    \n",
    "    return gc_cv.best_params_, gc_cv.best_score_, gc_cv.cv_results_\n",
    "\n",
    "def standardize(df):\n",
    "    \n",
    "    standardize_df = df.copy()\n",
    "    \n",
    "    target = None\n",
    "    if 'Survived' in standardize_df.columns.tolist():\n",
    "        target = standardize_df['Survived'] # Separating out the target before standardizing\n",
    "        standardize_df = standardize_df.drop(['Survived'],  axis=1)\n",
    "\n",
    "    # Standardizing the features\n",
    "    scaled_values = StandardScaler().fit_transform(standardize_df.values)\n",
    "    standardize_df = pd.DataFrame(scaled_values, index=standardize_df.index, columns=standardize_df.columns)\n",
    "    if target is not None:\n",
    "        standardize_df = standardize_df.join(target)\n",
    "    \n",
    "    return standardize_df"
   ]
  },
  {
   "cell_type": "markdown",
   "metadata": {
    "_uuid": "789084c52a3741a4bdab8c1feff3bbf81be5fc8d"
   },
   "source": [
    "## 1. Data exploration"
   ]
  },
  {
   "cell_type": "code",
   "execution_count": 6,
   "metadata": {
    "_uuid": "87e46869bf36e52e65b540541789129ee6aed3d8"
   },
   "outputs": [
    {
     "data": {
      "text/html": [
       "<div>\n",
       "<style scoped>\n",
       "    .dataframe tbody tr th:only-of-type {\n",
       "        vertical-align: middle;\n",
       "    }\n",
       "\n",
       "    .dataframe tbody tr th {\n",
       "        vertical-align: top;\n",
       "    }\n",
       "\n",
       "    .dataframe thead th {\n",
       "        text-align: right;\n",
       "    }\n",
       "</style>\n",
       "<table border=\"1\" class=\"dataframe\">\n",
       "  <thead>\n",
       "    <tr style=\"text-align: right;\">\n",
       "      <th></th>\n",
       "      <th>PassengerId</th>\n",
       "      <th>Survived</th>\n",
       "      <th>Pclass</th>\n",
       "      <th>Name</th>\n",
       "      <th>Sex</th>\n",
       "      <th>Age</th>\n",
       "      <th>SibSp</th>\n",
       "      <th>Parch</th>\n",
       "      <th>Ticket</th>\n",
       "      <th>Fare</th>\n",
       "      <th>Cabin</th>\n",
       "      <th>Embarked</th>\n",
       "    </tr>\n",
       "  </thead>\n",
       "  <tbody>\n",
       "    <tr>\n",
       "      <th>0</th>\n",
       "      <td>1</td>\n",
       "      <td>0</td>\n",
       "      <td>3</td>\n",
       "      <td>Braund, Mr. Owen Harris</td>\n",
       "      <td>male</td>\n",
       "      <td>22.0</td>\n",
       "      <td>1</td>\n",
       "      <td>0</td>\n",
       "      <td>A/5 21171</td>\n",
       "      <td>7.2500</td>\n",
       "      <td>NaN</td>\n",
       "      <td>S</td>\n",
       "    </tr>\n",
       "    <tr>\n",
       "      <th>1</th>\n",
       "      <td>2</td>\n",
       "      <td>1</td>\n",
       "      <td>1</td>\n",
       "      <td>Cumings, Mrs. John Bradley (Florence Briggs Th...</td>\n",
       "      <td>female</td>\n",
       "      <td>38.0</td>\n",
       "      <td>1</td>\n",
       "      <td>0</td>\n",
       "      <td>PC 17599</td>\n",
       "      <td>71.2833</td>\n",
       "      <td>C85</td>\n",
       "      <td>C</td>\n",
       "    </tr>\n",
       "    <tr>\n",
       "      <th>2</th>\n",
       "      <td>3</td>\n",
       "      <td>1</td>\n",
       "      <td>3</td>\n",
       "      <td>Heikkinen, Miss. Laina</td>\n",
       "      <td>female</td>\n",
       "      <td>26.0</td>\n",
       "      <td>0</td>\n",
       "      <td>0</td>\n",
       "      <td>STON/O2. 3101282</td>\n",
       "      <td>7.9250</td>\n",
       "      <td>NaN</td>\n",
       "      <td>S</td>\n",
       "    </tr>\n",
       "    <tr>\n",
       "      <th>3</th>\n",
       "      <td>4</td>\n",
       "      <td>1</td>\n",
       "      <td>1</td>\n",
       "      <td>Futrelle, Mrs. Jacques Heath (Lily May Peel)</td>\n",
       "      <td>female</td>\n",
       "      <td>35.0</td>\n",
       "      <td>1</td>\n",
       "      <td>0</td>\n",
       "      <td>113803</td>\n",
       "      <td>53.1000</td>\n",
       "      <td>C123</td>\n",
       "      <td>S</td>\n",
       "    </tr>\n",
       "    <tr>\n",
       "      <th>4</th>\n",
       "      <td>5</td>\n",
       "      <td>0</td>\n",
       "      <td>3</td>\n",
       "      <td>Allen, Mr. William Henry</td>\n",
       "      <td>male</td>\n",
       "      <td>35.0</td>\n",
       "      <td>0</td>\n",
       "      <td>0</td>\n",
       "      <td>373450</td>\n",
       "      <td>8.0500</td>\n",
       "      <td>NaN</td>\n",
       "      <td>S</td>\n",
       "    </tr>\n",
       "  </tbody>\n",
       "</table>\n",
       "</div>"
      ],
      "text/plain": [
       "   PassengerId  Survived  Pclass  \\\n",
       "0            1         0       3   \n",
       "1            2         1       1   \n",
       "2            3         1       3   \n",
       "3            4         1       1   \n",
       "4            5         0       3   \n",
       "\n",
       "                                                Name     Sex   Age  SibSp  \\\n",
       "0                            Braund, Mr. Owen Harris    male  22.0      1   \n",
       "1  Cumings, Mrs. John Bradley (Florence Briggs Th...  female  38.0      1   \n",
       "2                             Heikkinen, Miss. Laina  female  26.0      0   \n",
       "3       Futrelle, Mrs. Jacques Heath (Lily May Peel)  female  35.0      1   \n",
       "4                           Allen, Mr. William Henry    male  35.0      0   \n",
       "\n",
       "   Parch            Ticket     Fare Cabin Embarked  \n",
       "0      0         A/5 21171   7.2500   NaN        S  \n",
       "1      0          PC 17599  71.2833   C85        C  \n",
       "2      0  STON/O2. 3101282   7.9250   NaN        S  \n",
       "3      0            113803  53.1000  C123        S  \n",
       "4      0            373450   8.0500   NaN        S  "
      ]
     },
     "execution_count": 6,
     "metadata": {},
     "output_type": "execute_result"
    }
   ],
   "source": [
    "#create dataframe for training dataset and print ten first rows as preview\n",
    "train_df_raw = pd.read_csv(path_train)\n",
    "train_df_raw.head()"
   ]
  },
  {
   "cell_type": "code",
   "execution_count": 4,
   "metadata": {
    "_uuid": "996505836b43d054f175c48e2229993930d6de3d"
   },
   "outputs": [
    {
     "data": {
      "text/html": [
       "<div>\n",
       "<style scoped>\n",
       "    .dataframe tbody tr th:only-of-type {\n",
       "        vertical-align: middle;\n",
       "    }\n",
       "\n",
       "    .dataframe tbody tr th {\n",
       "        vertical-align: top;\n",
       "    }\n",
       "\n",
       "    .dataframe thead th {\n",
       "        text-align: right;\n",
       "    }\n",
       "</style>\n",
       "<table border=\"1\" class=\"dataframe\">\n",
       "  <thead>\n",
       "    <tr style=\"text-align: right;\">\n",
       "      <th></th>\n",
       "      <th>PassengerId</th>\n",
       "      <th>Survived</th>\n",
       "      <th>Pclass</th>\n",
       "      <th>Age</th>\n",
       "      <th>SibSp</th>\n",
       "      <th>Parch</th>\n",
       "      <th>Fare</th>\n",
       "    </tr>\n",
       "  </thead>\n",
       "  <tbody>\n",
       "    <tr>\n",
       "      <th>count</th>\n",
       "      <td>891.000000</td>\n",
       "      <td>891.000000</td>\n",
       "      <td>891.000000</td>\n",
       "      <td>714.000000</td>\n",
       "      <td>891.000000</td>\n",
       "      <td>891.000000</td>\n",
       "      <td>891.000000</td>\n",
       "    </tr>\n",
       "    <tr>\n",
       "      <th>mean</th>\n",
       "      <td>446.000000</td>\n",
       "      <td>0.383838</td>\n",
       "      <td>2.308642</td>\n",
       "      <td>29.699118</td>\n",
       "      <td>0.523008</td>\n",
       "      <td>0.381594</td>\n",
       "      <td>32.204208</td>\n",
       "    </tr>\n",
       "    <tr>\n",
       "      <th>std</th>\n",
       "      <td>257.353842</td>\n",
       "      <td>0.486592</td>\n",
       "      <td>0.836071</td>\n",
       "      <td>14.526497</td>\n",
       "      <td>1.102743</td>\n",
       "      <td>0.806057</td>\n",
       "      <td>49.693429</td>\n",
       "    </tr>\n",
       "    <tr>\n",
       "      <th>min</th>\n",
       "      <td>1.000000</td>\n",
       "      <td>0.000000</td>\n",
       "      <td>1.000000</td>\n",
       "      <td>0.420000</td>\n",
       "      <td>0.000000</td>\n",
       "      <td>0.000000</td>\n",
       "      <td>0.000000</td>\n",
       "    </tr>\n",
       "    <tr>\n",
       "      <th>25%</th>\n",
       "      <td>223.500000</td>\n",
       "      <td>0.000000</td>\n",
       "      <td>2.000000</td>\n",
       "      <td>20.125000</td>\n",
       "      <td>0.000000</td>\n",
       "      <td>0.000000</td>\n",
       "      <td>7.910400</td>\n",
       "    </tr>\n",
       "    <tr>\n",
       "      <th>50%</th>\n",
       "      <td>446.000000</td>\n",
       "      <td>0.000000</td>\n",
       "      <td>3.000000</td>\n",
       "      <td>28.000000</td>\n",
       "      <td>0.000000</td>\n",
       "      <td>0.000000</td>\n",
       "      <td>14.454200</td>\n",
       "    </tr>\n",
       "    <tr>\n",
       "      <th>75%</th>\n",
       "      <td>668.500000</td>\n",
       "      <td>1.000000</td>\n",
       "      <td>3.000000</td>\n",
       "      <td>38.000000</td>\n",
       "      <td>1.000000</td>\n",
       "      <td>0.000000</td>\n",
       "      <td>31.000000</td>\n",
       "    </tr>\n",
       "    <tr>\n",
       "      <th>max</th>\n",
       "      <td>891.000000</td>\n",
       "      <td>1.000000</td>\n",
       "      <td>3.000000</td>\n",
       "      <td>80.000000</td>\n",
       "      <td>8.000000</td>\n",
       "      <td>6.000000</td>\n",
       "      <td>512.329200</td>\n",
       "    </tr>\n",
       "  </tbody>\n",
       "</table>\n",
       "</div>"
      ],
      "text/plain": [
       "       PassengerId    Survived      Pclass         Age       SibSp  \\\n",
       "count   891.000000  891.000000  891.000000  714.000000  891.000000   \n",
       "mean    446.000000    0.383838    2.308642   29.699118    0.523008   \n",
       "std     257.353842    0.486592    0.836071   14.526497    1.102743   \n",
       "min       1.000000    0.000000    1.000000    0.420000    0.000000   \n",
       "25%     223.500000    0.000000    2.000000   20.125000    0.000000   \n",
       "50%     446.000000    0.000000    3.000000   28.000000    0.000000   \n",
       "75%     668.500000    1.000000    3.000000   38.000000    1.000000   \n",
       "max     891.000000    1.000000    3.000000   80.000000    8.000000   \n",
       "\n",
       "            Parch        Fare  \n",
       "count  891.000000  891.000000  \n",
       "mean     0.381594   32.204208  \n",
       "std      0.806057   49.693429  \n",
       "min      0.000000    0.000000  \n",
       "25%      0.000000    7.910400  \n",
       "50%      0.000000   14.454200  \n",
       "75%      0.000000   31.000000  \n",
       "max      6.000000  512.329200  "
      ]
     },
     "execution_count": 4,
     "metadata": {},
     "output_type": "execute_result"
    }
   ],
   "source": [
    "# Compute some basical statistics on the dataset\n",
    "train_df_raw.describe()"
   ]
  },
  {
   "cell_type": "code",
   "execution_count": 5,
   "metadata": {
    "_uuid": "191dd9ee84b0dcdd283b71bfc53e84f8d49f60da"
   },
   "outputs": [
    {
     "data": {
      "image/png": "[encoded data removed]",
      "text/plain": [
       "<Figure size 1440x1080 with 6 Axes>"
      ]
     },
     "metadata": {
      "needs_background": "light"
     },
     "output_type": "display_data"
    }
   ],
   "source": [
    "# Let's plot some histograms to have a previzualisation of some of the data ...\n",
    "train_df_raw.drop(['PassengerId'], 1).hist(bins=50, figsize=(20,15))\n",
    "plt.show()"
   ]
  },
  {
   "cell_type": "markdown",
   "metadata": {
    "_uuid": "840c201359244d09dbcd378dafd8ebf0a42427c5"
   },
   "source": [
    "With this first exploration, we can see that :\n",
    "\n",
    "* Only aproximately 35% of passengers survived ...\n",
    "* More than the half of passengers are in the lowest class (pclass = 3)\n",
    "* Most of the fare tickets are below 50\n",
    "* Majority of passengers are alone (sibsp and parch)"
   ]
  },
  {
   "cell_type": "markdown",
   "metadata": {
    "_uuid": "c86c5e54aeeb83b785747f2cdd7d276a694b691c"
   },
   "source": [
    "## 2. Features engineering"
   ]
  },
  {
   "cell_type": "code",
   "execution_count": 7,
   "metadata": {
    "_uuid": "0002426c7784d72821b2654013587fff35ca5be6"
   },
   "outputs": [],
   "source": [
    "def preprocess_data(df):\n",
    "    \n",
    "    # Replace string data by numeric data\n",
    "    df['Cabin'].fillna('U0', inplace=True)\n",
    "    df['Sex'] = df['Sex'].replace('male', 1)\n",
    "    df['Sex'] = df['Sex'].replace('female', 0)\n",
    "    df['Embarked'] = df['Embarked'].replace('S', 0)\n",
    "    df['Embarked'] = df['Embarked'].replace('C', 1)\n",
    "    df['Embarked'] = df['Embarked'].replace('Q', 2)\n",
    "    df['Embarked'].fillna(0, inplace=True) # because there is approximately 80% of 0 in embarked column\n",
    "\n",
    "    # Replace NaN data in age column by mean age of passengers\n",
    "    mean_age = df['Age'].mean()\n",
    "    df['Age'].fillna(mean_age, inplace=True)\n",
    "    \n",
    "    df['Fare'] = df['Fare'].interpolate()\n",
    "\n",
    "    # Let's work on 'Name' column : we find the title in the name and extract it on a new column 'Title'\n",
    "    mapping_title = {title: pos for pos, title in enumerate(set([name.split('.')[0].split(',')[1].strip() for name in df['Name']]))}\n",
    "    df['Title'] = pd.Series((mapping_title[name2.split('.')[0].split(',')[1].strip()] for name2 in df['Name']), index=df.index)\n",
    "    df = df.drop(columns=['Name'])\n",
    "\n",
    "    #Creation of a deck column corresponding to the letter contained in the cabin value\n",
    "    mapping_deck = {title: pos for pos, title in enumerate(set([cab[:1] for cab in df['Cabin']]))}\n",
    "    df['Deck'] = pd.Series((mapping_deck[cab2[:1]] for cab2 in df['Cabin']), index=df.index)\n",
    "\n",
    "    # Modify the cabin column to keep only the cabin number\n",
    "    cabin_numbers = list()\n",
    "    for cab3 in df['Cabin']:\n",
    "        if len(cab3) != 1:\n",
    "            cabin_numbers.append(int(cab3[1:].strip()) if len(cab3[1:]) <= 3 else int(cab3[len(cab3)-2:].strip()))\n",
    "        else:\n",
    "            cabin_numbers.append(0)\n",
    "\n",
    "    # df['Cabin'] = pd.Series(cabin_numbers, index=df.index)\n",
    "    df = df.drop(['Cabin'], 1)\n",
    "\n",
    "    # Modify the ticket column to keep only the ticket number\n",
    "    ticket_numbers = list()\n",
    "    for ticket in df['Ticket']:\n",
    "        try:\n",
    "            ticket_numbers.append(int(ticket))\n",
    "        except ValueError:\n",
    "            splitted = ticket.split(' ')\n",
    "            if len(splitted) == 1:\n",
    "                ticket_numbers.append(0)\n",
    "            else:\n",
    "                ticket_numbers.append(int(splitted[len(splitted)-1]))\n",
    "\n",
    "    df['Ticket'] = pd.Series(ticket_numbers, index=df.index)\n",
    "        \n",
    "    return df"
   ]
  },
  {
   "cell_type": "markdown",
   "metadata": {
    "_uuid": "75a781ff2a645d7a68489debed35e4e8e71a5b7e"
   },
   "source": [
    "## 3. Cross validation of model on train dataset"
   ]
  },
  {
   "cell_type": "code",
   "execution_count": 11,
   "metadata": {
    "_uuid": "5938ee5f0e21505fe0766caceab370c3be0cfd3f"
   },
   "outputs": [
    {
     "data": {
      "text/html": [
       "<div>\n",
       "<style scoped>\n",
       "    .dataframe tbody tr th:only-of-type {\n",
       "        vertical-align: middle;\n",
       "    }\n",
       "\n",
       "    .dataframe tbody tr th {\n",
       "        vertical-align: top;\n",
       "    }\n",
       "\n",
       "    .dataframe thead th {\n",
       "        text-align: right;\n",
       "    }\n",
       "</style>\n",
       "<table border=\"1\" class=\"dataframe\">\n",
       "  <thead>\n",
       "    <tr style=\"text-align: right;\">\n",
       "      <th></th>\n",
       "      <th>PassengerId</th>\n",
       "      <th>Pclass</th>\n",
       "      <th>Sex</th>\n",
       "      <th>Age</th>\n",
       "      <th>SibSp</th>\n",
       "      <th>Parch</th>\n",
       "      <th>Ticket</th>\n",
       "      <th>Fare</th>\n",
       "      <th>Embarked</th>\n",
       "      <th>Title</th>\n",
       "      <th>Deck</th>\n",
       "    </tr>\n",
       "  </thead>\n",
       "  <tbody>\n",
       "    <tr>\n",
       "      <th>236</th>\n",
       "      <td>-0.853639</td>\n",
       "      <td>-0.428546</td>\n",
       "      <td>0.709492</td>\n",
       "      <td>1.157631</td>\n",
       "      <td>0.302883</td>\n",
       "      <td>-0.457604</td>\n",
       "      <td>-0.424916</td>\n",
       "      <td>-0.127256</td>\n",
       "      <td>-0.539952</td>\n",
       "      <td>0.573558</td>\n",
       "      <td>0.461449</td>\n",
       "    </tr>\n",
       "    <tr>\n",
       "      <th>88</th>\n",
       "      <td>-1.423412</td>\n",
       "      <td>-1.643215</td>\n",
       "      <td>-1.409460</td>\n",
       "      <td>-0.467340</td>\n",
       "      <td>1.843261</td>\n",
       "      <td>2.120039</td>\n",
       "      <td>-0.434648</td>\n",
       "      <td>4.052062</td>\n",
       "      <td>-0.539952</td>\n",
       "      <td>-1.208797</td>\n",
       "      <td>-1.561652</td>\n",
       "    </tr>\n",
       "    <tr>\n",
       "      <th>757</th>\n",
       "      <td>1.152117</td>\n",
       "      <td>-0.428546</td>\n",
       "      <td>0.709492</td>\n",
       "      <td>-0.854239</td>\n",
       "      <td>-0.467306</td>\n",
       "      <td>-0.457604</td>\n",
       "      <td>-0.421458</td>\n",
       "      <td>-0.382952</td>\n",
       "      <td>-0.539952</td>\n",
       "      <td>0.573558</td>\n",
       "      <td>0.461449</td>\n",
       "    </tr>\n",
       "    <tr>\n",
       "      <th>117</th>\n",
       "      <td>-1.311768</td>\n",
       "      <td>-0.428546</td>\n",
       "      <td>0.709492</td>\n",
       "      <td>-0.003063</td>\n",
       "      <td>0.302883</td>\n",
       "      <td>-0.457604</td>\n",
       "      <td>-0.446575</td>\n",
       "      <td>-0.215427</td>\n",
       "      <td>-0.539952</td>\n",
       "      <td>0.573558</td>\n",
       "      <td>0.461449</td>\n",
       "    </tr>\n",
       "    <tr>\n",
       "      <th>125</th>\n",
       "      <td>-1.280969</td>\n",
       "      <td>0.786123</td>\n",
       "      <td>0.709492</td>\n",
       "      <td>-1.318516</td>\n",
       "      <td>0.302883</td>\n",
       "      <td>-0.457604</td>\n",
       "      <td>-0.459561</td>\n",
       "      <td>-0.387507</td>\n",
       "      <td>1.040828</td>\n",
       "      <td>1.642971</td>\n",
       "      <td>0.461449</td>\n",
       "    </tr>\n",
       "  </tbody>\n",
       "</table>\n",
       "</div>"
      ],
      "text/plain": [
       "     PassengerId    Pclass       Sex       Age     SibSp     Parch    Ticket  \\\n",
       "236    -0.853639 -0.428546  0.709492  1.157631  0.302883 -0.457604 -0.424916   \n",
       "88     -1.423412 -1.643215 -1.409460 -0.467340  1.843261  2.120039 -0.434648   \n",
       "757     1.152117 -0.428546  0.709492 -0.854239 -0.467306 -0.457604 -0.421458   \n",
       "117    -1.311768 -0.428546  0.709492 -0.003063  0.302883 -0.457604 -0.446575   \n",
       "125    -1.280969  0.786123  0.709492 -1.318516  0.302883 -0.457604 -0.459561   \n",
       "\n",
       "         Fare  Embarked     Title      Deck  \n",
       "236 -0.127256 -0.539952  0.573558  0.461449  \n",
       "88   4.052062 -0.539952 -1.208797 -1.561652  \n",
       "757 -0.382952 -0.539952  0.573558  0.461449  \n",
       "117 -0.215427 -0.539952  0.573558  0.461449  \n",
       "125 -0.387507  1.040828  1.642971  0.461449  "
      ]
     },
     "execution_count": 11,
     "metadata": {},
     "output_type": "execute_result"
    }
   ],
   "source": [
    "# Let's divide the train dataset in two datasets to evaluate perfomance of machine learning models used\n",
    "train_df = train_df_raw.copy()\n",
    "X_train = train_df.drop(['Survived'], 1)\n",
    "Y_train = train_df['Survived']\n",
    "\n",
    "# Split dataset for prediction\n",
    "X_train_sample_train, X_train_sample_test, Y_train_sample_train, Y_train_sample_test = sklearn.model_selection.train_test_split(X_train,\n",
    "                                                                                                                                Y_train, \n",
    "                                                                                                                                test_size=0.5, \n",
    "                                                                                                                                random_state=42)\n",
    "\n",
    "X_train_sample_train = preprocess_data(X_train_sample_train)\n",
    "X_train_sample_test = preprocess_data(X_train_sample_test)\n",
    "X_train_sample_train = standardize(X_train_sample_train)\n",
    "X_train_sample_test = standardize(X_train_sample_test)\n",
    "\n",
    "X_train_sample_train.head()"
   ]
  },
  {
   "cell_type": "markdown",
   "metadata": {},
   "source": [
    "### 3.1 Try several models"
   ]
  },
  {
   "cell_type": "code",
   "execution_count": 12,
   "metadata": {},
   "outputs": [
    {
     "name": "stdout",
     "output_type": "stream",
     "text": [
      "              precision    recall  f1-score   support\n",
      "\n",
      "           0       0.82      0.89      0.85       267\n",
      "           1       0.81      0.70      0.75       179\n",
      "\n",
      "   micro avg       0.81      0.81      0.81       446\n",
      "   macro avg       0.81      0.79      0.80       446\n",
      "weighted avg       0.81      0.81      0.81       446\n",
      "\n"
     ]
    },
    {
     "data": {
      "image/png": "[encoded data removed]",
      "text/plain": [
       "<Figure size 648x648 with 2 Axes>"
      ]
     },
     "metadata": {
      "needs_background": "light"
     },
     "output_type": "display_data"
    }
   ],
   "source": [
    "# Create and train model on train data sample\n",
    "logisticRegr = LogisticRegression(random_state=42)\n",
    "logisticRegr.fit(X_train_sample_train, Y_train_sample_train)\n",
    "\n",
    "# Predict for test data sample\n",
    "logistic_prediction_train = logisticRegr.predict(X_train_sample_test)\n",
    "\n",
    "# Compute error between predicted data and true response and display it in confusion matrix\n",
    "score = metrics.accuracy_score(Y_train_sample_test, logistic_prediction_train)\n",
    "display_confusion_matrix(Y_train_sample_test, logistic_prediction_train, score=score)"
   ]
  },
  {
   "cell_type": "code",
   "execution_count": 13,
   "metadata": {},
   "outputs": [
    {
     "name": "stdout",
     "output_type": "stream",
     "text": [
      "              precision    recall  f1-score   support\n",
      "\n",
      "           0       0.80      0.90      0.85       267\n",
      "           1       0.81      0.66      0.73       179\n",
      "\n",
      "   micro avg       0.80      0.80      0.80       446\n",
      "   macro avg       0.81      0.78      0.79       446\n",
      "weighted avg       0.80      0.80      0.80       446\n",
      "\n"
     ]
    },
    {
     "data": {
      "image/png": "[encoded data removed]",
      "text/plain": [
       "<Figure size 648x648 with 2 Axes>"
      ]
     },
     "metadata": {
      "needs_background": "light"
     },
     "output_type": "display_data"
    }
   ],
   "source": [
    "# Create and train model on train data sample\n",
    "dt = DecisionTreeClassifier(min_samples_split=15, min_samples_leaf=8, random_state=42)\n",
    "dt.fit(X_train_sample_train, Y_train_sample_train)\n",
    "\n",
    "# Predict for test data sample\n",
    "dt_prediction_train = dt.predict(X_train_sample_test)\n",
    "\n",
    "# Compute error between predicted data and true response and display it in confusion matrix\n",
    "score = metrics.accuracy_score(Y_train_sample_test, dt_prediction_train)\n",
    "display_confusion_matrix(Y_train_sample_test, dt_prediction_train, score=score)"
   ]
  },
  {
   "cell_type": "code",
   "execution_count": 14,
   "metadata": {},
   "outputs": [],
   "source": [
    "visualize_tree(dt, X_train_sample_test.columns)\n",
    "! dot -Tpng dt.dot > dt.png"
   ]
  },
  {
   "cell_type": "markdown",
   "metadata": {},
   "source": [
    "![title](dt.png)"
   ]
  },
  {
   "cell_type": "code",
   "execution_count": 15,
   "metadata": {},
   "outputs": [
    {
     "name": "stdout",
     "output_type": "stream",
     "text": [
      "              precision    recall  f1-score   support\n",
      "\n",
      "           0       0.84      0.88      0.86       267\n",
      "           1       0.80      0.74      0.77       179\n",
      "\n",
      "   micro avg       0.82      0.82      0.82       446\n",
      "   macro avg       0.82      0.81      0.81       446\n",
      "weighted avg       0.82      0.82      0.82       446\n",
      "\n"
     ]
    },
    {
     "data": {
      "image/png": "[encoded data removed]",
      "text/plain": [
       "<Figure size 648x648 with 2 Axes>"
      ]
     },
     "metadata": {
      "needs_background": "light"
     },
     "output_type": "display_data"
    }
   ],
   "source": [
    "# Create and train model on train data sample\n",
    "rf = RandomForestClassifier(n_estimators=50, random_state = 42)\n",
    "rf.fit(X_train_sample_train, Y_train_sample_train)\n",
    "\n",
    "# Predict for test data sample\n",
    "rf_prediction_train = rf.predict(X_train_sample_test)\n",
    "\n",
    "# Compute error between predicted data and true response and display it in confusion matrix\n",
    "score = metrics.accuracy_score(Y_train_sample_test, rf_prediction_train)\n",
    "display_confusion_matrix(Y_train_sample_test, rf_prediction_train, score=score)"
   ]
  },
  {
   "cell_type": "code",
   "execution_count": 16,
   "metadata": {},
   "outputs": [
    {
     "name": "stdout",
     "output_type": "stream",
     "text": [
      "              precision    recall  f1-score   support\n",
      "\n",
      "           0       0.82      0.88      0.85       267\n",
      "           1       0.79      0.71      0.75       179\n",
      "\n",
      "   micro avg       0.81      0.81      0.81       446\n",
      "   macro avg       0.81      0.79      0.80       446\n",
      "weighted avg       0.81      0.81      0.81       446\n",
      "\n"
     ]
    },
    {
     "data": {
      "image/png": "[encoded data removed]",
      "text/plain": [
       "<Figure size 648x648 with 2 Axes>"
      ]
     },
     "metadata": {
      "needs_background": "light"
     },
     "output_type": "display_data"
    }
   ],
   "source": [
    "# Create and train model on train data sample\n",
    "vot = VotingClassifier([('dt', dt), ('lr', logisticRegr), ('rf', rf)], voting='soft')\n",
    "vot.fit(X_train_sample_train, Y_train_sample_train)\n",
    "\n",
    "# Predict for test data sample\n",
    "vot_prediction_train = vot.predict(X_train_sample_test)\n",
    "\n",
    "# Compute error between predicted data and true response and display it in confusion matrix\n",
    "score = metrics.accuracy_score(Y_train_sample_test, vot_prediction_train)\n",
    "display_confusion_matrix(Y_train_sample_test, vot_prediction_train, score=score)"
   ]
  },
  {
   "cell_type": "code",
   "execution_count": 36,
   "metadata": {},
   "outputs": [
    {
     "name": "stdout",
     "output_type": "stream",
     "text": [
      "              precision    recall  f1-score   support\n",
      "\n",
      "           0       0.80      0.89      0.84       267\n",
      "           1       0.81      0.67      0.73       179\n",
      "\n",
      "   micro avg       0.80      0.80      0.80       446\n",
      "   macro avg       0.80      0.78      0.79       446\n",
      "weighted avg       0.80      0.80      0.80       446\n",
      "\n"
     ]
    },
    {
     "data": {
      "image/png": "[encoded data removed]",
      "text/plain": [
       "<Figure size 648x648 with 2 Axes>"
      ]
     },
     "metadata": {
      "needs_background": "light"
     },
     "output_type": "display_data"
    }
   ],
   "source": [
    "# First try with a random forest with all default parameters\n",
    "boost = XGBClassifier(random_state=42) # replace the sckitlearn class here to try other models\n",
    "# model.fit(X_train_sample_train, Y_train_sample_train, early_stopping_rounds=1000, eval_set=[(X_train_sample_test, Y_train_sample_test)], verbose=False)\n",
    "boost.fit(X_train_sample_train, Y_train_sample_train)\n",
    "\n",
    "# Predict for test data sample\n",
    "boost_prediction_train = boost.predict(X_train_sample_test)\n",
    "\n",
    "# Compute error between predicted data and true response and display it in confusion matrix\n",
    "score = metrics.accuracy_score(Y_train_sample_test, boost_prediction_train)\n",
    "\n",
    "display_confusion_matrix(Y_train_sample_test, boost_prediction_train, score=score)"
   ]
  },
  {
   "cell_type": "markdown",
   "metadata": {},
   "source": [
    "### 3.2 Select one model"
   ]
  },
  {
   "cell_type": "markdown",
   "metadata": {},
   "source": [
    "#### *Let's try to tune one model*"
   ]
  },
  {
   "cell_type": "code",
   "execution_count": 57,
   "metadata": {
    "_uuid": "b3408bd80adbc5bec43eb86d2ab5d97aef67cab5"
   },
   "outputs": [
    {
     "name": "stdout",
     "output_type": "stream",
     "text": [
      "{'gamma': 1, 'learning_rate': 0.1, 'max_depth': 8, 'min_child_weight': 4} 0.8202247191011236\n"
     ]
    }
   ],
   "source": [
    "param_grid_model = {'learning_rate': [0.1, 0.01, 0.001], 'min_child_weight': [2, 4, 8], 'max_depth': [5, 8, 10], 'gamma': [1, 4, 8, 0]}\n",
    "\n",
    "best_params_model, best_precision_model, result = model_tuning(model=boost, param_grid=param_grid_model)\n",
    "print(best_params_model, best_precision_model)"
   ]
  },
  {
   "cell_type": "code",
   "execution_count": 58,
   "metadata": {
    "_uuid": "aa2599716a9a5f2daf35594ace4a2a5f3005952c"
   },
   "outputs": [
    {
     "name": "stdout",
     "output_type": "stream",
     "text": [
      "              precision    recall  f1-score   support\n",
      "\n",
      "           0       0.84      0.89      0.86       267\n",
      "           1       0.82      0.74      0.78       179\n",
      "\n",
      "   micro avg       0.83      0.83      0.83       446\n",
      "   macro avg       0.83      0.81      0.82       446\n",
      "weighted avg       0.83      0.83      0.83       446\n",
      "\n"
     ]
    },
    {
     "data": {
      "image/png": "[encoded data removed]",
      "text/plain": [
       "<Figure size 648x648 with 2 Axes>"
      ]
     },
     "metadata": {
      "needs_background": "light"
     },
     "output_type": "display_data"
    }
   ],
   "source": [
    "model_tuned = XGBClassifier(n_estimators=50, n_jobs=-1, random_state=42, **best_params_model) # replace the sckitlearn class here to try other models\n",
    "model_tuned.fit(X_train_sample_train, Y_train_sample_train)\n",
    "\n",
    "# Predict for test data sample\n",
    "model_tuned_prediction_train = model_tuned.predict(X_train_sample_test)\n",
    "\n",
    "# Compute error between predicted data and true response and display it in confusion matrix\n",
    "display_confusion_matrix(Y_train_sample_test, model_tuned_prediction_train, score=metrics.accuracy_score(Y_train_sample_test, model_tuned_prediction_train))"
   ]
  },
  {
   "cell_type": "markdown",
   "metadata": {
    "_uuid": "e8a001987a5b6d489780672bedfbdcfab88dd9d6"
   },
   "source": [
    "#### *Tuning the model indeed increased accuracy, let's apply the model on test data now !*"
   ]
  },
  {
   "cell_type": "markdown",
   "metadata": {
    "_uuid": "06c3acf429d8d09968c07e8c1c06f88875bb62db"
   },
   "source": [
    "## 4. Apply on test dataset and submit on kaggle "
   ]
  },
  {
   "cell_type": "code",
   "execution_count": 32,
   "metadata": {
    "_uuid": "962229f11da6b327557f53e048f0a55068f6dc4a"
   },
   "outputs": [],
   "source": [
    "test_df_raw = pd.read_csv(path_test)\n",
    "test_df = test_df_raw.copy()\n",
    "X_test = preprocess_data(test_df)\n",
    "X_test = standardize(X_test)\n",
    "X_train = preprocess_data(X_train)\n",
    "X_train = standardize(X_train)"
   ]
  },
  {
   "cell_type": "code",
   "execution_count": 33,
   "metadata": {
    "_uuid": "499d60687a2a8ce30edbdf17e2f3ed89d7d9e7bc"
   },
   "outputs": [],
   "source": [
    "# Create and train model on train data sample\n",
    "model_test = XGBClassifier(n_estimators=100, n_jobs=-1, random_state=42, **best_params_model) # replace the sckitlearn class here to try other models\n",
    "model_test.fit(X_train, Y_train)\n",
    "\n",
    "# Predict for test data sample\n",
    "model_test_prediction_test = model_test.predict(X_test)\n",
    "\n",
    "result_df_xgb = test_df_raw.copy()\n",
    "result_df_xgb['Survived'] = model_test_prediction_test.astype(int)\n",
    "\n",
    "result_df_xgb.head()\n",
    "result_df_xgb.to_csv('submission.csv', columns=['PassengerId', 'Survived'], index=False)"
   ]
  },
  {
   "cell_type": "markdown",
   "metadata": {
    "_uuid": "33860af24a5a19833ae74f1014baa293e857264f"
   },
   "source": [
    "#### *Precision obtained on kaggle : 0.79425 !** 🎉*"
   ]
  }
 ],
 "metadata": {
  "kernelspec": {
   "display_name": "mlenv",
   "language": "python",
   "name": "mlenv"
  },
  "language_info": {
   "codemirror_mode": {
    "name": "ipython",
    "version": 3
   },
   "file_extension": ".py",
   "mimetype": "text/x-python",
   "name": "python",
   "nbconvert_exporter": "python",
   "pygments_lexer": "ipython3",
   "version": "3.6.6"
  }
 },
 "nbformat": 4,
 "nbformat_minor": 2
}
