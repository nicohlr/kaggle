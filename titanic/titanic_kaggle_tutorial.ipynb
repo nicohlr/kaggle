{
 "cells": [
  {
   "cell_type": "markdown",
   "metadata": {
    "_uuid": "5adae90bcaed7a0bf4725a7c82fa216e8099f7bd"
   },
   "source": [
    "# **Complete Titanic tutorial with ML, NN & Ensembling**"
   ]
  },
  {
   "cell_type": "markdown",
   "metadata": {
    "_uuid": "25b5c0086ed0b380daec0b2b378f21d7f09b0ae7"
   },
   "source": [
    "### Hi Kagglers 👋👋👋,\n",
    "\n",
    "### Welcome on this tutorial ! It is aimed for beginners but whatever your level you could read it, and if you find a way to improve it I encourage you to fork this notebook and contribute by adding a better solution !"
   ]
  },
  {
   "cell_type": "markdown",
   "metadata": {
    "_uuid": "4c2e8b8de8ae6e359fa4444d4bbfc71c29ae69e8"
   },
   "source": [
    "![](https://i.ytimg.com/vi/yuMNWt6S0ZA/maxresdefault.jpg)"
   ]
  },
  {
   "cell_type": "markdown",
   "metadata": {
    "_uuid": "e42db9294ba8b1137ebb9df86c46c3c38de7627e"
   },
   "source": [
    "### In this notebook, we are going to predict wether a passenger of the famous boat will survive or not. By doing this, we will go through several topics and fundamental techniques of machine learning. Here is a list of these techniques and some additional resources that you can consult to find out more: \n",
    "\n",
    "[EDA | Data exploration](https://medium.com/python-pandemonium/introduction-to-exploratory-data-analysis-in-python-8b6bcb55c190)  \n",
    "[Features engineering](https://adataanalyst.com/machine-learning/comprehensive-guide-feature-engineering/)  \n",
    "[Evaluating a model over one training | metrics](https://machinelearningmastery.com/metrics-evaluate-machine-learning-algorithms-python/)  \n",
    "[Evaluating a model over several trainings | k-fold cross validation](https://towardsdatascience.com/train-test-split-and-cross-validation-in-python-80b61beca4b6)  \n",
    "[Neural network with keras](https://elitedatascience.com/keras-tutorial-deep-learning-in-python)  \n",
    "[Ensembling](https://mlwave.com/kaggle-ensembling-guide/)"
   ]
  },
  {
   "cell_type": "markdown",
   "metadata": {},
   "source": [
    "## **Table of Contents**"
   ]
  },
  {
   "cell_type": "markdown",
   "metadata": {},
   "source": [
    "#### 1. [Data exploration](#data_exploration)\n",
    "#### 2. [Feature egineering](#fe)\n",
    "#### 3. [Try several models](#trymodels)\n",
    "#### 4. [Choosing the best model](#choose)\n",
    "#### 5. [Esembling - Homemade classifier](#ensembling)\n",
    "#### 6. [Submission](#submission)\n",
    "#### 7. [Results](#results)  \n"
   ]
  },
  {
   "cell_type": "markdown",
   "metadata": {
    "_uuid": "36ce2f5c196e4773aff267a85a1a908b92c6168f"
   },
   "source": [
    "## **Imports and useful functions**"
   ]
  },
  {
   "cell_type": "code",
   "execution_count": 1,
   "metadata": {
    "_cell_guid": "b1076dfc-b9ad-4769-8c92-a6c4dae69d19",
    "_uuid": "8f2839f25d086af736a60e9eeb907d3b93b6e0e5"
   },
   "outputs": [
    {
     "name": "stderr",
     "output_type": "stream",
     "text": [
      "Using TensorFlow backend.\n"
     ]
    }
   ],
   "source": [
    "import pandas as pd\n",
    "import numpy as np\n",
    "import seaborn as sns\n",
    "sns.set()\n",
    "import matplotlib\n",
    "import pydot\n",
    "import re\n",
    "import os\n",
    "\n",
    "%matplotlib inline\n",
    "import matplotlib\n",
    "import matplotlib.pyplot as plt\n",
    "\n",
    "# Ignore warnings\n",
    "import warnings\n",
    "warnings.filterwarnings('ignore')\n",
    "\n",
    "import keras\n",
    "from keras.models import Sequential\n",
    "from keras.layers import Dense, Dropout\n",
    "from keras import optimizers\n",
    "from keras.wrappers.scikit_learn import KerasClassifier\n",
    "\n",
    "import sklearn\n",
    "from sklearn import metrics\n",
    "from sklearn.svm import SVC\n",
    "from sklearn.linear_model import LogisticRegression\n",
    "from sklearn.ensemble import RandomForestClassifier\n",
    "from sklearn.tree import export_graphviz, DecisionTreeClassifier\n",
    "from sklearn.preprocessing import StandardScaler\n",
    "from sklearn.model_selection import cross_val_score, train_test_split\n",
    "from sklearn.exceptions import NotFittedError\n",
    "from sklearn.base import BaseEstimator, ClassifierMixin\n",
    "\n",
    "from IPython.display import display"
   ]
  },
  {
   "cell_type": "code",
   "execution_count": 2,
   "metadata": {
    "_cell_guid": "79c7e3d0-c299-4dcb-8224-4455121ee9b0",
    "_kg_hide-input": true,
    "_uuid": "d629ff2d2480ee46fbb7e2d37f6b5fab8052498a"
   },
   "outputs": [],
   "source": [
    "# Some useful functions we'll use in this notebook\n",
    "\n",
    "def display_confusion_matrix(target, prediction, score=None):\n",
    "    cm = metrics.confusion_matrix(target, prediction)\n",
    "    plt.figure(figsize=(5.5,5.5))\n",
    "    sns.heatmap(cm, annot=True, fmt=\".3f\", linewidths=.5, square=True, cmap='Blues_r')\n",
    "    plt.ylabel('Actual label')\n",
    "    plt.xlabel('Predicted label')\n",
    "    if score:\n",
    "        all_sample_title = 'Accuracy Score: {0}'.format(score)\n",
    "        plt.title(all_sample_title, size = 12)\n",
    "    classification_report = pd.DataFrame.from_dict(metrics.classification_report(target, prediction, output_dict=True), orient='index')\n",
    "    display(classification_report.round(2))\n",
    "    \n",
    "def visualize_tree(tree, feature_names):\n",
    "    with open(\"dt.dot\", 'w') as f:\n",
    "        export_graphviz(tree, out_file=f, feature_names=feature_names)\n",
    "    try:\n",
    "        subprocess.check_call([\"dot\", \"-Tpng\", \"dt.dot\", \"-o\", \"dt.png\"])\n",
    "    except:\n",
    "        exit(\"Could not run dot, ie graphviz, to produce visualization\")\n",
    "        \n",
    "def draw_missing_data_table(df):\n",
    "    total = df.isnull().sum().sort_values(ascending=False)\n",
    "    percent = (df.isnull().sum()/df.isnull().count()).sort_values(ascending=False)\n",
    "    missing_data = pd.concat([total, percent], axis=1, keys=['Total', 'Percent'])\n",
    "    return missing_data"
   ]
  },
  {
   "cell_type": "code",
   "execution_count": 3,
   "metadata": {},
   "outputs": [],
   "source": [
    "# Path of datasets\n",
    "path_train = os.path.join(os.path.dirname(os.path.abspath('__file__')), 'datasets/train.csv')\n",
    "path_test = os.path.join(os.path.dirname(os.path.abspath('__file__')), 'datasets/test.csv')"
   ]
  },
  {
   "cell_type": "markdown",
   "metadata": {
    "_uuid": "789084c52a3741a4bdab8c1feff3bbf81be5fc8d"
   },
   "source": [
    "## **1. Data exploration** <a name=\"data_exploration\"></a>"
   ]
  },
  {
   "cell_type": "code",
   "execution_count": 4,
   "metadata": {
    "_uuid": "87e46869bf36e52e65b540541789129ee6aed3d8"
   },
   "outputs": [
    {
     "data": {
      "text/html": [
       "<div>\n",
       "<style scoped>\n",
       "    .dataframe tbody tr th:only-of-type {\n",
       "        vertical-align: middle;\n",
       "    }\n",
       "\n",
       "    .dataframe tbody tr th {\n",
       "        vertical-align: top;\n",
       "    }\n",
       "\n",
       "    .dataframe thead th {\n",
       "        text-align: right;\n",
       "    }\n",
       "</style>\n",
       "<table border=\"1\" class=\"dataframe\">\n",
       "  <thead>\n",
       "    <tr style=\"text-align: right;\">\n",
       "      <th></th>\n",
       "      <th>PassengerId</th>\n",
       "      <th>Survived</th>\n",
       "      <th>Pclass</th>\n",
       "      <th>Name</th>\n",
       "      <th>Sex</th>\n",
       "      <th>Age</th>\n",
       "      <th>SibSp</th>\n",
       "      <th>Parch</th>\n",
       "      <th>Ticket</th>\n",
       "      <th>Fare</th>\n",
       "      <th>Cabin</th>\n",
       "      <th>Embarked</th>\n",
       "    </tr>\n",
       "  </thead>\n",
       "  <tbody>\n",
       "    <tr>\n",
       "      <th>0</th>\n",
       "      <td>1</td>\n",
       "      <td>0</td>\n",
       "      <td>3</td>\n",
       "      <td>Braund, Mr. Owen Harris</td>\n",
       "      <td>male</td>\n",
       "      <td>22.0</td>\n",
       "      <td>1</td>\n",
       "      <td>0</td>\n",
       "      <td>A/5 21171</td>\n",
       "      <td>7.2500</td>\n",
       "      <td>NaN</td>\n",
       "      <td>S</td>\n",
       "    </tr>\n",
       "    <tr>\n",
       "      <th>1</th>\n",
       "      <td>2</td>\n",
       "      <td>1</td>\n",
       "      <td>1</td>\n",
       "      <td>Cumings, Mrs. John Bradley (Florence Briggs Th...</td>\n",
       "      <td>female</td>\n",
       "      <td>38.0</td>\n",
       "      <td>1</td>\n",
       "      <td>0</td>\n",
       "      <td>PC 17599</td>\n",
       "      <td>71.2833</td>\n",
       "      <td>C85</td>\n",
       "      <td>C</td>\n",
       "    </tr>\n",
       "    <tr>\n",
       "      <th>2</th>\n",
       "      <td>3</td>\n",
       "      <td>1</td>\n",
       "      <td>3</td>\n",
       "      <td>Heikkinen, Miss. Laina</td>\n",
       "      <td>female</td>\n",
       "      <td>26.0</td>\n",
       "      <td>0</td>\n",
       "      <td>0</td>\n",
       "      <td>STON/O2. 3101282</td>\n",
       "      <td>7.9250</td>\n",
       "      <td>NaN</td>\n",
       "      <td>S</td>\n",
       "    </tr>\n",
       "    <tr>\n",
       "      <th>3</th>\n",
       "      <td>4</td>\n",
       "      <td>1</td>\n",
       "      <td>1</td>\n",
       "      <td>Futrelle, Mrs. Jacques Heath (Lily May Peel)</td>\n",
       "      <td>female</td>\n",
       "      <td>35.0</td>\n",
       "      <td>1</td>\n",
       "      <td>0</td>\n",
       "      <td>113803</td>\n",
       "      <td>53.1000</td>\n",
       "      <td>C123</td>\n",
       "      <td>S</td>\n",
       "    </tr>\n",
       "    <tr>\n",
       "      <th>4</th>\n",
       "      <td>5</td>\n",
       "      <td>0</td>\n",
       "      <td>3</td>\n",
       "      <td>Allen, Mr. William Henry</td>\n",
       "      <td>male</td>\n",
       "      <td>35.0</td>\n",
       "      <td>0</td>\n",
       "      <td>0</td>\n",
       "      <td>373450</td>\n",
       "      <td>8.0500</td>\n",
       "      <td>NaN</td>\n",
       "      <td>S</td>\n",
       "    </tr>\n",
       "  </tbody>\n",
       "</table>\n",
       "</div>"
      ],
      "text/plain": [
       "   PassengerId  Survived  Pclass  \\\n",
       "0            1         0       3   \n",
       "1            2         1       1   \n",
       "2            3         1       3   \n",
       "3            4         1       1   \n",
       "4            5         0       3   \n",
       "\n",
       "                                                Name     Sex   Age  SibSp  \\\n",
       "0                            Braund, Mr. Owen Harris    male  22.0      1   \n",
       "1  Cumings, Mrs. John Bradley (Florence Briggs Th...  female  38.0      1   \n",
       "2                             Heikkinen, Miss. Laina  female  26.0      0   \n",
       "3       Futrelle, Mrs. Jacques Heath (Lily May Peel)  female  35.0      1   \n",
       "4                           Allen, Mr. William Henry    male  35.0      0   \n",
       "\n",
       "   Parch            Ticket     Fare Cabin Embarked  \n",
       "0      0         A/5 21171   7.2500   NaN        S  \n",
       "1      0          PC 17599  71.2833   C85        C  \n",
       "2      0  STON/O2. 3101282   7.9250   NaN        S  \n",
       "3      0            113803  53.1000  C123        S  \n",
       "4      0            373450   8.0500   NaN        S  "
      ]
     },
     "execution_count": 4,
     "metadata": {},
     "output_type": "execute_result"
    }
   ],
   "source": [
    "# Create dataframe for training dataset and print five first rows as preview\n",
    "train_df_raw = pd.read_csv(path_train)\n",
    "train_df_raw.head()"
   ]
  },
  {
   "cell_type": "code",
   "execution_count": 5,
   "metadata": {
    "_uuid": "996505836b43d054f175c48e2229993930d6de3d"
   },
   "outputs": [
    {
     "data": {
      "text/html": [
       "<div>\n",
       "<style scoped>\n",
       "    .dataframe tbody tr th:only-of-type {\n",
       "        vertical-align: middle;\n",
       "    }\n",
       "\n",
       "    .dataframe tbody tr th {\n",
       "        vertical-align: top;\n",
       "    }\n",
       "\n",
       "    .dataframe thead th {\n",
       "        text-align: right;\n",
       "    }\n",
       "</style>\n",
       "<table border=\"1\" class=\"dataframe\">\n",
       "  <thead>\n",
       "    <tr style=\"text-align: right;\">\n",
       "      <th></th>\n",
       "      <th>PassengerId</th>\n",
       "      <th>Survived</th>\n",
       "      <th>Pclass</th>\n",
       "      <th>Age</th>\n",
       "      <th>SibSp</th>\n",
       "      <th>Parch</th>\n",
       "      <th>Fare</th>\n",
       "    </tr>\n",
       "  </thead>\n",
       "  <tbody>\n",
       "    <tr>\n",
       "      <th>count</th>\n",
       "      <td>891.000000</td>\n",
       "      <td>891.000000</td>\n",
       "      <td>891.000000</td>\n",
       "      <td>714.000000</td>\n",
       "      <td>891.000000</td>\n",
       "      <td>891.000000</td>\n",
       "      <td>891.000000</td>\n",
       "    </tr>\n",
       "    <tr>\n",
       "      <th>mean</th>\n",
       "      <td>446.000000</td>\n",
       "      <td>0.383838</td>\n",
       "      <td>2.308642</td>\n",
       "      <td>29.699118</td>\n",
       "      <td>0.523008</td>\n",
       "      <td>0.381594</td>\n",
       "      <td>32.204208</td>\n",
       "    </tr>\n",
       "    <tr>\n",
       "      <th>std</th>\n",
       "      <td>257.353842</td>\n",
       "      <td>0.486592</td>\n",
       "      <td>0.836071</td>\n",
       "      <td>14.526497</td>\n",
       "      <td>1.102743</td>\n",
       "      <td>0.806057</td>\n",
       "      <td>49.693429</td>\n",
       "    </tr>\n",
       "    <tr>\n",
       "      <th>min</th>\n",
       "      <td>1.000000</td>\n",
       "      <td>0.000000</td>\n",
       "      <td>1.000000</td>\n",
       "      <td>0.420000</td>\n",
       "      <td>0.000000</td>\n",
       "      <td>0.000000</td>\n",
       "      <td>0.000000</td>\n",
       "    </tr>\n",
       "    <tr>\n",
       "      <th>25%</th>\n",
       "      <td>223.500000</td>\n",
       "      <td>0.000000</td>\n",
       "      <td>2.000000</td>\n",
       "      <td>20.125000</td>\n",
       "      <td>0.000000</td>\n",
       "      <td>0.000000</td>\n",
       "      <td>7.910400</td>\n",
       "    </tr>\n",
       "    <tr>\n",
       "      <th>50%</th>\n",
       "      <td>446.000000</td>\n",
       "      <td>0.000000</td>\n",
       "      <td>3.000000</td>\n",
       "      <td>28.000000</td>\n",
       "      <td>0.000000</td>\n",
       "      <td>0.000000</td>\n",
       "      <td>14.454200</td>\n",
       "    </tr>\n",
       "    <tr>\n",
       "      <th>75%</th>\n",
       "      <td>668.500000</td>\n",
       "      <td>1.000000</td>\n",
       "      <td>3.000000</td>\n",
       "      <td>38.000000</td>\n",
       "      <td>1.000000</td>\n",
       "      <td>0.000000</td>\n",
       "      <td>31.000000</td>\n",
       "    </tr>\n",
       "    <tr>\n",
       "      <th>max</th>\n",
       "      <td>891.000000</td>\n",
       "      <td>1.000000</td>\n",
       "      <td>3.000000</td>\n",
       "      <td>80.000000</td>\n",
       "      <td>8.000000</td>\n",
       "      <td>6.000000</td>\n",
       "      <td>512.329200</td>\n",
       "    </tr>\n",
       "  </tbody>\n",
       "</table>\n",
       "</div>"
      ],
      "text/plain": [
       "       PassengerId    Survived      Pclass         Age       SibSp  \\\n",
       "count   891.000000  891.000000  891.000000  714.000000  891.000000   \n",
       "mean    446.000000    0.383838    2.308642   29.699118    0.523008   \n",
       "std     257.353842    0.486592    0.836071   14.526497    1.102743   \n",
       "min       1.000000    0.000000    1.000000    0.420000    0.000000   \n",
       "25%     223.500000    0.000000    2.000000   20.125000    0.000000   \n",
       "50%     446.000000    0.000000    3.000000   28.000000    0.000000   \n",
       "75%     668.500000    1.000000    3.000000   38.000000    1.000000   \n",
       "max     891.000000    1.000000    3.000000   80.000000    8.000000   \n",
       "\n",
       "            Parch        Fare  \n",
       "count  891.000000  891.000000  \n",
       "mean     0.381594   32.204208  \n",
       "std      0.806057   49.693429  \n",
       "min      0.000000    0.000000  \n",
       "25%      0.000000    7.910400  \n",
       "50%      0.000000   14.454200  \n",
       "75%      0.000000   31.000000  \n",
       "max      6.000000  512.329200  "
      ]
     },
     "execution_count": 5,
     "metadata": {},
     "output_type": "execute_result"
    }
   ],
   "source": [
    "# Compute some basical statistics on the dataset\n",
    "train_df_raw.describe()"
   ]
  },
  {
   "cell_type": "code",
   "execution_count": 6,
   "metadata": {
    "_uuid": "fef3c1d1492d727777d1504d8617e4e87f111aa3"
   },
   "outputs": [
    {
     "name": "stdout",
     "output_type": "stream",
     "text": [
      "<class 'pandas.core.frame.DataFrame'>\n",
      "RangeIndex: 891 entries, 0 to 890\n",
      "Data columns (total 12 columns):\n",
      "PassengerId    891 non-null int64\n",
      "Survived       891 non-null int64\n",
      "Pclass         891 non-null int64\n",
      "Name           891 non-null object\n",
      "Sex            891 non-null object\n",
      "Age            714 non-null float64\n",
      "SibSp          891 non-null int64\n",
      "Parch          891 non-null int64\n",
      "Ticket         891 non-null object\n",
      "Fare           891 non-null float64\n",
      "Cabin          204 non-null object\n",
      "Embarked       889 non-null object\n",
      "dtypes: float64(2), int64(5), object(5)\n",
      "memory usage: 83.6+ KB\n"
     ]
    }
   ],
   "source": [
    "train_df_raw.info()"
   ]
  },
  {
   "cell_type": "code",
   "execution_count": 7,
   "metadata": {
    "_uuid": "acd9bb6a9386a83128d7a8787e5c42ef2f5b2c90"
   },
   "outputs": [
    {
     "data": {
      "text/html": [
       "<div>\n",
       "<style scoped>\n",
       "    .dataframe tbody tr th:only-of-type {\n",
       "        vertical-align: middle;\n",
       "    }\n",
       "\n",
       "    .dataframe tbody tr th {\n",
       "        vertical-align: top;\n",
       "    }\n",
       "\n",
       "    .dataframe thead th {\n",
       "        text-align: right;\n",
       "    }\n",
       "</style>\n",
       "<table border=\"1\" class=\"dataframe\">\n",
       "  <thead>\n",
       "    <tr style=\"text-align: right;\">\n",
       "      <th></th>\n",
       "      <th>Total</th>\n",
       "      <th>Percent</th>\n",
       "    </tr>\n",
       "  </thead>\n",
       "  <tbody>\n",
       "    <tr>\n",
       "      <th>Cabin</th>\n",
       "      <td>687</td>\n",
       "      <td>0.771044</td>\n",
       "    </tr>\n",
       "    <tr>\n",
       "      <th>Age</th>\n",
       "      <td>177</td>\n",
       "      <td>0.198653</td>\n",
       "    </tr>\n",
       "    <tr>\n",
       "      <th>Embarked</th>\n",
       "      <td>2</td>\n",
       "      <td>0.002245</td>\n",
       "    </tr>\n",
       "    <tr>\n",
       "      <th>Fare</th>\n",
       "      <td>0</td>\n",
       "      <td>0.000000</td>\n",
       "    </tr>\n",
       "    <tr>\n",
       "      <th>Ticket</th>\n",
       "      <td>0</td>\n",
       "      <td>0.000000</td>\n",
       "    </tr>\n",
       "    <tr>\n",
       "      <th>Parch</th>\n",
       "      <td>0</td>\n",
       "      <td>0.000000</td>\n",
       "    </tr>\n",
       "    <tr>\n",
       "      <th>SibSp</th>\n",
       "      <td>0</td>\n",
       "      <td>0.000000</td>\n",
       "    </tr>\n",
       "    <tr>\n",
       "      <th>Sex</th>\n",
       "      <td>0</td>\n",
       "      <td>0.000000</td>\n",
       "    </tr>\n",
       "    <tr>\n",
       "      <th>Name</th>\n",
       "      <td>0</td>\n",
       "      <td>0.000000</td>\n",
       "    </tr>\n",
       "    <tr>\n",
       "      <th>Pclass</th>\n",
       "      <td>0</td>\n",
       "      <td>0.000000</td>\n",
       "    </tr>\n",
       "    <tr>\n",
       "      <th>Survived</th>\n",
       "      <td>0</td>\n",
       "      <td>0.000000</td>\n",
       "    </tr>\n",
       "    <tr>\n",
       "      <th>PassengerId</th>\n",
       "      <td>0</td>\n",
       "      <td>0.000000</td>\n",
       "    </tr>\n",
       "  </tbody>\n",
       "</table>\n",
       "</div>"
      ],
      "text/plain": [
       "             Total   Percent\n",
       "Cabin          687  0.771044\n",
       "Age            177  0.198653\n",
       "Embarked         2  0.002245\n",
       "Fare             0  0.000000\n",
       "Ticket           0  0.000000\n",
       "Parch            0  0.000000\n",
       "SibSp            0  0.000000\n",
       "Sex              0  0.000000\n",
       "Name             0  0.000000\n",
       "Pclass           0  0.000000\n",
       "Survived         0  0.000000\n",
       "PassengerId      0  0.000000"
      ]
     },
     "execution_count": 7,
     "metadata": {},
     "output_type": "execute_result"
    }
   ],
   "source": [
    "draw_missing_data_table(train_df_raw)"
   ]
  },
  {
   "cell_type": "markdown",
   "metadata": {
    "_uuid": "b549fc22c8c19a09c1d347c101a337fabf79562a"
   },
   "source": [
    "### There is 77% of missing data in the cabin column, it's usually way too much for this column to be exploitable, but as we have a small amount of data, we will still try to use it in feature engineering. \n",
    "### For the age, we will either interpolate missing values or we will fill it with the mean for the corresponding category (in term of class, age, sex) of passenger. There is only two missing values for the embarked column, let's try to replace it. Below is the distribution of Embarked according to Fare and sex. Let's look a the two passengers with missing embarked value and choose the best matching embarked value according to their fare value and sex !"
   ]
  },
  {
   "cell_type": "code",
   "execution_count": 8,
   "metadata": {
    "_uuid": "3ca9ea1a78543bed5ccd2f931747bdc5a97f9c2f"
   },
   "outputs": [
    {
     "data": {
      "image/png": "[encoded data removed]",
      "text/plain": [
       "<Figure size 504.85x432 with 1 Axes>"
      ]
     },
     "metadata": {
      "needs_background": "light"
     },
     "output_type": "display_data"
    }
   ],
   "source": [
    "plot = sns.catplot(x=\"Embarked\", y=\"Fare\", hue=\"Sex\", data=train_df_raw,\n",
    "                height=6, kind=\"bar\", palette=\"muted\")\n",
    "plot.set_ylabels(\"Pclass\")\n",
    "plt.show()"
   ]
  },
  {
   "cell_type": "code",
   "execution_count": 9,
   "metadata": {},
   "outputs": [
    {
     "data": {
      "text/html": [
       "<div>\n",
       "<style scoped>\n",
       "    .dataframe tbody tr th:only-of-type {\n",
       "        vertical-align: middle;\n",
       "    }\n",
       "\n",
       "    .dataframe tbody tr th {\n",
       "        vertical-align: top;\n",
       "    }\n",
       "\n",
       "    .dataframe thead th {\n",
       "        text-align: right;\n",
       "    }\n",
       "</style>\n",
       "<table border=\"1\" class=\"dataframe\">\n",
       "  <thead>\n",
       "    <tr style=\"text-align: right;\">\n",
       "      <th></th>\n",
       "      <th>PassengerId</th>\n",
       "      <th>Survived</th>\n",
       "      <th>Pclass</th>\n",
       "      <th>Name</th>\n",
       "      <th>Sex</th>\n",
       "      <th>Age</th>\n",
       "      <th>SibSp</th>\n",
       "      <th>Parch</th>\n",
       "      <th>Ticket</th>\n",
       "      <th>Fare</th>\n",
       "      <th>Cabin</th>\n",
       "      <th>Embarked</th>\n",
       "    </tr>\n",
       "  </thead>\n",
       "  <tbody>\n",
       "    <tr>\n",
       "      <th>61</th>\n",
       "      <td>62</td>\n",
       "      <td>1</td>\n",
       "      <td>1</td>\n",
       "      <td>Icard, Miss. Amelie</td>\n",
       "      <td>female</td>\n",
       "      <td>38.0</td>\n",
       "      <td>0</td>\n",
       "      <td>0</td>\n",
       "      <td>113572</td>\n",
       "      <td>80.0</td>\n",
       "      <td>B28</td>\n",
       "      <td>NaN</td>\n",
       "    </tr>\n",
       "    <tr>\n",
       "      <th>829</th>\n",
       "      <td>830</td>\n",
       "      <td>1</td>\n",
       "      <td>1</td>\n",
       "      <td>Stone, Mrs. George Nelson (Martha Evelyn)</td>\n",
       "      <td>female</td>\n",
       "      <td>62.0</td>\n",
       "      <td>0</td>\n",
       "      <td>0</td>\n",
       "      <td>113572</td>\n",
       "      <td>80.0</td>\n",
       "      <td>B28</td>\n",
       "      <td>NaN</td>\n",
       "    </tr>\n",
       "  </tbody>\n",
       "</table>\n",
       "</div>"
      ],
      "text/plain": [
       "     PassengerId  Survived  Pclass                                       Name  \\\n",
       "61            62         1       1                        Icard, Miss. Amelie   \n",
       "829          830         1       1  Stone, Mrs. George Nelson (Martha Evelyn)   \n",
       "\n",
       "        Sex   Age  SibSp  Parch  Ticket  Fare Cabin Embarked  \n",
       "61   female  38.0      0      0  113572  80.0   B28      NaN  \n",
       "829  female  62.0      0      0  113572  80.0   B28      NaN  "
      ]
     },
     "execution_count": 9,
     "metadata": {},
     "output_type": "execute_result"
    }
   ],
   "source": [
    "train_df_raw[train_df_raw['Embarked'].isnull()]"
   ]
  },
  {
   "cell_type": "markdown",
   "metadata": {
    "_uuid": "6fd2b4d803d33cfdc40c779a9b399a60ad50828c"
   },
   "source": [
    "### Both passengers are female with 80 dollars as fare, so the more probable embarked value for them is Cherbourg (C). We'll replace those missing values later in feature engineering."
   ]
  },
  {
   "cell_type": "code",
   "execution_count": 9,
   "metadata": {
    "_uuid": "191dd9ee84b0dcdd283b71bfc53e84f8d49f60da"
   },
   "outputs": [
    {
     "data": {
      "image/png": "[encoded data removed]",
      "text/plain": [
       "<Figure size 1440x1080 with 6 Axes>"
      ]
     },
     "metadata": {
      "needs_background": "light"
     },
     "output_type": "display_data"
    }
   ],
   "source": [
    "# Let's plot some histograms to have a previzualisation of some of the data ...\n",
    "train_df_raw.drop(['PassengerId'], 1).hist(bins=50, figsize=(20,15))\n",
    "plt.show()"
   ]
  },
  {
   "cell_type": "markdown",
   "metadata": {
    "_uuid": "840c201359244d09dbcd378dafd8ebf0a42427c5"
   },
   "source": [
    "### With this first exploration, we can see that :\n",
    "\n",
    "* Only aproximately 35% of passengers survived ...\n",
    "* More than the half of passengers are in the lowest class (pclass = 3)\n",
    "* Most of the fare tickets are below 50\n",
    "* Majority of passengers are alone (sibsp and parch)"
   ]
  },
  {
   "cell_type": "markdown",
   "metadata": {
    "_uuid": "c86c5e54aeeb83b785747f2cdd7d276a694b691c"
   },
   "source": [
    "## **2. Features engineering** <a name=\"fe\"></a>"
   ]
  },
  {
   "cell_type": "markdown",
   "metadata": {
    "_uuid": "28e6b3018acd01225ede443588836a2a6dccc14b"
   },
   "source": [
    "### My advice is to group all the transformations to be done on the dataset in a single function. This way, you can apply the same changes to the training dataset and the test dataset easily. Moreover, if you want to add a modification, you'll have to do it only in the function!"
   ]
  },
  {
   "cell_type": "code",
   "execution_count": 59,
   "metadata": {
    "_uuid": "e1cfd800c2f51bbb7a04f1c390e8f5647ef7becf"
   },
   "outputs": [],
   "source": [
    "def preprocess_data(df):\n",
    "    \n",
    "    processed_df = df\n",
    "        \n",
    "    ########## Deal with missing values ##########\n",
    "    \n",
    "    # As we saw before, majority of people embarked at Southampton so we'll replace missing values by S\n",
    "    processed_df['Embarked'].fillna('C', inplace=True)\n",
    "    \n",
    "    # We replace missing ages by the median age of passengers\n",
    "    processed_df['Age'] = processed_df['Age'].fillna(processed_df['Age'].median())\n",
    "\n",
    "    # We replace the only missing fare value for test dataset and the missing values of the cabin column\n",
    "    processed_df['Fare'] = processed_df['Fare'].interpolate()\n",
    "    processed_df['Cabin'].fillna('U', inplace=True)\n",
    "    \n",
    "    ########## Feature engineering on columns ##########\n",
    "    \n",
    "    # Create a Title column from name column\n",
    "    processed_df['Title'] = pd.Series((name.split('.')[0].split(',')[1].strip() for name in train_df_raw['Name']), index=train_df_raw.index)\n",
    "    processed_df['Title'] = processed_df['Title'].replace(['Lady', 'the Countess','Countess','Capt', 'Col','Don', 'Dr', 'Major', 'Rev', 'Sir', 'Jonkheer', 'Dona'], 'Rare')\n",
    "    processed_df['Title'] = processed_df['Title'].replace(['Mlle', 'Ms'], 'Miss')\n",
    "    processed_df['Title'] = processed_df['Title'].replace('Mme', 'Mrs')\n",
    "    processed_df['Title'] = processed_df['Title'].map({\"Mr\": 1, \"Miss\": 2, \"Mrs\": 3, \"Master\": 4, \"Rare\": 5})\n",
    "    \n",
    "    # Transform categorical variables to numeric variables\n",
    "    processed_df['Sex'] = processed_df['Sex'].map({'male': 0, 'female': 1})\n",
    "    processed_df['Embarked'] = processed_df['Embarked'].map({'S': 0, 'C': 1, 'Q': 2})\n",
    "    \n",
    "    # Create a Family Size, Is Alone, Child and Mother columns\n",
    "    processed_df['FamillySize'] = processed_df['SibSp'] + processed_df['Parch'] + 1\n",
    "    processed_df['FamillySize'][processed_df['FamillySize'].between(1, 5, inclusive=False)] = 2\n",
    "    processed_df['FamillySize'][processed_df['FamillySize']>5] = 3\n",
    "    processed_df['IsAlone'] = np.where(processed_df['FamillySize']!=1, 0, 1)\n",
    "    processed_df['IsChild'] = processed_df['Age'] < 18\n",
    "    processed_df['IsChild'] = processed_df['IsChild'].astype(int)\n",
    "    \n",
    "    # Modification of cabin column to keep only the letter contained corresponding to the deck of the boat\n",
    "    processed_df['Cabin'] = processed_df['Cabin'].str[:1]\n",
    "    processed_df['Cabin'] = processed_df['Cabin'].map({cabin: p for p, cabin in enumerate(set(cab for cab in processed_df['Cabin']))})\n",
    "    \n",
    "    # Create a ticket survivor column which is set to 1 if an other passenger with the same ticket survived and 0 else\n",
    "    # Note : this implementation is ugly and unefficient, if sombody found a way to do it easily with pandas (it must be a way), please comment the kernel with your solution !\n",
    "    processed_df['TicketSurvivor'] = pd.Series(0, index=processed_df.index)\n",
    "    tickets = processed_df['Ticket'].value_counts().to_dict()\n",
    "    for t, occ in tickets.items():\n",
    "        if occ != 1:\n",
    "            table = train_df_raw['Survived'][train_df_raw['Ticket'] == t]\n",
    "            if sum(table) != 0:\n",
    "                processed_df['TicketSurvivor'][processed_df['Ticket'] == t] = 1\n",
    "    \n",
    "    # These two columns are not useful anymore\n",
    "    processed_df = processed_df.drop(['Name', 'Ticket', 'PassengerId'], 1)    \n",
    "    \n",
    "    return processed_df"
   ]
  },
  {
   "cell_type": "code",
   "execution_count": 17,
   "metadata": {
    "_uuid": "5938ee5f0e21505fe0766caceab370c3be0cfd3f",
    "scrolled": true
   },
   "outputs": [
    {
     "data": {
      "text/html": [
       "<div>\n",
       "<style scoped>\n",
       "    .dataframe tbody tr th:only-of-type {\n",
       "        vertical-align: middle;\n",
       "    }\n",
       "\n",
       "    .dataframe tbody tr th {\n",
       "        vertical-align: top;\n",
       "    }\n",
       "\n",
       "    .dataframe thead th {\n",
       "        text-align: right;\n",
       "    }\n",
       "</style>\n",
       "<table border=\"1\" class=\"dataframe\">\n",
       "  <thead>\n",
       "    <tr style=\"text-align: right;\">\n",
       "      <th></th>\n",
       "      <th>Pclass</th>\n",
       "      <th>Sex</th>\n",
       "      <th>Age</th>\n",
       "      <th>SibSp</th>\n",
       "      <th>Parch</th>\n",
       "      <th>Fare</th>\n",
       "      <th>Cabin</th>\n",
       "      <th>Embarked</th>\n",
       "      <th>Title</th>\n",
       "      <th>FamillySize</th>\n",
       "      <th>IsAlone</th>\n",
       "      <th>IsChild</th>\n",
       "      <th>TicketSurvivor</th>\n",
       "    </tr>\n",
       "  </thead>\n",
       "  <tbody>\n",
       "    <tr>\n",
       "      <th>331</th>\n",
       "      <td>-1.566107</td>\n",
       "      <td>-0.737695</td>\n",
       "      <td>1.035529</td>\n",
       "      <td>-0.474545</td>\n",
       "      <td>-0.473674</td>\n",
       "      <td>-0.074583</td>\n",
       "      <td>-2.694537</td>\n",
       "      <td>-0.571933</td>\n",
       "      <td>-0.707550</td>\n",
       "      <td>-0.670389</td>\n",
       "      <td>0.811922</td>\n",
       "      <td>-0.460700</td>\n",
       "      <td>-0.596795</td>\n",
       "    </tr>\n",
       "    <tr>\n",
       "      <th>733</th>\n",
       "      <td>-0.369365</td>\n",
       "      <td>-0.737695</td>\n",
       "      <td>-0.442389</td>\n",
       "      <td>-0.474545</td>\n",
       "      <td>-0.473674</td>\n",
       "      <td>-0.386671</td>\n",
       "      <td>0.476972</td>\n",
       "      <td>-0.571933</td>\n",
       "      <td>-0.707550</td>\n",
       "      <td>-0.670389</td>\n",
       "      <td>0.811922</td>\n",
       "      <td>-0.460700</td>\n",
       "      <td>-0.596795</td>\n",
       "    </tr>\n",
       "    <tr>\n",
       "      <th>382</th>\n",
       "      <td>0.827377</td>\n",
       "      <td>-0.737695</td>\n",
       "      <td>0.148778</td>\n",
       "      <td>-0.474545</td>\n",
       "      <td>-0.473674</td>\n",
       "      <td>-0.488854</td>\n",
       "      <td>0.476972</td>\n",
       "      <td>-0.571933</td>\n",
       "      <td>-0.707550</td>\n",
       "      <td>-0.670389</td>\n",
       "      <td>0.811922</td>\n",
       "      <td>-0.460700</td>\n",
       "      <td>-0.596795</td>\n",
       "    </tr>\n",
       "    <tr>\n",
       "      <th>704</th>\n",
       "      <td>0.827377</td>\n",
       "      <td>-0.737695</td>\n",
       "      <td>-0.245333</td>\n",
       "      <td>0.432793</td>\n",
       "      <td>-0.473674</td>\n",
       "      <td>-0.490280</td>\n",
       "      <td>0.476972</td>\n",
       "      <td>-0.571933</td>\n",
       "      <td>-0.707550</td>\n",
       "      <td>0.668886</td>\n",
       "      <td>-1.231645</td>\n",
       "      <td>-0.460700</td>\n",
       "      <td>-0.596795</td>\n",
       "    </tr>\n",
       "    <tr>\n",
       "      <th>813</th>\n",
       "      <td>0.827377</td>\n",
       "      <td>1.355574</td>\n",
       "      <td>-1.559038</td>\n",
       "      <td>3.154809</td>\n",
       "      <td>2.008933</td>\n",
       "      <td>-0.018709</td>\n",
       "      <td>0.476972</td>\n",
       "      <td>-0.571933</td>\n",
       "      <td>0.263832</td>\n",
       "      <td>2.008162</td>\n",
       "      <td>-1.231645</td>\n",
       "      <td>2.170608</td>\n",
       "      <td>-0.596795</td>\n",
       "    </tr>\n",
       "  </tbody>\n",
       "</table>\n",
       "</div>"
      ],
      "text/plain": [
       "       Pclass       Sex       Age     SibSp     Parch      Fare     Cabin  \\\n",
       "331 -1.566107 -0.737695  1.035529 -0.474545 -0.473674 -0.074583 -2.694537   \n",
       "733 -0.369365 -0.737695 -0.442389 -0.474545 -0.473674 -0.386671  0.476972   \n",
       "382  0.827377 -0.737695  0.148778 -0.474545 -0.473674 -0.488854  0.476972   \n",
       "704  0.827377 -0.737695 -0.245333  0.432793 -0.473674 -0.490280  0.476972   \n",
       "813  0.827377  1.355574 -1.559038  3.154809  2.008933 -0.018709  0.476972   \n",
       "\n",
       "     Embarked     Title  FamillySize   IsAlone   IsChild  TicketSurvivor  \n",
       "331 -0.571933 -0.707550    -0.670389  0.811922 -0.460700       -0.596795  \n",
       "733 -0.571933 -0.707550    -0.670389  0.811922 -0.460700       -0.596795  \n",
       "382 -0.571933 -0.707550    -0.670389  0.811922 -0.460700       -0.596795  \n",
       "704 -0.571933 -0.707550     0.668886 -1.231645 -0.460700       -0.596795  \n",
       "813 -0.571933  0.263832     2.008162 -1.231645  2.170608       -0.596795  "
      ]
     },
     "execution_count": 17,
     "metadata": {},
     "output_type": "execute_result"
    }
   ],
   "source": [
    "# Let's divide the train dataset in two datasets to evaluate perfomance of the machine learning models we'll use\n",
    "train_df = train_df_raw.copy()\n",
    "X = train_df.drop(['Survived'], 1)\n",
    "Y = train_df['Survived']\n",
    "\n",
    "X = preprocess_data(X)\n",
    "# We scale our data, it is essential for a smooth working of the models. Scaling means that each columns as a 0 mean and a 1 variance\n",
    "sc = StandardScaler()\n",
    "X = pd.DataFrame(sc.fit_transform(X.values), index=X.index, columns=X.columns)\n",
    "    \n",
    "# Split dataset for model testing\n",
    "X_train, X_test, Y_train, Y_test = train_test_split(X, Y, test_size=0.2, random_state=42)\n",
    "\n",
    "X_train.head()"
   ]
  },
  {
   "cell_type": "markdown",
   "metadata": {
    "_uuid": "75a781ff2a645d7a68489debed35e4e8e71a5b7e"
   },
   "source": [
    "## **3. Try several models** <a name=\"trymodels\"></a>"
   ]
  },
  {
   "cell_type": "markdown",
   "metadata": {},
   "source": [
    "### **Introduction to metrics**"
   ]
  },
  {
   "cell_type": "markdown",
   "metadata": {},
   "source": [
    "### To evaluate our models on the test set for this classification problem, we are going to use several metrics, which will be displayed into a confusion matrix (to easily see the false positive and the false negative predicted by the model, i.e. respectivey type I & II errors). From those two types of error, some metrics can be computed : the F1 score, the Recall, the accuracy. You can find on the image below a quick summary of what is a confusion matrix, how to read it and what are those metrics:"
   ]
  },
  {
   "cell_type": "markdown",
   "metadata": {},
   "source": [
    "![](https://image.slidesharecdn.com/qconrio-machinelearningforeveryone-150826200704-lva1-app6892/95/qcon-rio-machine-learning-for-everyone-51-638.jpg?cb=1440698161)"
   ]
  },
  {
   "cell_type": "markdown",
   "metadata": {
    "_uuid": "7b2b9905f1c16b2f6b3ac529b99e12c6b1c9bc5c"
   },
   "source": [
    "### **3.1 Logistic regression**"
   ]
  },
  {
   "cell_type": "markdown",
   "metadata": {
    "_uuid": "da0395ac5c3fe94a72d13069058a1987fa85394d"
   },
   "source": [
    "### Logistic regression is the \"hello world\" of machine learning algorithms. It is very simple to understand how it works, [here](https://towardsdatascience.com/understanding-logistic-regression-9b02c2aec102) is a good article which cover theory of this algorithm."
   ]
  },
  {
   "cell_type": "code",
   "execution_count": 18,
   "metadata": {
    "_uuid": "2bf8ea63bf50087b31df2ee3fc3d20456852e29d"
   },
   "outputs": [
    {
     "data": {
      "text/html": [
       "<div>\n",
       "<style scoped>\n",
       "    .dataframe tbody tr th:only-of-type {\n",
       "        vertical-align: middle;\n",
       "    }\n",
       "\n",
       "    .dataframe tbody tr th {\n",
       "        vertical-align: top;\n",
       "    }\n",
       "\n",
       "    .dataframe thead th {\n",
       "        text-align: right;\n",
       "    }\n",
       "</style>\n",
       "<table border=\"1\" class=\"dataframe\">\n",
       "  <thead>\n",
       "    <tr style=\"text-align: right;\">\n",
       "      <th></th>\n",
       "      <th>precision</th>\n",
       "      <th>recall</th>\n",
       "      <th>f1-score</th>\n",
       "      <th>support</th>\n",
       "    </tr>\n",
       "  </thead>\n",
       "  <tbody>\n",
       "    <tr>\n",
       "      <th>0</th>\n",
       "      <td>0.86</td>\n",
       "      <td>0.86</td>\n",
       "      <td>0.86</td>\n",
       "      <td>105</td>\n",
       "    </tr>\n",
       "    <tr>\n",
       "      <th>1</th>\n",
       "      <td>0.80</td>\n",
       "      <td>0.80</td>\n",
       "      <td>0.80</td>\n",
       "      <td>74</td>\n",
       "    </tr>\n",
       "    <tr>\n",
       "      <th>macro avg</th>\n",
       "      <td>0.83</td>\n",
       "      <td>0.83</td>\n",
       "      <td>0.83</td>\n",
       "      <td>179</td>\n",
       "    </tr>\n",
       "    <tr>\n",
       "      <th>micro avg</th>\n",
       "      <td>0.83</td>\n",
       "      <td>0.83</td>\n",
       "      <td>0.83</td>\n",
       "      <td>179</td>\n",
       "    </tr>\n",
       "    <tr>\n",
       "      <th>weighted avg</th>\n",
       "      <td>0.83</td>\n",
       "      <td>0.83</td>\n",
       "      <td>0.83</td>\n",
       "      <td>179</td>\n",
       "    </tr>\n",
       "  </tbody>\n",
       "</table>\n",
       "</div>"
      ],
      "text/plain": [
       "              precision  recall  f1-score  support\n",
       "0                  0.86    0.86      0.86      105\n",
       "1                  0.80    0.80      0.80       74\n",
       "macro avg          0.83    0.83      0.83      179\n",
       "micro avg          0.83    0.83      0.83      179\n",
       "weighted avg       0.83    0.83      0.83      179"
      ]
     },
     "metadata": {},
     "output_type": "display_data"
    },
    {
     "data": {
      "image/png": "[encoded data removed]",
      "text/plain": [
       "<Figure size 396x396 with 2 Axes>"
      ]
     },
     "metadata": {
      "needs_background": "light"
     },
     "output_type": "display_data"
    }
   ],
   "source": [
    "# Create and train model on train data sample\n",
    "lg = LogisticRegression(solver='lbfgs', random_state=42)\n",
    "lg.fit(X_train, Y_train)\n",
    "\n",
    "# Predict for test data sample\n",
    "logistic_prediction = lg.predict(X_test)\n",
    "\n",
    "# Compute error between predicted data and true response and display it in confusion matrix\n",
    "score = metrics.accuracy_score(Y_test, logistic_prediction)\n",
    "display_confusion_matrix(Y_test, logistic_prediction, score=score)"
   ]
  },
  {
   "cell_type": "markdown",
   "metadata": {
    "_uuid": "dd2b871e06a3fbb2bf367c4a59227883c51f94db"
   },
   "source": [
    "### **3.2 Decision tree**"
   ]
  },
  {
   "cell_type": "markdown",
   "metadata": {
    "_uuid": "ed2a8e4dcbb5dfe1d8c9e64e5521b0ae13552d32"
   },
   "source": [
    "### Decision tree is a quite intuitive model, easy to vizualize and interpret. Here, we are even going to display our tree to improve our understanding on how the algorithm manage to classify our samples:\n",
    "\n",
    "### To find out more about decision trees: [DT](https://medium.com/@chiragsehra42/decision-trees-explained-easily-28f23241248)\n"
   ]
  },
  {
   "cell_type": "code",
   "execution_count": 19,
   "metadata": {
    "_uuid": "e210227806175d3fec8fb54c7398693af57e19cb"
   },
   "outputs": [
    {
     "data": {
      "text/html": [
       "<div>\n",
       "<style scoped>\n",
       "    .dataframe tbody tr th:only-of-type {\n",
       "        vertical-align: middle;\n",
       "    }\n",
       "\n",
       "    .dataframe tbody tr th {\n",
       "        vertical-align: top;\n",
       "    }\n",
       "\n",
       "    .dataframe thead th {\n",
       "        text-align: right;\n",
       "    }\n",
       "</style>\n",
       "<table border=\"1\" class=\"dataframe\">\n",
       "  <thead>\n",
       "    <tr style=\"text-align: right;\">\n",
       "      <th></th>\n",
       "      <th>precision</th>\n",
       "      <th>recall</th>\n",
       "      <th>f1-score</th>\n",
       "      <th>support</th>\n",
       "    </tr>\n",
       "  </thead>\n",
       "  <tbody>\n",
       "    <tr>\n",
       "      <th>0</th>\n",
       "      <td>0.85</td>\n",
       "      <td>0.90</td>\n",
       "      <td>0.87</td>\n",
       "      <td>105</td>\n",
       "    </tr>\n",
       "    <tr>\n",
       "      <th>1</th>\n",
       "      <td>0.84</td>\n",
       "      <td>0.78</td>\n",
       "      <td>0.81</td>\n",
       "      <td>74</td>\n",
       "    </tr>\n",
       "    <tr>\n",
       "      <th>macro avg</th>\n",
       "      <td>0.85</td>\n",
       "      <td>0.84</td>\n",
       "      <td>0.84</td>\n",
       "      <td>179</td>\n",
       "    </tr>\n",
       "    <tr>\n",
       "      <th>micro avg</th>\n",
       "      <td>0.85</td>\n",
       "      <td>0.85</td>\n",
       "      <td>0.85</td>\n",
       "      <td>179</td>\n",
       "    </tr>\n",
       "    <tr>\n",
       "      <th>weighted avg</th>\n",
       "      <td>0.85</td>\n",
       "      <td>0.85</td>\n",
       "      <td>0.85</td>\n",
       "      <td>179</td>\n",
       "    </tr>\n",
       "  </tbody>\n",
       "</table>\n",
       "</div>"
      ],
      "text/plain": [
       "              precision  recall  f1-score  support\n",
       "0                  0.85    0.90      0.87      105\n",
       "1                  0.84    0.78      0.81       74\n",
       "macro avg          0.85    0.84      0.84      179\n",
       "micro avg          0.85    0.85      0.85      179\n",
       "weighted avg       0.85    0.85      0.85      179"
      ]
     },
     "metadata": {},
     "output_type": "display_data"
    },
    {
     "data": {
      "image/png": "[encoded data removed]",
      "text/plain": [
       "<Figure size 396x396 with 2 Axes>"
      ]
     },
     "metadata": {
      "needs_background": "light"
     },
     "output_type": "display_data"
    }
   ],
   "source": [
    "dt = DecisionTreeClassifier(min_samples_split=15, min_samples_leaf=20, random_state=42)\n",
    "dt.fit(X_train, Y_train)\n",
    "dt_prediction = dt.predict(X_test)\n",
    "\n",
    "score = metrics.accuracy_score(Y_test, dt_prediction)\n",
    "display_confusion_matrix(Y_test, dt_prediction, score=score)"
   ]
  },
  {
   "cell_type": "code",
   "execution_count": 20,
   "metadata": {
    "_uuid": "c2a344ec6566d6839fbd0351c9285bfcffc2f9d9"
   },
   "outputs": [],
   "source": [
    "visualize_tree(dt, X_test.columns)\n",
    "! dot -Tpng dt.dot > dt.png"
   ]
  },
  {
   "cell_type": "markdown",
   "metadata": {
    "_uuid": "67ec7b6b647ef967313f9271c3c2fd0fa553d97a"
   },
   "source": [
    "![title](dt.png)"
   ]
  },
  {
   "cell_type": "markdown",
   "metadata": {
    "_uuid": "60e4d7b8c520451c78acfc54b95fca1c73b97939"
   },
   "source": [
    "### **3.3 SVM**"
   ]
  },
  {
   "cell_type": "markdown",
   "metadata": {},
   "source": [
    "### SVMs aim at solving classification problems by finding good decision boundaries between two sets of points belonging to two different categories. To understand how it works, you can refer to [this webpage](https://www.svm-tutorial.com/2014/11/svm-understanding-math-part-1/)."
   ]
  },
  {
   "cell_type": "code",
   "execution_count": 21,
   "metadata": {},
   "outputs": [
    {
     "data": {
      "text/html": [
       "<div>\n",
       "<style scoped>\n",
       "    .dataframe tbody tr th:only-of-type {\n",
       "        vertical-align: middle;\n",
       "    }\n",
       "\n",
       "    .dataframe tbody tr th {\n",
       "        vertical-align: top;\n",
       "    }\n",
       "\n",
       "    .dataframe thead th {\n",
       "        text-align: right;\n",
       "    }\n",
       "</style>\n",
       "<table border=\"1\" class=\"dataframe\">\n",
       "  <thead>\n",
       "    <tr style=\"text-align: right;\">\n",
       "      <th></th>\n",
       "      <th>precision</th>\n",
       "      <th>recall</th>\n",
       "      <th>f1-score</th>\n",
       "      <th>support</th>\n",
       "    </tr>\n",
       "  </thead>\n",
       "  <tbody>\n",
       "    <tr>\n",
       "      <th>0</th>\n",
       "      <td>0.83</td>\n",
       "      <td>0.92</td>\n",
       "      <td>0.87</td>\n",
       "      <td>105</td>\n",
       "    </tr>\n",
       "    <tr>\n",
       "      <th>1</th>\n",
       "      <td>0.87</td>\n",
       "      <td>0.73</td>\n",
       "      <td>0.79</td>\n",
       "      <td>74</td>\n",
       "    </tr>\n",
       "    <tr>\n",
       "      <th>macro avg</th>\n",
       "      <td>0.85</td>\n",
       "      <td>0.83</td>\n",
       "      <td>0.83</td>\n",
       "      <td>179</td>\n",
       "    </tr>\n",
       "    <tr>\n",
       "      <th>micro avg</th>\n",
       "      <td>0.84</td>\n",
       "      <td>0.84</td>\n",
       "      <td>0.84</td>\n",
       "      <td>179</td>\n",
       "    </tr>\n",
       "    <tr>\n",
       "      <th>weighted avg</th>\n",
       "      <td>0.85</td>\n",
       "      <td>0.84</td>\n",
       "      <td>0.84</td>\n",
       "      <td>179</td>\n",
       "    </tr>\n",
       "  </tbody>\n",
       "</table>\n",
       "</div>"
      ],
      "text/plain": [
       "              precision  recall  f1-score  support\n",
       "0                  0.83    0.92      0.87      105\n",
       "1                  0.87    0.73      0.79       74\n",
       "macro avg          0.85    0.83      0.83      179\n",
       "micro avg          0.84    0.84      0.84      179\n",
       "weighted avg       0.85    0.84      0.84      179"
      ]
     },
     "metadata": {},
     "output_type": "display_data"
    },
    {
     "data": {
      "image/png": "[encoded data removed]",
      "text/plain": [
       "<Figure size 396x396 with 2 Axes>"
      ]
     },
     "metadata": {
      "needs_background": "light"
     },
     "output_type": "display_data"
    }
   ],
   "source": [
    "svm = SVC(random_state=42)\n",
    "svm.fit(X_train, Y_train)\n",
    "svm_prediction = svm.predict(X_test)\n",
    "\n",
    "score = metrics.accuracy_score(Y_test, svm_prediction)\n",
    "display_confusion_matrix(Y_test, svm_prediction, score=score)"
   ]
  },
  {
   "cell_type": "markdown",
   "metadata": {},
   "source": [
    "### **3.4 Random forest**"
   ]
  },
  {
   "cell_type": "markdown",
   "metadata": {
    "_uuid": "ced6dcc5ecc42fb911e387e98023f32830ca9674"
   },
   "source": [
    "### Random forest is a robust & practical algorithm based on decision trees. It outperforms almost always the two previous algorithm we saw. If you want to find out more about this model, [here](https://medium.com/@williamkoehrsen/random-forest-simple-explanation-377895a60d2d) is a good start."
   ]
  },
  {
   "cell_type": "code",
   "execution_count": 22,
   "metadata": {
    "_uuid": "cf210ec43c5ada014f3d666d84c8227b10fa7291"
   },
   "outputs": [
    {
     "data": {
      "text/html": [
       "<div>\n",
       "<style scoped>\n",
       "    .dataframe tbody tr th:only-of-type {\n",
       "        vertical-align: middle;\n",
       "    }\n",
       "\n",
       "    .dataframe tbody tr th {\n",
       "        vertical-align: top;\n",
       "    }\n",
       "\n",
       "    .dataframe thead th {\n",
       "        text-align: right;\n",
       "    }\n",
       "</style>\n",
       "<table border=\"1\" class=\"dataframe\">\n",
       "  <thead>\n",
       "    <tr style=\"text-align: right;\">\n",
       "      <th></th>\n",
       "      <th>precision</th>\n",
       "      <th>recall</th>\n",
       "      <th>f1-score</th>\n",
       "      <th>support</th>\n",
       "    </tr>\n",
       "  </thead>\n",
       "  <tbody>\n",
       "    <tr>\n",
       "      <th>0</th>\n",
       "      <td>0.85</td>\n",
       "      <td>0.94</td>\n",
       "      <td>0.90</td>\n",
       "      <td>105</td>\n",
       "    </tr>\n",
       "    <tr>\n",
       "      <th>1</th>\n",
       "      <td>0.90</td>\n",
       "      <td>0.77</td>\n",
       "      <td>0.83</td>\n",
       "      <td>74</td>\n",
       "    </tr>\n",
       "    <tr>\n",
       "      <th>macro avg</th>\n",
       "      <td>0.88</td>\n",
       "      <td>0.86</td>\n",
       "      <td>0.86</td>\n",
       "      <td>179</td>\n",
       "    </tr>\n",
       "    <tr>\n",
       "      <th>micro avg</th>\n",
       "      <td>0.87</td>\n",
       "      <td>0.87</td>\n",
       "      <td>0.87</td>\n",
       "      <td>179</td>\n",
       "    </tr>\n",
       "    <tr>\n",
       "      <th>weighted avg</th>\n",
       "      <td>0.87</td>\n",
       "      <td>0.87</td>\n",
       "      <td>0.87</td>\n",
       "      <td>179</td>\n",
       "    </tr>\n",
       "  </tbody>\n",
       "</table>\n",
       "</div>"
      ],
      "text/plain": [
       "              precision  recall  f1-score  support\n",
       "0                  0.85    0.94      0.90      105\n",
       "1                  0.90    0.77      0.83       74\n",
       "macro avg          0.88    0.86      0.86      179\n",
       "micro avg          0.87    0.87      0.87      179\n",
       "weighted avg       0.87    0.87      0.87      179"
      ]
     },
     "metadata": {},
     "output_type": "display_data"
    },
    {
     "data": {
      "image/png": "[encoded data removed]",
      "text/plain": [
       "<Figure size 396x396 with 2 Axes>"
      ]
     },
     "metadata": {
      "needs_background": "light"
     },
     "output_type": "display_data"
    }
   ],
   "source": [
    "rf = RandomForestClassifier(n_estimators=300, max_depth=11, random_state=42)\n",
    "rf.fit(X_train, Y_train)\n",
    "rf_prediction = rf.predict(X_test)\n",
    "\n",
    "score = metrics.accuracy_score(Y_test, rf_prediction)\n",
    "display_confusion_matrix(Y_test, rf_prediction, score=score)"
   ]
  },
  {
   "cell_type": "markdown",
   "metadata": {
    "_uuid": "6f15e098541b4ce5c2e21331fb18d0afa39d8535"
   },
   "source": [
    "### **3.5 Artificial neural network**"
   ]
  },
  {
   "cell_type": "markdown",
   "metadata": {
    "_uuid": "a95defc65c4ffe5a5c493f32803bc81d6b5ac8e0"
   },
   "source": [
    "### Neural networks are deep learning models which are based on the imitation of the human brain. To build a neural network, we are going to use Keras. Keras is a high level API for tensorflow, which is a tensor-manipulation framework made by google. Keras allows you to build neural networks by assembling blocks (which are the layers of our neural network). For more details, [here](https://elitedatascience.com/keras-tutorial-deep-learning-in-python) is a great keras tutorial. "
   ]
  },
  {
   "cell_type": "code",
   "execution_count": 23,
   "metadata": {
    "_uuid": "49788e798f8d64f6196cdbb5e962e603f114783c"
   },
   "outputs": [],
   "source": [
    "def build_ann(optimizer='adam'):\n",
    "    \n",
    "    # Initializing our ANN\n",
    "    ann = Sequential()\n",
    "    \n",
    "    # Adding the input layer and the first hidden layer of our ANN with dropout\n",
    "    ann.add(Dense(units=32, kernel_initializer='glorot_uniform', activation='relu', input_shape=(13,)))\n",
    "    \n",
    "    # Add other layers, it is not necessary to pass the shape because there is a layer before\n",
    "    ann.add(Dense(units=64, kernel_initializer='glorot_uniform', activation='relu'))\n",
    "    ann.add(Dropout(rate=0.5))\n",
    "    ann.add(Dense(units=64, kernel_initializer='glorot_uniform', activation='relu'))\n",
    "    ann.add(Dropout(rate=0.5))\n",
    "    \n",
    "    # Adding the output layer\n",
    "    ann.add(Dense(units=1, kernel_initializer='glorot_uniform', activation='sigmoid'))\n",
    "    \n",
    "    # Compiling the ANN\n",
    "    ann.compile(optimizer=optimizer, loss='binary_crossentropy', metrics=['accuracy'])\n",
    "    \n",
    "    return ann"
   ]
  },
  {
   "cell_type": "code",
   "execution_count": 24,
   "metadata": {
    "_kg_hide-output": true,
    "_uuid": "1e8cee7939bb3558604b0dda1675933ae4291bb4",
    "scrolled": false
   },
   "outputs": [
    {
     "name": "stdout",
     "output_type": "stream",
     "text": [
      "Train on 712 samples, validate on 179 samples\n",
      "Epoch 1/30\n",
      "712/712 [==============================] - 1s 1ms/step - loss: 0.6263 - acc: 0.6545 - val_loss: 0.5123 - val_acc: 0.7989\n",
      "Epoch 2/30\n",
      "712/712 [==============================] - 0s 188us/step - loss: 0.5135 - acc: 0.7683 - val_loss: 0.4260 - val_acc: 0.8380\n",
      "Epoch 3/30\n",
      "712/712 [==============================] - 0s 246us/step - loss: 0.4936 - acc: 0.7809 - val_loss: 0.3893 - val_acc: 0.8268\n",
      "Epoch 4/30\n",
      "712/712 [==============================] - 0s 207us/step - loss: 0.4593 - acc: 0.8202 - val_loss: 0.3723 - val_acc: 0.8324\n",
      "Epoch 5/30\n",
      "712/712 [==============================] - 0s 199us/step - loss: 0.4418 - acc: 0.8441 - val_loss: 0.3661 - val_acc: 0.8268\n",
      "Epoch 6/30\n",
      "712/712 [==============================] - 0s 242us/step - loss: 0.4307 - acc: 0.8301 - val_loss: 0.3569 - val_acc: 0.8324\n",
      "Epoch 7/30\n",
      "712/712 [==============================] - 0s 251us/step - loss: 0.3964 - acc: 0.8399 - val_loss: 0.3524 - val_acc: 0.8492\n",
      "Epoch 8/30\n",
      "712/712 [==============================] - 0s 248us/step - loss: 0.3938 - acc: 0.8357 - val_loss: 0.3404 - val_acc: 0.8603\n",
      "Epoch 9/30\n",
      "712/712 [==============================] - 0s 189us/step - loss: 0.3930 - acc: 0.8497 - val_loss: 0.3385 - val_acc: 0.8492\n",
      "Epoch 10/30\n",
      "712/712 [==============================] - 0s 200us/step - loss: 0.4019 - acc: 0.8371 - val_loss: 0.3388 - val_acc: 0.8492\n",
      "Epoch 11/30\n",
      "712/712 [==============================] - 0s 188us/step - loss: 0.3738 - acc: 0.8567 - val_loss: 0.3342 - val_acc: 0.8436\n",
      "Epoch 12/30\n",
      "712/712 [==============================] - 0s 180us/step - loss: 0.3902 - acc: 0.8385 - val_loss: 0.3351 - val_acc: 0.8547\n",
      "Epoch 13/30\n",
      "712/712 [==============================] - 0s 198us/step - loss: 0.3754 - acc: 0.8427 - val_loss: 0.3407 - val_acc: 0.8492\n",
      "Epoch 14/30\n",
      "712/712 [==============================] - 0s 222us/step - loss: 0.3807 - acc: 0.8553 - val_loss: 0.3432 - val_acc: 0.8547\n",
      "Epoch 15/30\n",
      "712/712 [==============================] - 0s 203us/step - loss: 0.3691 - acc: 0.8567 - val_loss: 0.3398 - val_acc: 0.8492\n",
      "Epoch 16/30\n",
      "712/712 [==============================] - 0s 236us/step - loss: 0.3709 - acc: 0.8581 - val_loss: 0.3467 - val_acc: 0.8547\n",
      "Epoch 17/30\n",
      "712/712 [==============================] - 0s 307us/step - loss: 0.3734 - acc: 0.8567 - val_loss: 0.3431 - val_acc: 0.8492\n",
      "Epoch 18/30\n",
      "712/712 [==============================] - 0s 265us/step - loss: 0.3693 - acc: 0.8469 - val_loss: 0.3385 - val_acc: 0.8547\n",
      "Epoch 19/30\n",
      "712/712 [==============================] - 0s 272us/step - loss: 0.3600 - acc: 0.8567 - val_loss: 0.3403 - val_acc: 0.8492\n",
      "Epoch 20/30\n",
      "712/712 [==============================] - 0s 233us/step - loss: 0.3621 - acc: 0.8581 - val_loss: 0.3382 - val_acc: 0.8547\n",
      "Epoch 21/30\n",
      "712/712 [==============================] - 0s 292us/step - loss: 0.3501 - acc: 0.8567 - val_loss: 0.3318 - val_acc: 0.8547\n",
      "Epoch 22/30\n",
      "712/712 [==============================] - 0s 221us/step - loss: 0.3754 - acc: 0.8581 - val_loss: 0.3390 - val_acc: 0.8603\n",
      "Epoch 23/30\n",
      "712/712 [==============================] - 0s 206us/step - loss: 0.3481 - acc: 0.8567 - val_loss: 0.3404 - val_acc: 0.8547\n",
      "Epoch 24/30\n",
      "712/712 [==============================] - 0s 193us/step - loss: 0.3549 - acc: 0.8511 - val_loss: 0.3387 - val_acc: 0.8603\n",
      "Epoch 25/30\n",
      "712/712 [==============================] - 0s 185us/step - loss: 0.3534 - acc: 0.8553 - val_loss: 0.3365 - val_acc: 0.8603\n",
      "Epoch 26/30\n",
      "712/712 [==============================] - 0s 195us/step - loss: 0.3584 - acc: 0.8666 - val_loss: 0.3483 - val_acc: 0.8547\n",
      "Epoch 27/30\n",
      "712/712 [==============================] - 0s 286us/step - loss: 0.3562 - acc: 0.8638 - val_loss: 0.3438 - val_acc: 0.8547\n",
      "Epoch 28/30\n",
      "712/712 [==============================] - 0s 164us/step - loss: 0.3452 - acc: 0.8624 - val_loss: 0.3471 - val_acc: 0.8547\n",
      "Epoch 29/30\n",
      "712/712 [==============================] - 0s 224us/step - loss: 0.3442 - acc: 0.8652 - val_loss: 0.3492 - val_acc: 0.8492\n",
      "Epoch 30/30\n",
      "712/712 [==============================] - 0s 167us/step - loss: 0.3326 - acc: 0.8638 - val_loss: 0.3425 - val_acc: 0.8380\n"
     ]
    }
   ],
   "source": [
    "opt = optimizers.Adam(lr=0.001)\n",
    "ann = build_ann(opt)\n",
    "# Training the ANN\n",
    "history = ann.fit(X_train, Y_train, batch_size=16, epochs=30, validation_data=(X_test, Y_test))"
   ]
  },
  {
   "cell_type": "code",
   "execution_count": 25,
   "metadata": {
    "_uuid": "eb05fa8c0fa699a048e13145f66ffc534b4edb46"
   },
   "outputs": [
    {
     "data": {
      "text/html": [
       "<div>\n",
       "<style scoped>\n",
       "    .dataframe tbody tr th:only-of-type {\n",
       "        vertical-align: middle;\n",
       "    }\n",
       "\n",
       "    .dataframe tbody tr th {\n",
       "        vertical-align: top;\n",
       "    }\n",
       "\n",
       "    .dataframe thead th {\n",
       "        text-align: right;\n",
       "    }\n",
       "</style>\n",
       "<table border=\"1\" class=\"dataframe\">\n",
       "  <thead>\n",
       "    <tr style=\"text-align: right;\">\n",
       "      <th></th>\n",
       "      <th>precision</th>\n",
       "      <th>recall</th>\n",
       "      <th>f1-score</th>\n",
       "      <th>support</th>\n",
       "    </tr>\n",
       "  </thead>\n",
       "  <tbody>\n",
       "    <tr>\n",
       "      <th>0</th>\n",
       "      <td>0.82</td>\n",
       "      <td>0.93</td>\n",
       "      <td>0.87</td>\n",
       "      <td>105</td>\n",
       "    </tr>\n",
       "    <tr>\n",
       "      <th>1</th>\n",
       "      <td>0.88</td>\n",
       "      <td>0.70</td>\n",
       "      <td>0.78</td>\n",
       "      <td>74</td>\n",
       "    </tr>\n",
       "    <tr>\n",
       "      <th>macro avg</th>\n",
       "      <td>0.85</td>\n",
       "      <td>0.82</td>\n",
       "      <td>0.83</td>\n",
       "      <td>179</td>\n",
       "    </tr>\n",
       "    <tr>\n",
       "      <th>micro avg</th>\n",
       "      <td>0.84</td>\n",
       "      <td>0.84</td>\n",
       "      <td>0.84</td>\n",
       "      <td>179</td>\n",
       "    </tr>\n",
       "    <tr>\n",
       "      <th>weighted avg</th>\n",
       "      <td>0.84</td>\n",
       "      <td>0.84</td>\n",
       "      <td>0.83</td>\n",
       "      <td>179</td>\n",
       "    </tr>\n",
       "  </tbody>\n",
       "</table>\n",
       "</div>"
      ],
      "text/plain": [
       "              precision  recall  f1-score  support\n",
       "0                  0.82    0.93      0.87      105\n",
       "1                  0.88    0.70      0.78       74\n",
       "macro avg          0.85    0.82      0.83      179\n",
       "micro avg          0.84    0.84      0.84      179\n",
       "weighted avg       0.84    0.84      0.83      179"
      ]
     },
     "metadata": {},
     "output_type": "display_data"
    },
    {
     "data": {
      "image/png": "[encoded data removed]",
      "text/plain": [
       "<Figure size 396x396 with 2 Axes>"
      ]
     },
     "metadata": {
      "needs_background": "light"
     },
     "output_type": "display_data"
    }
   ],
   "source": [
    "# Predicting the Test set results\n",
    "ann_prediction = ann.predict(X_test)\n",
    "ann_prediction = (ann_prediction > 0.5) # convert probabilities to binary output\n",
    "\n",
    "# Compute error between predicted data and true response and display it in confusion matrix\n",
    "score = metrics.accuracy_score(Y_test, ann_prediction)\n",
    "display_confusion_matrix(Y_test, ann_prediction, score=score)"
   ]
  },
  {
   "cell_type": "markdown",
   "metadata": {
    "_uuid": "70d6befb811b652a224f94d6cdb463973d596eb8"
   },
   "source": [
    "## **4. Finding the best model using k-folds cross validation** <a name=\"choose\"></a>"
   ]
  },
  {
   "cell_type": "markdown",
   "metadata": {
    "_uuid": "c29b4c99606f9ed35031369693f110eec4ffccc7"
   },
   "source": [
    "### The precision we calculated above for those 4 different models does not mean anything. In fact, if we execute each cell again, we could have sightly different accuracy, because we trained again our models ! We need to verify which model has the best accuracy over several training steps ! We can do it using cross validation method, which consists of dividing out training set in k parts (folds) and evaluating k times using successively each part as the test set and the 9 other parts as the training set. Therefore, we can compute a mean error over the 10 trainings of our model:"
   ]
  },
  {
   "cell_type": "markdown",
   "metadata": {
    "_uuid": "9aede644cb0d0fc1380d6b34fb7960c92a13b829"
   },
   "source": [
    "![](https://www.researchgate.net/profile/Kiret_Dhindsa/publication/323969239/figure/fig10/AS:607404244873216@1521827865007/The-K-fold-cross-validation-scheme-133-Each-of-the-K-partitions-is-used-as-a-test.png)"
   ]
  },
  {
   "cell_type": "markdown",
   "metadata": {
    "_uuid": "9d1d2563afff9ffa9a375c24980d6854a0f109d2"
   },
   "source": [
    "### Let's check which one of our previously implemented model is the best one with this method. We will not only compute the mean but also the variance, because a good model needs to have the lowest possible variance in addition to have a low bias:"
   ]
  },
  {
   "cell_type": "markdown",
   "metadata": {
    "_uuid": "540f93a290ecb92ff877636d529e3a5ddb985ba7"
   },
   "source": [
    "![](https://www.machinelearningtutorial.net/wp-content/uploads/2017/01/bias-variance-tradeoff.svg)"
   ]
  },
  {
   "cell_type": "code",
   "execution_count": 60,
   "metadata": {
    "_uuid": "e361932236fa3df0ed3b06c13d6a87e8cec30c73"
   },
   "outputs": [],
   "source": [
    "n_folds = 10\n",
    "cv_score_lg = cross_val_score(estimator=lg, X=X_train, y=Y_train, cv=n_folds, n_jobs=-1)\n",
    "cv_score_dt = cross_val_score(estimator=dt, X=X_train, y=Y_train, cv=n_folds, n_jobs=-1)\n",
    "cv_score_svm = cross_val_score(estimator=svm, X=X_train, y=Y_train, cv=n_folds, n_jobs=-1)\n",
    "cv_score_rf = cross_val_score(estimator=rf, X=X_train, y=Y_train, cv=n_folds, n_jobs=-1)\n",
    "cv_score_ann = cross_val_score(estimator=KerasClassifier(build_fn=build_ann, batch_size=16, epochs=20, verbose=0),\n",
    "                                 X=X_train, y=Y_train, cv=n_folds)\n",
    "# add njob=-1"
   ]
  },
  {
   "cell_type": "code",
   "execution_count": 62,
   "metadata": {},
   "outputs": [
    {
     "data": {
      "text/html": [
       "<div>\n",
       "<style scoped>\n",
       "    .dataframe tbody tr th:only-of-type {\n",
       "        vertical-align: middle;\n",
       "    }\n",
       "\n",
       "    .dataframe tbody tr th {\n",
       "        vertical-align: top;\n",
       "    }\n",
       "\n",
       "    .dataframe thead th {\n",
       "        text-align: right;\n",
       "    }\n",
       "</style>\n",
       "<table border=\"1\" class=\"dataframe\">\n",
       "  <thead>\n",
       "    <tr style=\"text-align: right;\">\n",
       "      <th></th>\n",
       "      <th>lg</th>\n",
       "      <th>dt</th>\n",
       "      <th>svm</th>\n",
       "      <th>rf</th>\n",
       "      <th>ann</th>\n",
       "    </tr>\n",
       "  </thead>\n",
       "  <tbody>\n",
       "    <tr>\n",
       "      <th>Mean_accuracy</th>\n",
       "      <td>0.832972</td>\n",
       "      <td>0.835886</td>\n",
       "      <td>0.839896</td>\n",
       "      <td>0.828745</td>\n",
       "      <td>0.837070</td>\n",
       "    </tr>\n",
       "    <tr>\n",
       "      <th>Variance</th>\n",
       "      <td>0.056764</td>\n",
       "      <td>0.045738</td>\n",
       "      <td>0.053590</td>\n",
       "      <td>0.047486</td>\n",
       "      <td>0.045504</td>\n",
       "    </tr>\n",
       "  </tbody>\n",
       "</table>\n",
       "</div>"
      ],
      "text/plain": [
       "                     lg        dt       svm        rf       ann\n",
       "Mean_accuracy  0.832972  0.835886  0.839896  0.828745  0.837070\n",
       "Variance       0.056764  0.045738  0.053590  0.047486  0.045504"
      ]
     },
     "execution_count": 62,
     "metadata": {},
     "output_type": "execute_result"
    }
   ],
   "source": [
    "cv_result = {'lg': cv_score_lg, 'dt': cv_score_dt, 'svm': cv_score_svm, 'rf': cv_score_rf, 'ann': cv_score_ann}\n",
    "cv_data = {model: [score.mean(), score.std()] for model, score in cv_result.items()}\n",
    "cv_df = pd.DataFrame(cv_data, index=['Mean_accuracy', 'Variance'])\n",
    "cv_df"
   ]
  },
  {
   "cell_type": "code",
   "execution_count": 22,
   "metadata": {
    "_uuid": "26ef433d5b364a740465a893328f0c1f2be1d4f6"
   },
   "outputs": [
    {
     "data": {
      "image/png": "[encoded data removed]",
      "text/plain": [
       "<Figure size 1440x576 with 1 Axes>"
      ]
     },
     "metadata": {
      "needs_background": "light"
     },
     "output_type": "display_data"
    }
   ],
   "source": [
    "plt.figure(figsize=(20,8))\n",
    "plt.plot(cv_result['lg'])\n",
    "plt.plot(cv_result['dt'])\n",
    "plt.plot(cv_result['svm'])\n",
    "plt.plot(cv_result['rf'])\n",
    "plt.plot(cv_result['ann'])\n",
    "plt.title('Models Accuracy')\n",
    "plt.ylabel('Accuracy')\n",
    "plt.xlabel('Trained fold')\n",
    "plt.xticks([k for k in range(n_folds)])\n",
    "plt.legend(['logreg', 'tree', 'randomforest', 'ann', 'svm'], loc='upper left')\n",
    "plt.show()"
   ]
  },
  {
   "cell_type": "markdown",
   "metadata": {
    "_uuid": "b73877f1d931c0a8095920c27316d13a3e23eb20"
   },
   "source": [
    "### All models seems to have a good accuracy and nearly the same variance, it seems that there is no \"best model\". Indeed, there is no one model which seems truly better than the other. In fact, if we make submissions with all of these models, we will obtain approximately the same score. Moreover, the variance is a little bit too high for saying that these models are reliable: 0.05 variance means that the same model can score 0.75 and 0.8, which is not very convenient.\n",
    "### To obtain a better score, we will, in the next part, build our own classifier which will combine predictions from a random forest, an svm classifier and a keras neural networks. The diversity from these 3 very different models will increase the quality of our predictions and reduce the variance !"
   ]
  },
  {
   "cell_type": "markdown",
   "metadata": {},
   "source": [
    "## **5. Ensembling: creating a homemade classifier** <a name=\"ensembling\"></a>"
   ]
  },
  {
   "cell_type": "markdown",
   "metadata": {},
   "source": [
    "### Ensembling is the science of combining classifiers to improve the accuracy of a models. Moreover, it diminushes the variance of our model making it more reliable. You can start learning about ensembling [here](https://towardsdatascience.com/two-is-better-than-one-ensembling-models-611ee4fa9bd8) !\n",
    "\n",
    "### We are going to make our own scikit learn classifier. To do that, we'll create a class (inherited from scikit learn base classifiers classes) with three methods (fit / predict and score for the cross validation, just as the other classifiers we used from sckitlearn and keras). In the fit method, we just train our 3 classifiers on training data. In the predict method, we make a prediction with each of the 3 classifier and combine it : if two or more classifiers classified the passenger as a survivor, our homemade EsembleClassifier classify it as survivor. Else, it'll predict that the passenger did not survived."
   ]
  },
  {
   "cell_type": "code",
   "execution_count": 30,
   "metadata": {},
   "outputs": [],
   "source": [
    "class EsemblingClassifier:\n",
    "    \n",
    "    def __init__(self, verbose=True):\n",
    "        self.ann = build_ann(optimizer=optimizers.Adam(lr=0.001))\n",
    "        self.rf = RandomForestClassifier(n_estimators=300, max_depth=11, random_state=42)\n",
    "        self.svm = SVC(random_state=42)\n",
    "        self.trained = False\n",
    "        self.verbose = verbose\n",
    "        \n",
    "    def fit(self, X, y):\n",
    "        if self.verbose:\n",
    "            print('-------- Fitting models --------')\n",
    "        self.ann.fit(X, y, epochs=30, batch_size=16, verbose=0)\n",
    "        self.rf.fit(X, y)\n",
    "        self.svm.fit(X, y)\n",
    "        self.trained = True\n",
    "    \n",
    "    def predict(self, X):\n",
    "        if self.trained == False:\n",
    "            raise NotFittedError('Please train the classifier before making a prediction')\n",
    "        if self.verbose:\n",
    "            print('-------- Making and combining predictions --------')\n",
    "        predictions = list()\n",
    "        pred_ann = self.ann.predict(X)\n",
    "        pred_ann = (pred_ann > 0.5)*1\n",
    "        pred_rf = self.rf.predict(X)\n",
    "        pred_svm = self.svm.predict(X)\n",
    "        for n in range(len(pred_ann)):\n",
    "            combined = pred_ann[n] + pred_rf[n] + pred_svm[n]\n",
    "            p = 0 if combined == 1 or combined == 0 else 1\n",
    "            predictions.append(p)\n",
    "        return predictions"
   ]
  },
  {
   "cell_type": "code",
   "execution_count": 39,
   "metadata": {},
   "outputs": [
    {
     "name": "stdout",
     "output_type": "stream",
     "text": [
      "-------- Fitting models --------\n",
      "-------- Making and combining predictions --------\n"
     ]
    },
    {
     "data": {
      "text/html": [
       "<div>\n",
       "<style scoped>\n",
       "    .dataframe tbody tr th:only-of-type {\n",
       "        vertical-align: middle;\n",
       "    }\n",
       "\n",
       "    .dataframe tbody tr th {\n",
       "        vertical-align: top;\n",
       "    }\n",
       "\n",
       "    .dataframe thead th {\n",
       "        text-align: right;\n",
       "    }\n",
       "</style>\n",
       "<table border=\"1\" class=\"dataframe\">\n",
       "  <thead>\n",
       "    <tr style=\"text-align: right;\">\n",
       "      <th></th>\n",
       "      <th>precision</th>\n",
       "      <th>recall</th>\n",
       "      <th>f1-score</th>\n",
       "      <th>support</th>\n",
       "    </tr>\n",
       "  </thead>\n",
       "  <tbody>\n",
       "    <tr>\n",
       "      <th>0</th>\n",
       "      <td>0.82</td>\n",
       "      <td>0.93</td>\n",
       "      <td>0.87</td>\n",
       "      <td>105</td>\n",
       "    </tr>\n",
       "    <tr>\n",
       "      <th>1</th>\n",
       "      <td>0.88</td>\n",
       "      <td>0.72</td>\n",
       "      <td>0.79</td>\n",
       "      <td>74</td>\n",
       "    </tr>\n",
       "    <tr>\n",
       "      <th>macro avg</th>\n",
       "      <td>0.85</td>\n",
       "      <td>0.82</td>\n",
       "      <td>0.83</td>\n",
       "      <td>179</td>\n",
       "    </tr>\n",
       "    <tr>\n",
       "      <th>micro avg</th>\n",
       "      <td>0.84</td>\n",
       "      <td>0.84</td>\n",
       "      <td>0.84</td>\n",
       "      <td>179</td>\n",
       "    </tr>\n",
       "    <tr>\n",
       "      <th>weighted avg</th>\n",
       "      <td>0.85</td>\n",
       "      <td>0.84</td>\n",
       "      <td>0.84</td>\n",
       "      <td>179</td>\n",
       "    </tr>\n",
       "  </tbody>\n",
       "</table>\n",
       "</div>"
      ],
      "text/plain": [
       "              precision  recall  f1-score  support\n",
       "0                  0.82    0.93      0.87      105\n",
       "1                  0.88    0.72      0.79       74\n",
       "macro avg          0.85    0.82      0.83      179\n",
       "micro avg          0.84    0.84      0.84      179\n",
       "weighted avg       0.85    0.84      0.84      179"
      ]
     },
     "metadata": {},
     "output_type": "display_data"
    },
    {
     "data": {
      "image/png": "[encoded data removed]",
      "text/plain": [
       "<Figure size 396x396 with 2 Axes>"
      ]
     },
     "metadata": {
      "needs_background": "light"
     },
     "output_type": "display_data"
    }
   ],
   "source": [
    "ens = EsemblingClassifier()\n",
    "ens.fit(X_train, Y_train)\n",
    "ens_prediction = ens.predict(X_test)\n",
    "score = metrics.accuracy_score(Y_test, ens_prediction)\n",
    "display_confusion_matrix(Y_test, ens_prediction, score=score)"
   ]
  },
  {
   "cell_type": "markdown",
   "metadata": {},
   "source": [
    "### Our new model seems to be quite performing ! You can try to train and validate it several time on train_test_split, you'll see that the variance is not high so our model is also quite constant in its performances.\n",
    "### Let's try this new model on the test dataset now !"
   ]
  },
  {
   "cell_type": "markdown",
   "metadata": {
    "_uuid": "06c3acf429d8d09968c07e8c1c06f88875bb62db"
   },
   "source": [
    "## **6. Apply our homemade model on test dataset and submit on kaggle** <a name=\"submission\"></a>"
   ]
  },
  {
   "cell_type": "code",
   "execution_count": 61,
   "metadata": {
    "_uuid": "962229f11da6b327557f53e048f0a55068f6dc4a"
   },
   "outputs": [
    {
     "data": {
      "text/html": [
       "<div>\n",
       "<style scoped>\n",
       "    .dataframe tbody tr th:only-of-type {\n",
       "        vertical-align: middle;\n",
       "    }\n",
       "\n",
       "    .dataframe tbody tr th {\n",
       "        vertical-align: top;\n",
       "    }\n",
       "\n",
       "    .dataframe thead th {\n",
       "        text-align: right;\n",
       "    }\n",
       "</style>\n",
       "<table border=\"1\" class=\"dataframe\">\n",
       "  <thead>\n",
       "    <tr style=\"text-align: right;\">\n",
       "      <th></th>\n",
       "      <th>Pclass</th>\n",
       "      <th>Sex</th>\n",
       "      <th>Age</th>\n",
       "      <th>SibSp</th>\n",
       "      <th>Parch</th>\n",
       "      <th>Fare</th>\n",
       "      <th>Cabin</th>\n",
       "      <th>Embarked</th>\n",
       "      <th>Title</th>\n",
       "      <th>FamillySize</th>\n",
       "      <th>IsAlone</th>\n",
       "      <th>IsChild</th>\n",
       "      <th>TicketSurvivor</th>\n",
       "    </tr>\n",
       "  </thead>\n",
       "  <tbody>\n",
       "    <tr>\n",
       "      <th>0</th>\n",
       "      <td>0.873482</td>\n",
       "      <td>-0.755929</td>\n",
       "      <td>0.386231</td>\n",
       "      <td>-0.499470</td>\n",
       "      <td>-0.400248</td>\n",
       "      <td>-0.497185</td>\n",
       "      <td>0.400497</td>\n",
       "      <td>2.243165</td>\n",
       "      <td>-0.756787</td>\n",
       "      <td>-0.664957</td>\n",
       "      <td>0.807573</td>\n",
       "      <td>-0.329778</td>\n",
       "      <td>-0.3253</td>\n",
       "    </tr>\n",
       "    <tr>\n",
       "      <th>1</th>\n",
       "      <td>0.873482</td>\n",
       "      <td>1.322876</td>\n",
       "      <td>1.371370</td>\n",
       "      <td>0.616992</td>\n",
       "      <td>-0.400248</td>\n",
       "      <td>-0.512048</td>\n",
       "      <td>0.400497</td>\n",
       "      <td>-0.677841</td>\n",
       "      <td>1.245346</td>\n",
       "      <td>0.731787</td>\n",
       "      <td>-1.238278</td>\n",
       "      <td>-0.329778</td>\n",
       "      <td>-0.3253</td>\n",
       "    </tr>\n",
       "    <tr>\n",
       "      <th>2</th>\n",
       "      <td>-0.315819</td>\n",
       "      <td>-0.755929</td>\n",
       "      <td>2.553537</td>\n",
       "      <td>-0.499470</td>\n",
       "      <td>-0.400248</td>\n",
       "      <td>-0.463874</td>\n",
       "      <td>0.400497</td>\n",
       "      <td>2.243165</td>\n",
       "      <td>0.244279</td>\n",
       "      <td>-0.664957</td>\n",
       "      <td>0.807573</td>\n",
       "      <td>-0.329778</td>\n",
       "      <td>-0.3253</td>\n",
       "    </tr>\n",
       "    <tr>\n",
       "      <th>3</th>\n",
       "      <td>0.873482</td>\n",
       "      <td>-0.755929</td>\n",
       "      <td>-0.204852</td>\n",
       "      <td>-0.499470</td>\n",
       "      <td>-0.400248</td>\n",
       "      <td>-0.482248</td>\n",
       "      <td>0.400497</td>\n",
       "      <td>-0.677841</td>\n",
       "      <td>1.245346</td>\n",
       "      <td>-0.664957</td>\n",
       "      <td>0.807573</td>\n",
       "      <td>-0.329778</td>\n",
       "      <td>-0.3253</td>\n",
       "    </tr>\n",
       "    <tr>\n",
       "      <th>4</th>\n",
       "      <td>0.873482</td>\n",
       "      <td>1.322876</td>\n",
       "      <td>-0.598908</td>\n",
       "      <td>0.616992</td>\n",
       "      <td>0.619896</td>\n",
       "      <td>-0.417269</td>\n",
       "      <td>0.400497</td>\n",
       "      <td>-0.677841</td>\n",
       "      <td>-0.756787</td>\n",
       "      <td>0.731787</td>\n",
       "      <td>-1.238278</td>\n",
       "      <td>-0.329778</td>\n",
       "      <td>-0.3253</td>\n",
       "    </tr>\n",
       "  </tbody>\n",
       "</table>\n",
       "</div>"
      ],
      "text/plain": [
       "     Pclass       Sex       Age     SibSp     Parch      Fare     Cabin  \\\n",
       "0  0.873482 -0.755929  0.386231 -0.499470 -0.400248 -0.497185  0.400497   \n",
       "1  0.873482  1.322876  1.371370  0.616992 -0.400248 -0.512048  0.400497   \n",
       "2 -0.315819 -0.755929  2.553537 -0.499470 -0.400248 -0.463874  0.400497   \n",
       "3  0.873482 -0.755929 -0.204852 -0.499470 -0.400248 -0.482248  0.400497   \n",
       "4  0.873482  1.322876 -0.598908  0.616992  0.619896 -0.417269  0.400497   \n",
       "\n",
       "   Embarked     Title  FamillySize   IsAlone   IsChild  TicketSurvivor  \n",
       "0  2.243165 -0.756787    -0.664957  0.807573 -0.329778         -0.3253  \n",
       "1 -0.677841  1.245346     0.731787 -1.238278 -0.329778         -0.3253  \n",
       "2  2.243165  0.244279    -0.664957  0.807573 -0.329778         -0.3253  \n",
       "3 -0.677841  1.245346    -0.664957  0.807573 -0.329778         -0.3253  \n",
       "4 -0.677841 -0.756787     0.731787 -1.238278 -0.329778         -0.3253  "
      ]
     },
     "execution_count": 61,
     "metadata": {},
     "output_type": "execute_result"
    }
   ],
   "source": [
    "test_df_raw = pd.read_csv(path_test)\n",
    "test = test_df_raw.copy()\n",
    "test = preprocess_data(test)\n",
    "test = pd.DataFrame(sc.fit_transform(test.values), index=test.index, columns=test.columns)\n",
    "test.head()"
   ]
  },
  {
   "cell_type": "code",
   "execution_count": 66,
   "metadata": {
    "_kg_hide-output": true,
    "_uuid": "499d60687a2a8ce30edbdf17e2f3ed89d7d9e7bc"
   },
   "outputs": [
    {
     "name": "stdout",
     "output_type": "stream",
     "text": [
      "-------- Fitting models --------\n",
      "-------- Making and combining predictions --------\n"
     ]
    }
   ],
   "source": [
    "# Create and train model on train data sample\n",
    "model_test = EsemblingClassifier()\n",
    "model_test.fit(X, Y)\n",
    "\n",
    "# Predict for test data sample\n",
    "prediction = model_test.predict(test)\n",
    "\n",
    "result_df = test_df_raw.copy()\n",
    "result_df['Survived'] = prediction\n",
    "result_df.to_csv('submission.csv', columns=['PassengerId', 'Survived'], index=False)"
   ]
  },
  {
   "cell_type": "code",
   "execution_count": 27,
   "metadata": {
    "_uuid": "2ed93ead5811df4092719d4f068dd714c8267cfe"
   },
   "outputs": [
    {
     "data": {
      "text/html": [
       "<div>\n",
       "<style scoped>\n",
       "    .dataframe tbody tr th:only-of-type {\n",
       "        vertical-align: middle;\n",
       "    }\n",
       "\n",
       "    .dataframe tbody tr th {\n",
       "        vertical-align: top;\n",
       "    }\n",
       "\n",
       "    .dataframe thead th {\n",
       "        text-align: right;\n",
       "    }\n",
       "</style>\n",
       "<table border=\"1\" class=\"dataframe\">\n",
       "  <thead>\n",
       "    <tr style=\"text-align: right;\">\n",
       "      <th></th>\n",
       "      <th>PassengerId</th>\n",
       "      <th>Survived</th>\n",
       "    </tr>\n",
       "  </thead>\n",
       "  <tbody>\n",
       "    <tr>\n",
       "      <th>0</th>\n",
       "      <td>892</td>\n",
       "      <td>0</td>\n",
       "    </tr>\n",
       "    <tr>\n",
       "      <th>1</th>\n",
       "      <td>893</td>\n",
       "      <td>0</td>\n",
       "    </tr>\n",
       "    <tr>\n",
       "      <th>2</th>\n",
       "      <td>894</td>\n",
       "      <td>0</td>\n",
       "    </tr>\n",
       "    <tr>\n",
       "      <th>3</th>\n",
       "      <td>895</td>\n",
       "      <td>0</td>\n",
       "    </tr>\n",
       "    <tr>\n",
       "      <th>4</th>\n",
       "      <td>896</td>\n",
       "      <td>0</td>\n",
       "    </tr>\n",
       "    <tr>\n",
       "      <th>5</th>\n",
       "      <td>897</td>\n",
       "      <td>0</td>\n",
       "    </tr>\n",
       "    <tr>\n",
       "      <th>6</th>\n",
       "      <td>898</td>\n",
       "      <td>0</td>\n",
       "    </tr>\n",
       "    <tr>\n",
       "      <th>7</th>\n",
       "      <td>899</td>\n",
       "      <td>0</td>\n",
       "    </tr>\n",
       "    <tr>\n",
       "      <th>8</th>\n",
       "      <td>900</td>\n",
       "      <td>1</td>\n",
       "    </tr>\n",
       "    <tr>\n",
       "      <th>9</th>\n",
       "      <td>901</td>\n",
       "      <td>0</td>\n",
       "    </tr>\n",
       "  </tbody>\n",
       "</table>\n",
       "</div>"
      ],
      "text/plain": [
       "   PassengerId  Survived\n",
       "0          892         0\n",
       "1          893         0\n",
       "2          894         0\n",
       "3          895         0\n",
       "4          896         0\n",
       "5          897         0\n",
       "6          898         0\n",
       "7          899         0\n",
       "8          900         1\n",
       "9          901         0"
      ]
     },
     "execution_count": 27,
     "metadata": {},
     "output_type": "execute_result"
    }
   ],
   "source": [
    "result_df[['PassengerId', 'Survived']].head(10)"
   ]
  },
  {
   "cell_type": "markdown",
   "metadata": {},
   "source": [
    "## **7. Results** <a name=\"results\"></a>"
   ]
  },
  {
   "cell_type": "markdown",
   "metadata": {},
   "source": [
    "### We are not done yet ! What about the results ? I've tried to make 25 submissions with this classifier, here are the results :\n",
    "\n",
    "#### - 3x 0.77511\n",
    "#### - 2x 0.77990\n",
    "#### - 7x 0.78468\n",
    "#### - 11x 0.78947\n",
    "#### - 1x 0.79425\n",
    "#### - 1x 0.79904\n",
    "\n",
    "### Although I know that we can do much better, the 0.79904 still places us in the top 16%. On the other hand, we see that our homemade classifier has reduced the variance so it is reliable and constant in its performance (something that is not tested by the leaderboard but still important for a data sceintist). Moreover, our solution remains simple and accessible even for beginners. \n",
    "\n",
    "### Thank you for your reading, feel free to fork this kernel and improve it, and enjoy datascience :D"
   ]
  },
  {
   "cell_type": "code",
   "execution_count": 29,
   "metadata": {},
   "outputs": [
    {
     "data": {
      "image/png": "[encoded data removed]",
      "text/plain": [
       "<Figure size 1440x576 with 1 Axes>"
      ]
     },
     "metadata": {
      "needs_background": "light"
     },
     "output_type": "display_data"
    }
   ],
   "source": [
    "import scipy.stats as stats\n",
    "\n",
    "plt.figure(figsize=(20, 8))\n",
    "sub = 2*[0.77511] + 3*[0.77990] + 8*[0.78468] + 11*[0.78947] + 1*[0.79425] + 1*[0.79904]\n",
    "sns.distplot(sub)\n",
    "plt.show()"
   ]
  },
  {
   "cell_type": "markdown",
   "metadata": {},
   "source": [
    "*Check out this beautiful distribution of kaggle scoring for our homemade classifier !*"
   ]
  }
 ],
 "metadata": {
  "kernelspec": {
   "display_name": "mlenv",
   "language": "python",
   "name": "mlenv"
  },
  "language_info": {
   "codemirror_mode": {
    "name": "ipython",
    "version": 3
   },
   "file_extension": ".py",
   "mimetype": "text/x-python",
   "name": "python",
   "nbconvert_exporter": "python",
   "pygments_lexer": "ipython3",
   "version": "3.6.7"
  }
 },
 "nbformat": 4,
 "nbformat_minor": 2
}
